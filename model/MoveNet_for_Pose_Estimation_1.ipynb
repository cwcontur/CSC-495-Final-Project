{
  "nbformat": 4,
  "nbformat_minor": 0,
  "metadata": {
    "colab": {
      "name": "MoveNet for Pose Estimation_1.ipynb",
      "provenance": [],
      "machine_shape": "hm",
      "collapsed_sections": [
        "r10aHhV-piqe",
        "NBrCpFISpyca"
      ]
    },
    "kernelspec": {
      "name": "python3",
      "display_name": "Python 3"
    },
    "language_info": {
      "name": "python"
    },
    "accelerator": "GPU",
    "widgets": {
      "application/vnd.jupyter.widget-state+json": {
        "c642d2acf39b48148bc361d3c80b15e5": {
          "model_module": "@jupyter-widgets/controls",
          "model_name": "HBoxModel",
          "model_module_version": "1.5.0",
          "state": {
            "_dom_classes": [],
            "_model_module": "@jupyter-widgets/controls",
            "_model_module_version": "1.5.0",
            "_model_name": "HBoxModel",
            "_view_count": null,
            "_view_module": "@jupyter-widgets/controls",
            "_view_module_version": "1.5.0",
            "_view_name": "HBoxView",
            "box_style": "",
            "children": [
              "IPY_MODEL_854af8e2153444aeb663992626c69e66",
              "IPY_MODEL_7866609056b946e9865ea4ef7df98a86",
              "IPY_MODEL_c4e39cb6412a4596adb40f3b77137cf0"
            ],
            "layout": "IPY_MODEL_238934b79d624c9393e6248bc9d34891"
          }
        },
        "854af8e2153444aeb663992626c69e66": {
          "model_module": "@jupyter-widgets/controls",
          "model_name": "HTMLModel",
          "model_module_version": "1.5.0",
          "state": {
            "_dom_classes": [],
            "_model_module": "@jupyter-widgets/controls",
            "_model_module_version": "1.5.0",
            "_model_name": "HTMLModel",
            "_view_count": null,
            "_view_module": "@jupyter-widgets/controls",
            "_view_module_version": "1.5.0",
            "_view_name": "HTMLView",
            "description": "",
            "description_tooltip": null,
            "layout": "IPY_MODEL_cabd3d4e121a4be682df081a6e65fa7e",
            "placeholder": "​",
            "style": "IPY_MODEL_10f66fbb7a474fffb77b4a29541dfea9",
            "value": "Making predictions: 100%"
          }
        },
        "7866609056b946e9865ea4ef7df98a86": {
          "model_module": "@jupyter-widgets/controls",
          "model_name": "FloatProgressModel",
          "model_module_version": "1.5.0",
          "state": {
            "_dom_classes": [],
            "_model_module": "@jupyter-widgets/controls",
            "_model_module_version": "1.5.0",
            "_model_name": "FloatProgressModel",
            "_view_count": null,
            "_view_module": "@jupyter-widgets/controls",
            "_view_module_version": "1.5.0",
            "_view_name": "ProgressView",
            "bar_style": "success",
            "description": "",
            "description_tooltip": null,
            "layout": "IPY_MODEL_ab75f1d7e54446f78269cb5e18e38086",
            "max": 2247,
            "min": 0,
            "orientation": "horizontal",
            "style": "IPY_MODEL_11540e250c0646db9ac1d6d5d1b21cae",
            "value": 2247
          }
        },
        "c4e39cb6412a4596adb40f3b77137cf0": {
          "model_module": "@jupyter-widgets/controls",
          "model_name": "HTMLModel",
          "model_module_version": "1.5.0",
          "state": {
            "_dom_classes": [],
            "_model_module": "@jupyter-widgets/controls",
            "_model_module_version": "1.5.0",
            "_model_name": "HTMLModel",
            "_view_count": null,
            "_view_module": "@jupyter-widgets/controls",
            "_view_module_version": "1.5.0",
            "_view_name": "HTMLView",
            "description": "",
            "description_tooltip": null,
            "layout": "IPY_MODEL_c150d25c5ca14edf98e4f5e12036b3fb",
            "placeholder": "​",
            "style": "IPY_MODEL_ab1d01b47f6749c6a69ccadb1b5d2139",
            "value": " 2247/2247 [01:40&lt;00:00, 23.49it/s]"
          }
        },
        "238934b79d624c9393e6248bc9d34891": {
          "model_module": "@jupyter-widgets/base",
          "model_name": "LayoutModel",
          "model_module_version": "1.2.0",
          "state": {
            "_model_module": "@jupyter-widgets/base",
            "_model_module_version": "1.2.0",
            "_model_name": "LayoutModel",
            "_view_count": null,
            "_view_module": "@jupyter-widgets/base",
            "_view_module_version": "1.2.0",
            "_view_name": "LayoutView",
            "align_content": null,
            "align_items": null,
            "align_self": null,
            "border": null,
            "bottom": null,
            "display": null,
            "flex": null,
            "flex_flow": null,
            "grid_area": null,
            "grid_auto_columns": null,
            "grid_auto_flow": null,
            "grid_auto_rows": null,
            "grid_column": null,
            "grid_gap": null,
            "grid_row": null,
            "grid_template_areas": null,
            "grid_template_columns": null,
            "grid_template_rows": null,
            "height": null,
            "justify_content": null,
            "justify_items": null,
            "left": null,
            "margin": null,
            "max_height": null,
            "max_width": null,
            "min_height": null,
            "min_width": null,
            "object_fit": null,
            "object_position": null,
            "order": null,
            "overflow": null,
            "overflow_x": null,
            "overflow_y": null,
            "padding": null,
            "right": null,
            "top": null,
            "visibility": null,
            "width": null
          }
        },
        "cabd3d4e121a4be682df081a6e65fa7e": {
          "model_module": "@jupyter-widgets/base",
          "model_name": "LayoutModel",
          "model_module_version": "1.2.0",
          "state": {
            "_model_module": "@jupyter-widgets/base",
            "_model_module_version": "1.2.0",
            "_model_name": "LayoutModel",
            "_view_count": null,
            "_view_module": "@jupyter-widgets/base",
            "_view_module_version": "1.2.0",
            "_view_name": "LayoutView",
            "align_content": null,
            "align_items": null,
            "align_self": null,
            "border": null,
            "bottom": null,
            "display": null,
            "flex": null,
            "flex_flow": null,
            "grid_area": null,
            "grid_auto_columns": null,
            "grid_auto_flow": null,
            "grid_auto_rows": null,
            "grid_column": null,
            "grid_gap": null,
            "grid_row": null,
            "grid_template_areas": null,
            "grid_template_columns": null,
            "grid_template_rows": null,
            "height": null,
            "justify_content": null,
            "justify_items": null,
            "left": null,
            "margin": null,
            "max_height": null,
            "max_width": null,
            "min_height": null,
            "min_width": null,
            "object_fit": null,
            "object_position": null,
            "order": null,
            "overflow": null,
            "overflow_x": null,
            "overflow_y": null,
            "padding": null,
            "right": null,
            "top": null,
            "visibility": null,
            "width": null
          }
        },
        "10f66fbb7a474fffb77b4a29541dfea9": {
          "model_module": "@jupyter-widgets/controls",
          "model_name": "DescriptionStyleModel",
          "model_module_version": "1.5.0",
          "state": {
            "_model_module": "@jupyter-widgets/controls",
            "_model_module_version": "1.5.0",
            "_model_name": "DescriptionStyleModel",
            "_view_count": null,
            "_view_module": "@jupyter-widgets/base",
            "_view_module_version": "1.2.0",
            "_view_name": "StyleView",
            "description_width": ""
          }
        },
        "ab75f1d7e54446f78269cb5e18e38086": {
          "model_module": "@jupyter-widgets/base",
          "model_name": "LayoutModel",
          "model_module_version": "1.2.0",
          "state": {
            "_model_module": "@jupyter-widgets/base",
            "_model_module_version": "1.2.0",
            "_model_name": "LayoutModel",
            "_view_count": null,
            "_view_module": "@jupyter-widgets/base",
            "_view_module_version": "1.2.0",
            "_view_name": "LayoutView",
            "align_content": null,
            "align_items": null,
            "align_self": null,
            "border": null,
            "bottom": null,
            "display": null,
            "flex": null,
            "flex_flow": null,
            "grid_area": null,
            "grid_auto_columns": null,
            "grid_auto_flow": null,
            "grid_auto_rows": null,
            "grid_column": null,
            "grid_gap": null,
            "grid_row": null,
            "grid_template_areas": null,
            "grid_template_columns": null,
            "grid_template_rows": null,
            "height": null,
            "justify_content": null,
            "justify_items": null,
            "left": null,
            "margin": null,
            "max_height": null,
            "max_width": null,
            "min_height": null,
            "min_width": null,
            "object_fit": null,
            "object_position": null,
            "order": null,
            "overflow": null,
            "overflow_x": null,
            "overflow_y": null,
            "padding": null,
            "right": null,
            "top": null,
            "visibility": null,
            "width": null
          }
        },
        "11540e250c0646db9ac1d6d5d1b21cae": {
          "model_module": "@jupyter-widgets/controls",
          "model_name": "ProgressStyleModel",
          "model_module_version": "1.5.0",
          "state": {
            "_model_module": "@jupyter-widgets/controls",
            "_model_module_version": "1.5.0",
            "_model_name": "ProgressStyleModel",
            "_view_count": null,
            "_view_module": "@jupyter-widgets/base",
            "_view_module_version": "1.2.0",
            "_view_name": "StyleView",
            "bar_color": null,
            "description_width": ""
          }
        },
        "c150d25c5ca14edf98e4f5e12036b3fb": {
          "model_module": "@jupyter-widgets/base",
          "model_name": "LayoutModel",
          "model_module_version": "1.2.0",
          "state": {
            "_model_module": "@jupyter-widgets/base",
            "_model_module_version": "1.2.0",
            "_model_name": "LayoutModel",
            "_view_count": null,
            "_view_module": "@jupyter-widgets/base",
            "_view_module_version": "1.2.0",
            "_view_name": "LayoutView",
            "align_content": null,
            "align_items": null,
            "align_self": null,
            "border": null,
            "bottom": null,
            "display": null,
            "flex": null,
            "flex_flow": null,
            "grid_area": null,
            "grid_auto_columns": null,
            "grid_auto_flow": null,
            "grid_auto_rows": null,
            "grid_column": null,
            "grid_gap": null,
            "grid_row": null,
            "grid_template_areas": null,
            "grid_template_columns": null,
            "grid_template_rows": null,
            "height": null,
            "justify_content": null,
            "justify_items": null,
            "left": null,
            "margin": null,
            "max_height": null,
            "max_width": null,
            "min_height": null,
            "min_width": null,
            "object_fit": null,
            "object_position": null,
            "order": null,
            "overflow": null,
            "overflow_x": null,
            "overflow_y": null,
            "padding": null,
            "right": null,
            "top": null,
            "visibility": null,
            "width": null
          }
        },
        "ab1d01b47f6749c6a69ccadb1b5d2139": {
          "model_module": "@jupyter-widgets/controls",
          "model_name": "DescriptionStyleModel",
          "model_module_version": "1.5.0",
          "state": {
            "_model_module": "@jupyter-widgets/controls",
            "_model_module_version": "1.5.0",
            "_model_name": "DescriptionStyleModel",
            "_view_count": null,
            "_view_module": "@jupyter-widgets/base",
            "_view_module_version": "1.2.0",
            "_view_name": "StyleView",
            "description_width": ""
          }
        },
        "766ffd937bd54c00807984bb84720483": {
          "model_module": "@jupyter-widgets/controls",
          "model_name": "HBoxModel",
          "model_module_version": "1.5.0",
          "state": {
            "_dom_classes": [],
            "_model_module": "@jupyter-widgets/controls",
            "_model_module_version": "1.5.0",
            "_model_name": "HBoxModel",
            "_view_count": null,
            "_view_module": "@jupyter-widgets/controls",
            "_view_module_version": "1.5.0",
            "_view_name": "HBoxView",
            "box_style": "",
            "children": [
              "IPY_MODEL_9842dd312bcd4a29a95967a7c22d90af",
              "IPY_MODEL_e43031fc151d425199f5d46ad58f51e7",
              "IPY_MODEL_30fb27522ab34dd58e6a28ea84a0d364"
            ],
            "layout": "IPY_MODEL_41f9b56b709a47afb8f20a894be90064"
          }
        },
        "9842dd312bcd4a29a95967a7c22d90af": {
          "model_module": "@jupyter-widgets/controls",
          "model_name": "HTMLModel",
          "model_module_version": "1.5.0",
          "state": {
            "_dom_classes": [],
            "_model_module": "@jupyter-widgets/controls",
            "_model_module_version": "1.5.0",
            "_model_name": "HTMLModel",
            "_view_count": null,
            "_view_module": "@jupyter-widgets/controls",
            "_view_module_version": "1.5.0",
            "_view_name": "HTMLView",
            "description": "",
            "description_tooltip": null,
            "layout": "IPY_MODEL_0486d946bc0b44aca87d16a90b9525ac",
            "placeholder": "​",
            "style": "IPY_MODEL_7028e5f600f0474e8d26f791c7cebd83",
            "value": "Making predictions on tflite model:: 100%"
          }
        },
        "e43031fc151d425199f5d46ad58f51e7": {
          "model_module": "@jupyter-widgets/controls",
          "model_name": "FloatProgressModel",
          "model_module_version": "1.5.0",
          "state": {
            "_dom_classes": [],
            "_model_module": "@jupyter-widgets/controls",
            "_model_module_version": "1.5.0",
            "_model_name": "FloatProgressModel",
            "_view_count": null,
            "_view_module": "@jupyter-widgets/controls",
            "_view_module_version": "1.5.0",
            "_view_name": "ProgressView",
            "bar_style": "success",
            "description": "",
            "description_tooltip": null,
            "layout": "IPY_MODEL_2673318f2ddc42e0b71a93852109bc47",
            "max": 2247,
            "min": 0,
            "orientation": "horizontal",
            "style": "IPY_MODEL_66aecdd7726448b6878ac620c6fbdfcd",
            "value": 2247
          }
        },
        "30fb27522ab34dd58e6a28ea84a0d364": {
          "model_module": "@jupyter-widgets/controls",
          "model_name": "HTMLModel",
          "model_module_version": "1.5.0",
          "state": {
            "_dom_classes": [],
            "_model_module": "@jupyter-widgets/controls",
            "_model_module_version": "1.5.0",
            "_model_name": "HTMLModel",
            "_view_count": null,
            "_view_module": "@jupyter-widgets/controls",
            "_view_module_version": "1.5.0",
            "_view_name": "HTMLView",
            "description": "",
            "description_tooltip": null,
            "layout": "IPY_MODEL_b7324168ecde42b583e5fb5d192af8e7",
            "placeholder": "​",
            "style": "IPY_MODEL_f28cae5f13f64987a5e273fdd49e5856",
            "value": " 2247/2247 [05:55&lt;00:00,  6.34it/s]"
          }
        },
        "41f9b56b709a47afb8f20a894be90064": {
          "model_module": "@jupyter-widgets/base",
          "model_name": "LayoutModel",
          "model_module_version": "1.2.0",
          "state": {
            "_model_module": "@jupyter-widgets/base",
            "_model_module_version": "1.2.0",
            "_model_name": "LayoutModel",
            "_view_count": null,
            "_view_module": "@jupyter-widgets/base",
            "_view_module_version": "1.2.0",
            "_view_name": "LayoutView",
            "align_content": null,
            "align_items": null,
            "align_self": null,
            "border": null,
            "bottom": null,
            "display": null,
            "flex": null,
            "flex_flow": null,
            "grid_area": null,
            "grid_auto_columns": null,
            "grid_auto_flow": null,
            "grid_auto_rows": null,
            "grid_column": null,
            "grid_gap": null,
            "grid_row": null,
            "grid_template_areas": null,
            "grid_template_columns": null,
            "grid_template_rows": null,
            "height": null,
            "justify_content": null,
            "justify_items": null,
            "left": null,
            "margin": null,
            "max_height": null,
            "max_width": null,
            "min_height": null,
            "min_width": null,
            "object_fit": null,
            "object_position": null,
            "order": null,
            "overflow": null,
            "overflow_x": null,
            "overflow_y": null,
            "padding": null,
            "right": null,
            "top": null,
            "visibility": null,
            "width": null
          }
        },
        "0486d946bc0b44aca87d16a90b9525ac": {
          "model_module": "@jupyter-widgets/base",
          "model_name": "LayoutModel",
          "model_module_version": "1.2.0",
          "state": {
            "_model_module": "@jupyter-widgets/base",
            "_model_module_version": "1.2.0",
            "_model_name": "LayoutModel",
            "_view_count": null,
            "_view_module": "@jupyter-widgets/base",
            "_view_module_version": "1.2.0",
            "_view_name": "LayoutView",
            "align_content": null,
            "align_items": null,
            "align_self": null,
            "border": null,
            "bottom": null,
            "display": null,
            "flex": null,
            "flex_flow": null,
            "grid_area": null,
            "grid_auto_columns": null,
            "grid_auto_flow": null,
            "grid_auto_rows": null,
            "grid_column": null,
            "grid_gap": null,
            "grid_row": null,
            "grid_template_areas": null,
            "grid_template_columns": null,
            "grid_template_rows": null,
            "height": null,
            "justify_content": null,
            "justify_items": null,
            "left": null,
            "margin": null,
            "max_height": null,
            "max_width": null,
            "min_height": null,
            "min_width": null,
            "object_fit": null,
            "object_position": null,
            "order": null,
            "overflow": null,
            "overflow_x": null,
            "overflow_y": null,
            "padding": null,
            "right": null,
            "top": null,
            "visibility": null,
            "width": null
          }
        },
        "7028e5f600f0474e8d26f791c7cebd83": {
          "model_module": "@jupyter-widgets/controls",
          "model_name": "DescriptionStyleModel",
          "model_module_version": "1.5.0",
          "state": {
            "_model_module": "@jupyter-widgets/controls",
            "_model_module_version": "1.5.0",
            "_model_name": "DescriptionStyleModel",
            "_view_count": null,
            "_view_module": "@jupyter-widgets/base",
            "_view_module_version": "1.2.0",
            "_view_name": "StyleView",
            "description_width": ""
          }
        },
        "2673318f2ddc42e0b71a93852109bc47": {
          "model_module": "@jupyter-widgets/base",
          "model_name": "LayoutModel",
          "model_module_version": "1.2.0",
          "state": {
            "_model_module": "@jupyter-widgets/base",
            "_model_module_version": "1.2.0",
            "_model_name": "LayoutModel",
            "_view_count": null,
            "_view_module": "@jupyter-widgets/base",
            "_view_module_version": "1.2.0",
            "_view_name": "LayoutView",
            "align_content": null,
            "align_items": null,
            "align_self": null,
            "border": null,
            "bottom": null,
            "display": null,
            "flex": null,
            "flex_flow": null,
            "grid_area": null,
            "grid_auto_columns": null,
            "grid_auto_flow": null,
            "grid_auto_rows": null,
            "grid_column": null,
            "grid_gap": null,
            "grid_row": null,
            "grid_template_areas": null,
            "grid_template_columns": null,
            "grid_template_rows": null,
            "height": null,
            "justify_content": null,
            "justify_items": null,
            "left": null,
            "margin": null,
            "max_height": null,
            "max_width": null,
            "min_height": null,
            "min_width": null,
            "object_fit": null,
            "object_position": null,
            "order": null,
            "overflow": null,
            "overflow_x": null,
            "overflow_y": null,
            "padding": null,
            "right": null,
            "top": null,
            "visibility": null,
            "width": null
          }
        },
        "66aecdd7726448b6878ac620c6fbdfcd": {
          "model_module": "@jupyter-widgets/controls",
          "model_name": "ProgressStyleModel",
          "model_module_version": "1.5.0",
          "state": {
            "_model_module": "@jupyter-widgets/controls",
            "_model_module_version": "1.5.0",
            "_model_name": "ProgressStyleModel",
            "_view_count": null,
            "_view_module": "@jupyter-widgets/base",
            "_view_module_version": "1.2.0",
            "_view_name": "StyleView",
            "bar_color": null,
            "description_width": ""
          }
        },
        "b7324168ecde42b583e5fb5d192af8e7": {
          "model_module": "@jupyter-widgets/base",
          "model_name": "LayoutModel",
          "model_module_version": "1.2.0",
          "state": {
            "_model_module": "@jupyter-widgets/base",
            "_model_module_version": "1.2.0",
            "_model_name": "LayoutModel",
            "_view_count": null,
            "_view_module": "@jupyter-widgets/base",
            "_view_module_version": "1.2.0",
            "_view_name": "LayoutView",
            "align_content": null,
            "align_items": null,
            "align_self": null,
            "border": null,
            "bottom": null,
            "display": null,
            "flex": null,
            "flex_flow": null,
            "grid_area": null,
            "grid_auto_columns": null,
            "grid_auto_flow": null,
            "grid_auto_rows": null,
            "grid_column": null,
            "grid_gap": null,
            "grid_row": null,
            "grid_template_areas": null,
            "grid_template_columns": null,
            "grid_template_rows": null,
            "height": null,
            "justify_content": null,
            "justify_items": null,
            "left": null,
            "margin": null,
            "max_height": null,
            "max_width": null,
            "min_height": null,
            "min_width": null,
            "object_fit": null,
            "object_position": null,
            "order": null,
            "overflow": null,
            "overflow_x": null,
            "overflow_y": null,
            "padding": null,
            "right": null,
            "top": null,
            "visibility": null,
            "width": null
          }
        },
        "f28cae5f13f64987a5e273fdd49e5856": {
          "model_module": "@jupyter-widgets/controls",
          "model_name": "DescriptionStyleModel",
          "model_module_version": "1.5.0",
          "state": {
            "_model_module": "@jupyter-widgets/controls",
            "_model_module_version": "1.5.0",
            "_model_name": "DescriptionStyleModel",
            "_view_count": null,
            "_view_module": "@jupyter-widgets/base",
            "_view_module_version": "1.2.0",
            "_view_name": "StyleView",
            "description_width": ""
          }
        }
      }
    }
  },
  "cells": [
    {
      "cell_type": "markdown",
      "source": [
        "## Import Modules"
      ],
      "metadata": {
        "id": "TiFGh3zhlUOm"
      }
    },
    {
      "cell_type": "code",
      "execution_count": null,
      "metadata": {
        "id": "LXQ6sjhmkTut"
      },
      "outputs": [],
      "source": [
        "%%capture\n",
        "!pip install tensorflow_model_optimization"
      ]
    },
    {
      "cell_type": "code",
      "source": [
        "import os\n",
        "import re\n",
        "from collections import defaultdict\n",
        "import shutil\n",
        "import json\n",
        "import random\n",
        "from ast import literal_eval\n",
        "\n",
        "import numpy as np\n",
        "import pandas as pd\n",
        "\n",
        "import matplotlib.pyplot as plt\n",
        "import matplotlib.image as mpimg\n",
        "from matplotlib.collections import LineCollection\n",
        "\n",
        "import cv2\n",
        "\n",
        "from tensorflow.keras.models import Sequential\n",
        "from tensorflow.keras.layers import Input, Dense, Conv2D, MaxPool2D, BatchNormalization, Flatten, Dropout, LeakyReLU\n",
        "from tensorflow.keras.utils import plot_model\n",
        "from tensorflow.keras.optimizers import Adam\n",
        "from tensorflow.keras.callbacks import ReduceLROnPlateau, EarlyStopping\n",
        "from tensorflow.keras.losses import mean_squared_error\n",
        "\n",
        "from sklearn.model_selection import train_test_split\n",
        "\n",
        "import tensorflow_model_optimization as tfmot\n",
        "import tensorflow as tf\n",
        "from tqdm.notebook import tqdm"
      ],
      "metadata": {
        "id": "8KTP4l6Vljqz"
      },
      "execution_count": null,
      "outputs": []
    },
    {
      "cell_type": "markdown",
      "source": [
        "### Helper functions"
      ],
      "metadata": {
        "id": "zYYeCbBbt1Dj"
      }
    },
    {
      "cell_type": "code",
      "source": [
        "def read_image(img_loc: str, channel: \"gray or rgb\"=\"gray\"):\n",
        "    channel = channel.lower()\n",
        "    assert channel in [\"gray\", \"rgb\"]\n",
        "    image = cv2.imread(img_loc)\n",
        "    if channel == \"rgb\":\n",
        "        image = cv2.cvtColor(image, cv2.COLOR_BGR2RGB)\n",
        "    else:\n",
        "        image = cv2.cvtColor(image, cv2.COLOR_BGR2GRAY)\n",
        "        image = np.expand_dims(image, axis=-1)\n",
        "        image = np.repeat(image, 3, axis=-1)\n",
        "        height, width, channel = image.shape\n",
        "    return image"
      ],
      "metadata": {
        "id": "P3H9fsXat0oW"
      },
      "execution_count": null,
      "outputs": []
    },
    {
      "cell_type": "code",
      "source": [
        "def display_image(image: \"image_loc or numpy.ndarray\", ratio:int=5, **kwargs):\n",
        "    assert isinstance(image, str) or isinstance(image, np.ndarray)\n",
        "    channel = kwargs.get(\"channel\", \"gray\")\n",
        "    if isinstance(image, str):\n",
        "        image = read_image(image, channel)\n",
        "#     else:\n",
        "#         if channel == \"gray\": image = cv2.cvtColor(image, cv2.COLOR_RGB2GRAY)\n",
        "    assert isinstance(image, np.ndarray)\n",
        "    height, width = image.shape[0], image.shape[1]\n",
        "    aspect_ratio = float(width) / height\n",
        "    fig, ax = plt.subplots(figsize=(ratio*aspect_ratio, ratio))\n",
        "    fig.tight_layout(pad=0)\n",
        "    ax.margins(0)\n",
        "    ax.set_yticklabels([])\n",
        "    ax.set_xticklabels([])\n",
        "    plt.axis('off')\n",
        "    cmap = channel if channel == \"gray\" else \"viridis\"\n",
        "    ax.imshow(image, cmap=cmap)\n",
        "    return ax"
      ],
      "metadata": {
        "id": "4JShDPLKt8Dm"
      },
      "execution_count": null,
      "outputs": []
    },
    {
      "cell_type": "code",
      "source": [
        "def get_line_segments(x):\n",
        "    groups = [\n",
        "        [\"left_shoulder\", \"left_elbow\"],\n",
        "        [\"left_elbow\", \"left_wrist\"],\n",
        "        [\"right_shoulder\", \"right_elbow\"],\n",
        "        [\"right_elbow\", \"right_wrist\"],\n",
        "        [\"left_ankle\", \"left_knee\"],\n",
        "        [\"left_knee\", \"left_hip\"],\n",
        "        [\"right_ankle\", \"right_knee\"],\n",
        "        [\"right_knee\", \"right_hip\"],\n",
        "        [\"left_shoulder\", \"right_shoulder\"],\n",
        "        [\"left_hip\", \"right_hip\"]\n",
        "    ]\n",
        "    \n",
        "    lines = []\n",
        "    for i in groups:\n",
        "        if x[i[0]][0] != -1 and x[i[1]][0] != -1:\n",
        "            lines.append([x[i[0]], x[i[1]]])\n",
        "    if x[groups[-2][0]][0] != -1 and x[groups[-2][1]][0] != -1:\n",
        "        if x[groups[-1][0]][0] != -1 and x[groups[-1][1]][0] != -1:\n",
        "            lines.append([\n",
        "                [(x[groups[-2][0]][0] + x[groups[-2][1]][0])/2, (x[groups[-2][0]][1] + x[groups[-2][1]][1])/2],\n",
        "                [(x[groups[-1][0]][0] + x[groups[-1][1]][0])/2, (x[groups[-1][0]][1] + x[groups[-1][1]][1])/2]\n",
        "            ])\n",
        "    return lines"
      ],
      "metadata": {
        "id": "F8Pd0Mjst-II"
      },
      "execution_count": null,
      "outputs": []
    },
    {
      "cell_type": "code",
      "source": [
        "def display_image_with_pose(image: \"image_loc or numpy.ndarray\", pose: \"pandas.core.frame.DataFrame\", ratio:int=5, **kwargs):\n",
        "    ax = display_image(image, ratio, **kwargs)\n",
        "    line_segments = LineCollection([], linewidths=(3), linestyle='solid', color='red')\n",
        "    ax.add_collection(line_segments)\n",
        "    temp = get_line_segments(pose)\n",
        "#     temp = pose.apply(lambda x: get_line_segments(x), axis=1).to_list()[0]\n",
        "    dots = list(set((j[0], j[1]) for i in temp for j in i))\n",
        "    line_segments.set_segments(temp)\n",
        "    for i in dots:\n",
        "        plt.scatter(i[0], i[1], s=20, zorder=3, color='white')\n",
        "    return ax"
      ],
      "metadata": {
        "id": "rQKJGp4et_mN"
      },
      "execution_count": null,
      "outputs": []
    },
    {
      "cell_type": "code",
      "source": [
        "def datapoint_correction(x):\n",
        "    temp = []\n",
        "    for i in x:\n",
        "        if i[0] == -1 or i[1] == -1:\n",
        "            temp.append((-1, -1))\n",
        "        else:\n",
        "            temp.append(i)\n",
        "    return pd.Series(temp)"
      ],
      "metadata": {
        "id": "oUQeKlGbuDBx"
      },
      "execution_count": null,
      "outputs": []
    },
    {
      "cell_type": "markdown",
      "source": [
        "### Define variables and directories"
      ],
      "metadata": {
        "id": "aceJct4Qltpw"
      }
    },
    {
      "cell_type": "code",
      "source": [
        "BASE_DIR = \"/content/drive/MyDrive/CNN/Regressor\"\n",
        "DATA_DIR = os.path.join(BASE_DIR, \"data\")\n",
        "INPUT_DIR = os.path.join(DATA_DIR, \"inputs\", \"gray_ch_1_224\")\n",
        "ANNOTATION = os.path.join(INPUT_DIR.replace(\"inputs\", \"annotations\"), \"final_model_ready_dataset.csv\")"
      ],
      "metadata": {
        "id": "0EL4XaSAlqb7"
      },
      "execution_count": null,
      "outputs": []
    },
    {
      "cell_type": "markdown",
      "source": [
        "### Load feature space and labels"
      ],
      "metadata": {
        "id": "pz7hJJ_ZmNT5"
      }
    },
    {
      "cell_type": "code",
      "source": [
        "X_data = np.load(os.path.join(INPUT_DIR, \"X_data.npy\"))\n",
        "Y_data = np.load(os.path.join(INPUT_DIR, \"Y_data.npy\"))"
      ],
      "metadata": {
        "id": "hRQ932atmLrl"
      },
      "execution_count": null,
      "outputs": []
    },
    {
      "cell_type": "markdown",
      "source": [
        "### Perform preprocessing before passing to model for training"
      ],
      "metadata": {
        "id": "KwuaH7Ymmn1k"
      }
    },
    {
      "cell_type": "code",
      "source": [
        "# If input has one channel, repeat the channel value 3 times - for 3 channel input\n",
        "if X_data.shape[-1] == 1:\n",
        "    X_data = np.repeat(X_data, 3, axis=-1)\n",
        "\n",
        "# Normalize the keypoint coordinates between 0 and 1\n",
        "# if Y_data.dtype == int:\n",
        "#     Y_data = Y_data/X_data.shape[1]\n",
        "\n",
        "# Reshape Y to match output shape\n",
        "Y_data = Y_data.reshape((Y_data.shape[0], 1, 1, Y_data.shape[-1]))\n",
        "\n",
        "print(\"INPUT SHAPE:\", X_data.shape, \"\\nOUTPUT_SHAPE:\", Y_data.shape)"
      ],
      "metadata": {
        "colab": {
          "base_uri": "https://localhost:8080/"
        },
        "id": "RVrgL5pjmjmc",
        "outputId": "12d888d8-8e4b-4739-a7b4-b23110189319"
      },
      "execution_count": null,
      "outputs": [
        {
          "output_type": "stream",
          "name": "stdout",
          "text": [
            "INPUT SHAPE: (11232, 224, 224, 3) \n",
            "OUTPUT_SHAPE: (11232, 1, 1, 24)\n"
          ]
        }
      ]
    },
    {
      "cell_type": "markdown",
      "source": [
        "## Split dataset into train and test set"
      ],
      "metadata": {
        "id": "0MpDU8fPnv0T"
      }
    },
    {
      "cell_type": "code",
      "source": [
        "X_data = (X_data/255).astype('float16')"
      ],
      "metadata": {
        "id": "vFjIl1RD7EUq"
      },
      "execution_count": null,
      "outputs": []
    },
    {
      "cell_type": "code",
      "source": [
        "X_train, X_test, Y_train, Y_test = train_test_split(X_data, Y_data, test_size=0.2, random_state=2022)\n",
        "X_train.shape, X_test.shape, Y_train.shape, Y_test.shape\n",
        "del X_data, Y_data"
      ],
      "metadata": {
        "id": "1MBRsIzRmnHo"
      },
      "execution_count": null,
      "outputs": []
    },
    {
      "cell_type": "markdown",
      "source": [
        "## Define model's parameters and hyperparameters"
      ],
      "metadata": {
        "id": "J3g2Ik5Jn913"
      }
    },
    {
      "cell_type": "code",
      "source": [
        "BATCH_SIZE = 64\n",
        "LEARNING_RATE = 1e-4\n",
        "EPOCHS = 500"
      ],
      "metadata": {
        "id": "_rNBT7zZnUiV"
      },
      "execution_count": null,
      "outputs": []
    },
    {
      "cell_type": "markdown",
      "source": [
        "## POSE ESTIMATOR MODEL"
      ],
      "metadata": {
        "id": "2CjQGvbZplNn"
      }
    },
    {
      "cell_type": "markdown",
      "source": [
        "### Define model architecture"
      ],
      "metadata": {
        "id": "gSd1DlVWpqME"
      }
    },
    {
      "cell_type": "code",
      "source": [
        "# model = Sequential([\n",
        "#                     Input(shape=X_train.shape[1:], name=\"INPUT\"),\n",
        "#                     Conv2D(filters=32, kernel_size=[5,5],padding='same', use_bias=False),\n",
        "#                     LeakyReLU(alpha = .1),\n",
        "#                     BatchNormalization(),\n",
        "                    \n",
        "#                     Conv2D(filters=32, kernel_size=[5,5], padding='same', use_bias=False),\n",
        "#                     LeakyReLU(alpha = .1),\n",
        "#                     BatchNormalization(),\n",
        "#                     MaxPool2D(pool_size=[2,2]),\n",
        "                    \n",
        "#                     Conv2D(filters=64, kernel_size=[3,3], padding='same', use_bias=False),\n",
        "#                     LeakyReLU(alpha = .1),\n",
        "#                     BatchNormalization(),\n",
        "#                     Conv2D(filters=64, kernel_size=[3,3], padding='same', use_bias=False),\n",
        "#                     LeakyReLU(alpha = .1),\n",
        "#                     BatchNormalization(),\n",
        "#                     MaxPool2D(pool_size=[2,2]),\n",
        "                    \n",
        "#                     Conv2D(filters=128, kernel_size=[3,3], padding='same', use_bias=False),\n",
        "#                     LeakyReLU(alpha = .1),\n",
        "#                     BatchNormalization(),\n",
        "#                     Conv2D(filters=128, kernel_size=[3,3], padding='same', use_bias=False),\n",
        "#                     LeakyReLU(alpha = .1),\n",
        "#                     BatchNormalization(),\n",
        "#                     MaxPool2D(pool_size=[2,2]),\n",
        "                    \n",
        "#                     Conv2D(filters=256, kernel_size=[3,3], padding='same', use_bias=False),\n",
        "#                     LeakyReLU(alpha = .1),\n",
        "#                     BatchNormalization(),\n",
        "#                     Conv2D(filters=256, kernel_size=[3,3], padding='same', use_bias=False),\n",
        "#                     LeakyReLU(alpha = .1),\n",
        "#                     BatchNormalization(),\n",
        "#                     MaxPool2D(pool_size=[2,2]),\n",
        "                    \n",
        "#                     Conv2D(filters=512, kernel_size=[3,3], padding='same', use_bias=False),\n",
        "#                     LeakyReLU(alpha = .1),\n",
        "#                     BatchNormalization(),\n",
        "#                     Conv2D(filters=512, kernel_size=[3,3], padding='same', use_bias=False),\n",
        "#                     LeakyReLU(alpha = .1),\n",
        "#                     BatchNormalization(),\n",
        "                    \n",
        "#                     Flatten(),\n",
        "#                     Dense(units=512, activation='relu'),\n",
        "#                     Dropout(.1),\n",
        "#                     Dense(units=Y_test.shape[-1]),\n",
        "# ], name=\"Pose_Estimator\")\n",
        "# model.summary()"
      ],
      "metadata": {
        "id": "iaY6JDp7vVlz"
      },
      "execution_count": null,
      "outputs": []
    },
    {
      "cell_type": "code",
      "source": [
        "backbone = tf.keras.applications.MobileNetV3Small(input_shape = X_train.shape[1:], minimalistic=True, weights='imagenet', include_top=False, include_preprocessing=False, pooling=None)\n",
        "backbone.trainable = True\n",
        "\n",
        "inputs = Input(shape=X_train.shape[1:], name=\"INPUT\")\n",
        "x = backbone(inputs)\n",
        "x"
      ],
      "metadata": {
        "colab": {
          "base_uri": "https://localhost:8080/"
        },
        "id": "94cyHZI0c47b",
        "outputId": "069bee01-c9f2-4c96-82e1-e0ebfa40c08b"
      },
      "execution_count": null,
      "outputs": [
        {
          "output_type": "stream",
          "name": "stdout",
          "text": [
            "Downloading data from https://storage.googleapis.com/tensorflow/keras-applications/mobilenet_v3/weights_mobilenet_v3_small_minimalistic_224_1.0_float_no_top_v2.h5\n",
            "2129920/2128592 [==============================] - 0s 0us/step\n",
            "2138112/2128592 [==============================] - 0s 0us/step\n"
          ]
        },
        {
          "output_type": "execute_result",
          "data": {
            "text/plain": [
              "<KerasTensor: shape=(None, 7, 7, 576) dtype=float32 (created by layer 'MobilenetV3small')>"
            ]
          },
          "metadata": {},
          "execution_count": 15
        }
      ]
    },
    {
      "cell_type": "code",
      "source": [
        "x = tf.keras.layers.SeparableConv2D(256, kernel_size=5, strides=1, activation=\"relu\")(x)\n",
        "# x = tf.keras.layers.SeparableConv2D(64, kernel_size=3, strides=1, activation=\"relu\")(x)\n",
        "outputs = tf.keras.layers.SeparableConv2D(Y_train.shape[-1], kernel_size=3, strides=1, activation=\"relu\")(x)\n",
        "model = tf.keras.Model(inputs=inputs, outputs=outputs, name=\"Pose_Estimator\")"
      ],
      "metadata": {
        "id": "p0NZJULtdJ9F"
      },
      "execution_count": null,
      "outputs": []
    },
    {
      "cell_type": "code",
      "source": [
        "# backbone = tf.keras.applications.MobileNetV3Large(input_shape = X_train.shape[1:], weights='imagenet', include_top=False, include_preprocessing=False)\n",
        "# backbone.trainable = False\n",
        "\n",
        "# inputs = Input(shape=X_train.shape[1:], name=\"INPUT\")\n",
        "# # x = tf.keras.applications.mobilenet_v3.preprocess_input(inputs)\n",
        "# x = backbone(inputs)\n",
        "# x = Dropout(0.3)(x)\n",
        "# x = tf.keras.layers.SeparableConv2D(Y_train.shape[-1], kernel_size=3, strides=1, activation=\"relu\")(x)\n",
        "# x = tf.keras.layers.SeparableConv2D(Y_train.shape[-1], kernel_size=3, strides=1, activation=\"relu\")(x)\n",
        "# outputs = tf.keras.layers.SeparableConv2D(Y_train.shape[-1], kernel_size=3, strides=1, activation=\"relu\")(x)\n",
        "# model = tf.keras.Model(inputs=inputs, outputs=outputs, name=\"Pose_Estimator\")"
      ],
      "metadata": {
        "id": "B2xhl959_jf3"
      },
      "execution_count": null,
      "outputs": []
    },
    {
      "cell_type": "code",
      "source": [
        "# backbone = tf.keras.applications.MobileNetV3Large(input_shape = X_train.shape[1:], weights='imagenet', include_top=False)\n",
        "# backbone.trainable = False\n",
        "\n",
        "# inputs = Input(shape=X_train.shape[1:], name=\"INPUT\")\n",
        "# x = tf.keras.applications.mobilenet_v3.preprocess_input(inputs)\n",
        "# x = backbone(x)\n",
        "# x = Dropout(0.3)(x)\n",
        "# x = tf.keras.layers.SeparableConv2D(Y_train.shape[-1], kernel_size=5, strides=1, activation=\"relu\")(x)\n",
        "# x = tf.keras.layers.SeparableConv2D(Y_train.shape[-1], kernel_size=3, strides=1, activation=\"relu\")(x)\n",
        "# x = tf.keras.layers.SeparableConv2D(Y_train.shape[-1], kernel_size=3, strides=1, activation=\"relu\")(x)\n",
        "# outputs = tf.keras.layers.SeparableConv2D(Y_train.shape[-1], kernel_size=2, strides=1, activation=\"sigmoid\")(x)\n",
        "# model = tf.keras.Model(inputs=inputs, outputs=outputs, name=\"Pose_Estimator\")\n",
        "\n",
        "\n",
        "# inputs = Input(shape=X_train.shape[1:], name=\"INPUT\")\n",
        "# # x = tf.keras.applications.mobilenet_v3.preprocess_input(inputs)\n",
        "# x = backbone(inputs)\n",
        "# x = Dropout(0.3)(x)\n",
        "# # x = tf.keras.layers.SeparableConv2D(Y_train.shape[-1], kernel_size=3, strides=1, activation=\"relu\")(x)\n",
        "# x = tf.keras.layers.SeparableConv2D(Y_train.shape[-1], kernel_size=5, strides=1, activation=\"relu\")(x)\n",
        "# x = tf.keras.layers.SeparableConv2D(Y_train.shape[-1], kernel_size=3, strides=1, activation=\"relu\")(x)\n",
        "# x = tf.keras.layers.SeparableConv2D(Y_train.shape[-1], kernel_size=3, strides=1, activation=\"relu\")(x)\n",
        "# x = tf.keras.layers.SeparableConv2D(Y_train.shape[-1], kernel_size=1, strides=1, activation=\"relu\")(x)\n",
        "# x = tf.keras.layers.SeparableConv2D(Y_train.shape[-1], kernel_size=1, strides=1, activation=\"relu\")(x)\n",
        "# outputs = tf.keras.layers.SeparableConv2D(Y_train.shape[-1], kernel_size=1, strides=1, activation=\"relu\")(x)\n",
        "\n",
        "# model = tf.keras.Model(inputs=inputs, outputs=outputs, name=\"Pose_Estimator\")\n",
        "# model.summary()"
      ],
      "metadata": {
        "id": "Ht_Xt37soYCO"
      },
      "execution_count": null,
      "outputs": []
    },
    {
      "cell_type": "code",
      "source": [
        "model.summary()"
      ],
      "metadata": {
        "colab": {
          "base_uri": "https://localhost:8080/"
        },
        "id": "2_26VgG7AAro",
        "outputId": "5b48864e-ff16-4395-aed4-a6c29fe6d9c6"
      },
      "execution_count": null,
      "outputs": [
        {
          "output_type": "stream",
          "name": "stdout",
          "text": [
            "Model: \"Pose_Estimator\"\n",
            "_________________________________________________________________\n",
            " Layer (type)                Output Shape              Param #   \n",
            "=================================================================\n",
            " INPUT (InputLayer)          [(None, 224, 224, 3)]     0         \n",
            "                                                                 \n",
            " MobilenetV3small (Functiona  (None, 7, 7, 576)        441000    \n",
            " l)                                                              \n",
            "                                                                 \n",
            " separable_conv2d (Separable  (None, 3, 3, 256)        162112    \n",
            " Conv2D)                                                         \n",
            "                                                                 \n",
            " separable_conv2d_1 (Separab  (None, 1, 1, 24)         8472      \n",
            " leConv2D)                                                       \n",
            "                                                                 \n",
            "=================================================================\n",
            "Total params: 611,584\n",
            "Trainable params: 599,472\n",
            "Non-trainable params: 12,112\n",
            "_________________________________________________________________\n"
          ]
        }
      ]
    },
    {
      "cell_type": "markdown",
      "source": [
        "### Plot model"
      ],
      "metadata": {
        "id": "nLXLk0T-ptNY"
      }
    },
    {
      "cell_type": "code",
      "source": [
        "plot_model(model, show_shapes=True)"
      ],
      "metadata": {
        "colab": {
          "base_uri": "https://localhost:8080/",
          "height": 422
        },
        "id": "7QmOx2n1ophB",
        "outputId": "7a4145b5-f9e9-493d-be5b-8f3c7f1661a7"
      },
      "execution_count": null,
      "outputs": [
        {
          "output_type": "execute_result",
          "data": {
            "text/plain": [
              "<IPython.core.display.Image object>"
            ],
            "image/png": "[encoded data removed]"
          },
          "metadata": {},
          "execution_count": 20
        }
      ]
    },
    {
      "cell_type": "markdown",
      "source": [
        "### Compile model"
      ],
      "metadata": {
        "id": "r10aHhV-piqe"
      }
    },
    {
      "cell_type": "code",
      "source": [
        "model.compile(\n",
        "    optimizer=Adam(learning_rate=LEARNING_RATE),\n",
        "    loss=tf.keras.losses.mean_squared_error,\n",
        "    # metrics=['mae', 'mape',],\n",
        "    metrics=['mae'],\n",
        ")"
      ],
      "metadata": {
        "id": "pa4tM15Opfs4"
      },
      "execution_count": null,
      "outputs": []
    },
    {
      "cell_type": "markdown",
      "source": [
        "### Define callbacks"
      ],
      "metadata": {
        "id": "NBrCpFISpyca"
      }
    },
    {
      "cell_type": "code",
      "source": [
        "CALLBACKS = [ReduceLROnPlateau(\n",
        "    monitor='val_loss',\n",
        "    factor=0.1,\n",
        "    patience=8,\n",
        "    verbose=1,\n",
        "    min_lr=LEARNING_RATE*1e-5,\n",
        "    mode='auto',\n",
        "    cooldown=0,\n",
        "    min_delta=0.0001\n",
        ")]\n",
        "CALLBACKS += [EarlyStopping(\n",
        "    monitor='val_loss',\n",
        "    min_delta=0.0001,\n",
        "    patience=20,\n",
        "    verbose=1,\n",
        "    mode='min',\n",
        "    baseline=None,\n",
        "    restore_best_weights=True\n",
        ")]"
      ],
      "metadata": {
        "id": "r12wIqf1pxx-"
      },
      "execution_count": null,
      "outputs": []
    },
    {
      "cell_type": "markdown",
      "source": [
        "### Train and evaluate model"
      ],
      "metadata": {
        "id": "zG_MNrrdp159"
      }
    },
    {
      "cell_type": "code",
      "source": [
        "# Y_train = Y_train.reshape(Y_train.shape[0], 1, 1, Y_train.shape[-1])\n",
        "# Y_test = Y_test.reshape(Y_test.shape[0], 1, 1, Y_test.shape[-1])"
      ],
      "metadata": {
        "id": "HrotX-PgwZ3v"
      },
      "execution_count": null,
      "outputs": []
    },
    {
      "cell_type": "code",
      "source": [
        "history = model.fit(X_train, Y_train,\n",
        "                    epochs = EPOCHS,\n",
        "                    validation_data = (X_test, Y_test),\n",
        "                    batch_size = BATCH_SIZE,\n",
        "                    callbacks = [CALLBACKS],\n",
        "                    )"
      ],
      "metadata": {
        "colab": {
          "base_uri": "https://localhost:8080/"
        },
        "id": "VqEVn9a7p00I",
        "outputId": "925f2234-582c-415f-e63f-50d5b80b98d5"
      },
      "execution_count": null,
      "outputs": [
        {
          "output_type": "stream",
          "name": "stdout",
          "text": [
            "Epoch 1/500\n",
            "141/141 [==============================] - 24s 76ms/step - loss: 12934.6074 - mae: 107.5948 - val_loss: 4684.5879 - val_mae: 55.3683 - lr: 1.0000e-04\n",
            "Epoch 2/500\n",
            "141/141 [==============================] - 8s 58ms/step - loss: 2103.1946 - mae: 34.4569 - val_loss: 68768.1016 - val_mae: 246.5346 - lr: 1.0000e-04\n",
            "Epoch 3/500\n",
            "141/141 [==============================] - 8s 58ms/step - loss: 764.0189 - mae: 20.8843 - val_loss: 30313.2285 - val_mae: 164.5270 - lr: 1.0000e-04\n",
            "Epoch 4/500\n",
            "141/141 [==============================] - 8s 58ms/step - loss: 742.5297 - mae: 20.5468 - val_loss: 13546.6895 - val_mae: 108.8835 - lr: 1.0000e-04\n",
            "Epoch 5/500\n",
            "141/141 [==============================] - 8s 58ms/step - loss: 731.2796 - mae: 20.3937 - val_loss: 6763.2891 - val_mae: 75.3421 - lr: 1.0000e-04\n",
            "Epoch 6/500\n",
            "141/141 [==============================] - 8s 59ms/step - loss: 722.5052 - mae: 20.2714 - val_loss: 3766.0081 - val_mae: 54.4779 - lr: 1.0000e-04\n",
            "Epoch 7/500\n",
            "141/141 [==============================] - 8s 59ms/step - loss: 712.9196 - mae: 20.1352 - val_loss: 1963.3770 - val_mae: 37.0957 - lr: 1.0000e-04\n",
            "Epoch 8/500\n",
            "141/141 [==============================] - 8s 59ms/step - loss: 702.6727 - mae: 19.9784 - val_loss: 1199.3889 - val_mae: 27.4826 - lr: 1.0000e-04\n",
            "Epoch 9/500\n",
            "141/141 [==============================] - 8s 58ms/step - loss: 686.5907 - mae: 19.7251 - val_loss: 857.7044 - val_mae: 22.3710 - lr: 1.0000e-04\n",
            "Epoch 10/500\n",
            "141/141 [==============================] - 8s 58ms/step - loss: 661.1239 - mae: 19.2454 - val_loss: 847.7914 - val_mae: 22.2247 - lr: 1.0000e-04\n",
            "Epoch 11/500\n",
            "141/141 [==============================] - 8s 58ms/step - loss: 627.9274 - mae: 18.5532 - val_loss: 1032.1539 - val_mae: 25.0283 - lr: 1.0000e-04\n",
            "Epoch 12/500\n",
            "141/141 [==============================] - 8s 58ms/step - loss: 601.7441 - mae: 18.0193 - val_loss: 1116.6240 - val_mae: 26.1605 - lr: 1.0000e-04\n",
            "Epoch 13/500\n",
            "141/141 [==============================] - 8s 59ms/step - loss: 585.5244 - mae: 17.7249 - val_loss: 1231.3442 - val_mae: 27.7291 - lr: 1.0000e-04\n",
            "Epoch 14/500\n",
            "141/141 [==============================] - 8s 58ms/step - loss: 569.3307 - mae: 17.4162 - val_loss: 1353.0884 - val_mae: 29.4000 - lr: 1.0000e-04\n",
            "Epoch 15/500\n",
            "141/141 [==============================] - 8s 58ms/step - loss: 548.4594 - mae: 16.9958 - val_loss: 1336.9274 - val_mae: 29.0973 - lr: 1.0000e-04\n",
            "Epoch 16/500\n",
            "141/141 [==============================] - 8s 59ms/step - loss: 528.4480 - mae: 16.5569 - val_loss: 1627.5281 - val_mae: 32.8586 - lr: 1.0000e-04\n",
            "Epoch 17/500\n",
            "141/141 [==============================] - 8s 58ms/step - loss: 508.3840 - mae: 16.1281 - val_loss: 1578.9763 - val_mae: 32.2709 - lr: 1.0000e-04\n",
            "Epoch 18/500\n",
            "140/141 [============================>.] - ETA: 0s - loss: 495.7344 - mae: 15.8680\n",
            "Epoch 18: ReduceLROnPlateau reducing learning rate to 9.999999747378752e-06.\n",
            "141/141 [==============================] - 8s 59ms/step - loss: 495.5963 - mae: 15.8653 - val_loss: 1586.4310 - val_mae: 32.5294 - lr: 1.0000e-04\n",
            "Epoch 19/500\n",
            "141/141 [==============================] - 8s 59ms/step - loss: 479.9514 - mae: 15.5451 - val_loss: 1511.0631 - val_mae: 31.5941 - lr: 1.0000e-05\n",
            "Epoch 20/500\n",
            "141/141 [==============================] - 8s 59ms/step - loss: 477.8987 - mae: 15.5122 - val_loss: 1381.0378 - val_mae: 29.9705 - lr: 1.0000e-05\n",
            "Epoch 21/500\n",
            "141/141 [==============================] - 8s 59ms/step - loss: 477.1782 - mae: 15.4904 - val_loss: 1256.6823 - val_mae: 28.3374 - lr: 1.0000e-05\n",
            "Epoch 22/500\n",
            "141/141 [==============================] - 8s 58ms/step - loss: 475.2977 - mae: 15.4527 - val_loss: 1167.1844 - val_mae: 27.1224 - lr: 1.0000e-05\n",
            "Epoch 23/500\n",
            "141/141 [==============================] - 8s 58ms/step - loss: 474.1212 - mae: 15.4232 - val_loss: 1086.6853 - val_mae: 25.9832 - lr: 1.0000e-05\n",
            "Epoch 24/500\n",
            "141/141 [==============================] - 8s 59ms/step - loss: 473.7195 - mae: 15.4230 - val_loss: 973.1128 - val_mae: 24.2891 - lr: 1.0000e-05\n",
            "Epoch 25/500\n",
            "141/141 [==============================] - 8s 58ms/step - loss: 471.1496 - mae: 15.3813 - val_loss: 916.4264 - val_mae: 23.4080 - lr: 1.0000e-05\n",
            "Epoch 26/500\n",
            "140/141 [============================>.] - ETA: 0s - loss: 471.7840 - mae: 15.3797\n",
            "Epoch 26: ReduceLROnPlateau reducing learning rate to 9.999999747378752e-07.\n",
            "141/141 [==============================] - 8s 58ms/step - loss: 471.3011 - mae: 15.3725 - val_loss: 892.9356 - val_mae: 23.0603 - lr: 1.0000e-05\n",
            "Epoch 27/500\n",
            "141/141 [==============================] - 8s 58ms/step - loss: 468.4091 - mae: 15.3101 - val_loss: 833.1683 - val_mae: 22.0797 - lr: 1.0000e-06\n",
            "Epoch 28/500\n",
            "141/141 [==============================] - 8s 59ms/step - loss: 468.2146 - mae: 15.3162 - val_loss: 787.2977 - val_mae: 21.2972 - lr: 1.0000e-06\n",
            "Epoch 29/500\n",
            "141/141 [==============================] - 8s 58ms/step - loss: 468.2996 - mae: 15.3192 - val_loss: 754.3528 - val_mae: 20.7219 - lr: 1.0000e-06\n",
            "Epoch 30/500\n",
            "141/141 [==============================] - 8s 59ms/step - loss: 467.9998 - mae: 15.3196 - val_loss: 727.1638 - val_mae: 20.2327 - lr: 1.0000e-06\n",
            "Epoch 31/500\n",
            "141/141 [==============================] - 8s 59ms/step - loss: 467.4259 - mae: 15.3101 - val_loss: 706.5237 - val_mae: 19.8501 - lr: 1.0000e-06\n",
            "Epoch 32/500\n",
            "141/141 [==============================] - 8s 59ms/step - loss: 468.4835 - mae: 15.3160 - val_loss: 689.4098 - val_mae: 19.5257 - lr: 1.0000e-06\n",
            "Epoch 33/500\n",
            "141/141 [==============================] - 8s 59ms/step - loss: 467.2464 - mae: 15.2944 - val_loss: 675.7712 - val_mae: 19.2643 - lr: 1.0000e-06\n",
            "Epoch 34/500\n",
            "141/141 [==============================] - 8s 59ms/step - loss: 467.8761 - mae: 15.3079 - val_loss: 665.6292 - val_mae: 19.0684 - lr: 1.0000e-06\n",
            "Epoch 35/500\n",
            "141/141 [==============================] - 8s 59ms/step - loss: 468.5124 - mae: 15.3194 - val_loss: 657.7339 - val_mae: 18.9149 - lr: 1.0000e-06\n",
            "Epoch 36/500\n",
            "141/141 [==============================] - 8s 59ms/step - loss: 467.8192 - mae: 15.3125 - val_loss: 650.2554 - val_mae: 18.7650 - lr: 1.0000e-06\n",
            "Epoch 37/500\n",
            "141/141 [==============================] - 8s 59ms/step - loss: 467.3827 - mae: 15.3018 - val_loss: 645.3179 - val_mae: 18.6650 - lr: 1.0000e-06\n",
            "Epoch 38/500\n",
            "141/141 [==============================] - 8s 59ms/step - loss: 467.5515 - mae: 15.2879 - val_loss: 641.1963 - val_mae: 18.5814 - lr: 1.0000e-06\n",
            "Epoch 39/500\n",
            "141/141 [==============================] - 8s 59ms/step - loss: 467.1911 - mae: 15.3003 - val_loss: 637.3433 - val_mae: 18.4986 - lr: 1.0000e-06\n",
            "Epoch 40/500\n",
            "141/141 [==============================] - 8s 59ms/step - loss: 466.8069 - mae: 15.2883 - val_loss: 634.6815 - val_mae: 18.4395 - lr: 1.0000e-06\n",
            "Epoch 41/500\n",
            "141/141 [==============================] - 8s 59ms/step - loss: 467.0213 - mae: 15.2896 - val_loss: 631.5165 - val_mae: 18.3689 - lr: 1.0000e-06\n",
            "Epoch 42/500\n",
            "141/141 [==============================] - 8s 59ms/step - loss: 466.7468 - mae: 15.2816 - val_loss: 628.8733 - val_mae: 18.3111 - lr: 1.0000e-06\n",
            "Epoch 43/500\n",
            "141/141 [==============================] - 8s 59ms/step - loss: 466.2953 - mae: 15.2891 - val_loss: 625.7866 - val_mae: 18.2440 - lr: 1.0000e-06\n",
            "Epoch 44/500\n",
            "141/141 [==============================] - 8s 58ms/step - loss: 466.5654 - mae: 15.2805 - val_loss: 623.3062 - val_mae: 18.1914 - lr: 1.0000e-06\n",
            "Epoch 45/500\n",
            "141/141 [==============================] - 8s 59ms/step - loss: 466.3891 - mae: 15.2820 - val_loss: 619.9673 - val_mae: 18.1162 - lr: 1.0000e-06\n",
            "Epoch 46/500\n",
            "141/141 [==============================] - 8s 59ms/step - loss: 466.6016 - mae: 15.2856 - val_loss: 616.5434 - val_mae: 18.0429 - lr: 1.0000e-06\n",
            "Epoch 47/500\n",
            "141/141 [==============================] - 8s 59ms/step - loss: 465.2821 - mae: 15.2487 - val_loss: 612.8022 - val_mae: 17.9670 - lr: 1.0000e-06\n",
            "Epoch 48/500\n",
            "141/141 [==============================] - 8s 59ms/step - loss: 465.2086 - mae: 15.2608 - val_loss: 608.5752 - val_mae: 17.8822 - lr: 1.0000e-06\n",
            "Epoch 49/500\n",
            "141/141 [==============================] - 8s 59ms/step - loss: 465.1137 - mae: 15.2573 - val_loss: 604.8535 - val_mae: 17.8161 - lr: 1.0000e-06\n",
            "Epoch 50/500\n",
            "141/141 [==============================] - 8s 59ms/step - loss: 466.2992 - mae: 15.2777 - val_loss: 600.0840 - val_mae: 17.7264 - lr: 1.0000e-06\n",
            "Epoch 51/500\n",
            "141/141 [==============================] - 8s 59ms/step - loss: 465.7426 - mae: 15.2768 - val_loss: 595.2032 - val_mae: 17.6312 - lr: 1.0000e-06\n",
            "Epoch 52/500\n",
            "141/141 [==============================] - 8s 59ms/step - loss: 465.6248 - mae: 15.2683 - val_loss: 590.8611 - val_mae: 17.5453 - lr: 1.0000e-06\n",
            "Epoch 53/500\n",
            "141/141 [==============================] - 8s 59ms/step - loss: 465.4703 - mae: 15.2693 - val_loss: 587.3116 - val_mae: 17.4739 - lr: 1.0000e-06\n",
            "Epoch 54/500\n",
            "141/141 [==============================] - 8s 59ms/step - loss: 465.2233 - mae: 15.2530 - val_loss: 584.5228 - val_mae: 17.4150 - lr: 1.0000e-06\n",
            "Epoch 55/500\n",
            "141/141 [==============================] - 8s 59ms/step - loss: 465.6770 - mae: 15.2729 - val_loss: 582.1738 - val_mae: 17.3655 - lr: 1.0000e-06\n",
            "Epoch 56/500\n",
            "141/141 [==============================] - 8s 59ms/step - loss: 465.6156 - mae: 15.2742 - val_loss: 580.4023 - val_mae: 17.3262 - lr: 1.0000e-06\n",
            "Epoch 57/500\n",
            "141/141 [==============================] - 8s 59ms/step - loss: 465.1555 - mae: 15.2594 - val_loss: 579.0767 - val_mae: 17.2956 - lr: 1.0000e-06\n",
            "Epoch 58/500\n",
            "141/141 [==============================] - 8s 59ms/step - loss: 464.4555 - mae: 15.2404 - val_loss: 578.0261 - val_mae: 17.2726 - lr: 1.0000e-06\n",
            "Epoch 59/500\n",
            "141/141 [==============================] - 8s 58ms/step - loss: 464.4503 - mae: 15.2313 - val_loss: 577.2444 - val_mae: 17.2534 - lr: 1.0000e-06\n",
            "Epoch 60/500\n",
            "141/141 [==============================] - 8s 58ms/step - loss: 464.8846 - mae: 15.2472 - val_loss: 576.5259 - val_mae: 17.2422 - lr: 1.0000e-06\n",
            "Epoch 61/500\n",
            "141/141 [==============================] - 8s 58ms/step - loss: 464.3282 - mae: 15.2435 - val_loss: 576.0397 - val_mae: 17.2365 - lr: 1.0000e-06\n",
            "Epoch 62/500\n",
            "141/141 [==============================] - 8s 59ms/step - loss: 464.3982 - mae: 15.2398 - val_loss: 575.6923 - val_mae: 17.2287 - lr: 1.0000e-06\n",
            "Epoch 63/500\n",
            "141/141 [==============================] - 8s 58ms/step - loss: 464.0597 - mae: 15.2402 - val_loss: 575.4010 - val_mae: 17.2237 - lr: 1.0000e-06\n",
            "Epoch 64/500\n",
            "141/141 [==============================] - 8s 59ms/step - loss: 464.6524 - mae: 15.2525 - val_loss: 575.3089 - val_mae: 17.2237 - lr: 1.0000e-06\n",
            "Epoch 65/500\n",
            "141/141 [==============================] - 8s 59ms/step - loss: 463.1546 - mae: 15.2094 - val_loss: 575.1326 - val_mae: 17.2235 - lr: 1.0000e-06\n",
            "Epoch 66/500\n",
            "141/141 [==============================] - 8s 58ms/step - loss: 464.0213 - mae: 15.2219 - val_loss: 575.1554 - val_mae: 17.2257 - lr: 1.0000e-06\n",
            "Epoch 67/500\n",
            "141/141 [==============================] - 8s 58ms/step - loss: 464.0563 - mae: 15.2404 - val_loss: 575.1404 - val_mae: 17.2259 - lr: 1.0000e-06\n",
            "Epoch 68/500\n",
            "141/141 [==============================] - 8s 58ms/step - loss: 462.2911 - mae: 15.1962 - val_loss: 575.1281 - val_mae: 17.2268 - lr: 1.0000e-06\n",
            "Epoch 69/500\n",
            "141/141 [==============================] - 8s 58ms/step - loss: 463.9445 - mae: 15.2400 - val_loss: 575.1859 - val_mae: 17.2288 - lr: 1.0000e-06\n",
            "Epoch 70/500\n",
            "141/141 [==============================] - 8s 58ms/step - loss: 463.2334 - mae: 15.2295 - val_loss: 575.3037 - val_mae: 17.2306 - lr: 1.0000e-06\n",
            "Epoch 71/500\n",
            "141/141 [==============================] - 8s 58ms/step - loss: 462.5851 - mae: 15.2126 - val_loss: 575.2820 - val_mae: 17.2295 - lr: 1.0000e-06\n",
            "Epoch 72/500\n",
            "141/141 [==============================] - 8s 59ms/step - loss: 462.4569 - mae: 15.2056 - val_loss: 575.2994 - val_mae: 17.2306 - lr: 1.0000e-06\n",
            "Epoch 73/500\n",
            "141/141 [==============================] - 8s 59ms/step - loss: 462.8072 - mae: 15.2067 - val_loss: 575.4189 - val_mae: 17.2369 - lr: 1.0000e-06\n",
            "Epoch 74/500\n",
            "141/141 [==============================] - 8s 59ms/step - loss: 462.4545 - mae: 15.2036 - val_loss: 575.4877 - val_mae: 17.2360 - lr: 1.0000e-06\n",
            "Epoch 75/500\n",
            "141/141 [==============================] - 8s 58ms/step - loss: 462.5837 - mae: 15.2087 - val_loss: 575.5255 - val_mae: 17.2370 - lr: 1.0000e-06\n",
            "Epoch 76/500\n",
            "140/141 [============================>.] - ETA: 0s - loss: 462.4039 - mae: 15.2113\n",
            "Epoch 76: ReduceLROnPlateau reducing learning rate to 9.999999974752428e-08.\n",
            "141/141 [==============================] - 8s 59ms/step - loss: 462.8115 - mae: 15.2172 - val_loss: 575.4918 - val_mae: 17.2368 - lr: 1.0000e-06\n",
            "Epoch 77/500\n",
            "141/141 [==============================] - 8s 59ms/step - loss: 461.8430 - mae: 15.1871 - val_loss: 575.5601 - val_mae: 17.2379 - lr: 1.0000e-07\n",
            "Epoch 78/500\n",
            "141/141 [==============================] - 8s 58ms/step - loss: 462.2342 - mae: 15.2081 - val_loss: 575.6274 - val_mae: 17.2389 - lr: 1.0000e-07\n",
            "Epoch 79/500\n",
            "141/141 [==============================] - 8s 58ms/step - loss: 461.7243 - mae: 15.1974 - val_loss: 575.6991 - val_mae: 17.2399 - lr: 1.0000e-07\n",
            "Epoch 80/500\n",
            "141/141 [==============================] - 8s 58ms/step - loss: 461.7749 - mae: 15.1861 - val_loss: 575.7559 - val_mae: 17.2411 - lr: 1.0000e-07\n",
            "Epoch 81/500\n",
            "141/141 [==============================] - 8s 58ms/step - loss: 462.5253 - mae: 15.2085 - val_loss: 575.8000 - val_mae: 17.2417 - lr: 1.0000e-07\n",
            "Epoch 82/500\n",
            "141/141 [==============================] - 8s 58ms/step - loss: 462.0251 - mae: 15.1924 - val_loss: 575.8370 - val_mae: 17.2424 - lr: 1.0000e-07\n",
            "Epoch 83/500\n",
            "141/141 [==============================] - 8s 58ms/step - loss: 461.7529 - mae: 15.1864 - val_loss: 575.8794 - val_mae: 17.2430 - lr: 1.0000e-07\n",
            "Epoch 84/500\n",
            "140/141 [============================>.] - ETA: 0s - loss: 462.4536 - mae: 15.2039\n",
            "Epoch 84: ReduceLROnPlateau reducing learning rate to 1.0000000116860975e-08.\n",
            "141/141 [==============================] - 8s 58ms/step - loss: 462.5509 - mae: 15.2069 - val_loss: 575.9137 - val_mae: 17.2435 - lr: 1.0000e-07\n",
            "Epoch 85/500\n",
            "141/141 [==============================] - 8s 58ms/step - loss: 462.0679 - mae: 15.1986 - val_loss: 575.9430 - val_mae: 17.2438 - lr: 1.0000e-08\n",
            "Epoch 86/500\n",
            "141/141 [==============================] - 8s 59ms/step - loss: 461.7335 - mae: 15.1868 - val_loss: 575.9680 - val_mae: 17.2441 - lr: 1.0000e-08\n",
            "Epoch 87/500\n",
            "141/141 [==============================] - 8s 58ms/step - loss: 460.6372 - mae: 15.1663 - val_loss: 575.9894 - val_mae: 17.2444 - lr: 1.0000e-08\n",
            "Epoch 88/500\n",
            "140/141 [============================>.] - ETA: 0s - loss: 463.3287 - mae: 15.2270Restoring model weights from the end of the best epoch: 68.\n",
            "141/141 [==============================] - 8s 59ms/step - loss: 463.1890 - mae: 15.2226 - val_loss: 576.0125 - val_mae: 17.2448 - lr: 1.0000e-08\n",
            "Epoch 88: early stopping\n"
          ]
        }
      ]
    },
    {
      "cell_type": "markdown",
      "source": [
        "## Make predictions"
      ],
      "metadata": {
        "id": "FVi8RG1CsfMW"
      }
    },
    {
      "cell_type": "code",
      "source": [
        "predicted = []\n",
        "pbar = tqdm(total=len(X_test), desc=\"Making predictions: \")\n",
        "for i in range(len(X_test)):\n",
        "    predicted.append(model.predict(X_test[i:i+1]))\n",
        "    pbar.update(1)\n",
        "predicted = np.array(predicted).astype('int')\n",
        "pbar.close()"
      ],
      "metadata": {
        "colab": {
          "base_uri": "https://localhost:8080/",
          "height": 49,
          "referenced_widgets": [
            "c642d2acf39b48148bc361d3c80b15e5",
            "854af8e2153444aeb663992626c69e66",
            "7866609056b946e9865ea4ef7df98a86",
            "c4e39cb6412a4596adb40f3b77137cf0",
            "238934b79d624c9393e6248bc9d34891",
            "cabd3d4e121a4be682df081a6e65fa7e",
            "10f66fbb7a474fffb77b4a29541dfea9",
            "ab75f1d7e54446f78269cb5e18e38086",
            "11540e250c0646db9ac1d6d5d1b21cae",
            "c150d25c5ca14edf98e4f5e12036b3fb",
            "ab1d01b47f6749c6a69ccadb1b5d2139"
          ]
        },
        "id": "7Dx01o4Libkf",
        "outputId": "26c20533-5042-4f62-92e9-f8b1af4717de"
      },
      "execution_count": null,
      "outputs": [
        {
          "output_type": "display_data",
          "data": {
            "text/plain": [
              "Making predictions:   0%|          | 0/2247 [00:00<?, ?it/s]"
            ],
            "application/vnd.jupyter.widget-view+json": {
              "version_major": 2,
              "version_minor": 0,
              "model_id": "c642d2acf39b48148bc361d3c80b15e5"
            }
          },
          "metadata": {}
        }
      ]
    },
    {
      "cell_type": "code",
      "source": [
        "# new_pred = (predicted * X_test.shape[1]).astype('int')\n",
        "new_pred = predicted.astype('int')\n",
        "new_pred = np.where(new_pred < 1, -1, new_pred)\n",
        "new_pred = new_pred.reshape((new_pred.shape[0], new_pred.shape[-1]))\n",
        "new_pred.shape"
      ],
      "metadata": {
        "colab": {
          "base_uri": "https://localhost:8080/"
        },
        "id": "bLnxrDvBslgB",
        "outputId": "f455fe43-d5aa-4dbd-e03a-cc974ca1f859"
      },
      "execution_count": null,
      "outputs": [
        {
          "output_type": "execute_result",
          "data": {
            "text/plain": [
              "(2247, 24)"
            ]
          },
          "metadata": {},
          "execution_count": 28
        }
      ]
    },
    {
      "cell_type": "code",
      "source": [
        "data = []\n",
        "for i in new_pred:\n",
        "    temp = i.tolist()\n",
        "    data.append([(temp[j], temp[j+1]) for j in range(0, 24, 2)])\n",
        "\n",
        "pd_test = pd.DataFrame(data)\n",
        "columns = pd.read_csv(ANNOTATION).columns[1:-7]\n",
        "pd_test.columns = columns\n",
        "\n",
        "pd_test = pd_test.apply(lambda x: datapoint_correction(x), axis=1)\n",
        "pd_test.columns = columns\n",
        "pd_test.head()"
      ],
      "metadata": {
        "colab": {
          "base_uri": "https://localhost:8080/",
          "height": 206
        },
        "id": "jAYd8JTFHEcN",
        "outputId": "b5aaf5ec-dae1-414f-9501-87e3ffecf924"
      },
      "execution_count": null,
      "outputs": [
        {
          "output_type": "execute_result",
          "data": {
            "text/plain": [
              "  left_shoulder right_shoulder  left_elbow right_elbow  left_wrist  \\\n",
              "0      (96, 99)      (84, 100)   (99, 121)   (84, 121)  (100, 129)   \n",
              "1    (118, 123)     (114, 123)  (120, 140)  (114, 140)  (116, 149)   \n",
              "2    (113, 110)     (101, 109)  (115, 129)  (100, 128)  (114, 138)   \n",
              "3     (129, 46)      (109, 46)   (131, 69)   (103, 69)   (128, 79)   \n",
              "4     (129, 67)      (108, 66)   (131, 93)   (103, 90)  (127, 105)   \n",
              "\n",
              "  right_wrist    left_hip   right_hip   left_knee  right_knee  left_ankle  \\\n",
              "0   (86, 130)   (98, 133)   (89, 133)  (103, 147)   (92, 146)  (104, 162)   \n",
              "1  (113, 147)  (119, 145)  (117, 145)  (118, 156)  (115, 156)  (118, 171)   \n",
              "2  (101, 137)  (113, 133)  (108, 133)  (116, 141)  (105, 140)  (113, 152)   \n",
              "3   (105, 76)   (124, 99)  (110, 100)  (124, 144)  (108, 144)  (124, 188)   \n",
              "4  (103, 101)  (127, 110)  (114, 109)  (127, 133)  (108, 132)  (123, 160)   \n",
              "\n",
              "  right_ankle  \n",
              "0   (95, 164)  \n",
              "1  (116, 171)  \n",
              "2  (107, 153)  \n",
              "3  (106, 187)  \n",
              "4  (108, 161)  "
            ],
            "text/html": [
              "\n",
              "  <div id=\"df-e145b32f-bcc2-4ed1-a191-d635eb293cbc\">\n",
              "    <div class=\"colab-df-container\">\n",
              "      <div>\n",
              "<style scoped>\n",
              "    .dataframe tbody tr th:only-of-type {\n",
              "        vertical-align: middle;\n",
              "    }\n",
              "\n",
              "    .dataframe tbody tr th {\n",
              "        vertical-align: top;\n",
              "    }\n",
              "\n",
              "    .dataframe thead th {\n",
              "        text-align: right;\n",
              "    }\n",
              "</style>\n",
              "<table border=\"1\" class=\"dataframe\">\n",
              "  <thead>\n",
              "    <tr style=\"text-align: right;\">\n",
              "      <th></th>\n",
              "      <th>left_shoulder</th>\n",
              "      <th>right_shoulder</th>\n",
              "      <th>left_elbow</th>\n",
              "      <th>right_elbow</th>\n",
              "      <th>left_wrist</th>\n",
              "      <th>right_wrist</th>\n",
              "      <th>left_hip</th>\n",
              "      <th>right_hip</th>\n",
              "      <th>left_knee</th>\n",
              "      <th>right_knee</th>\n",
              "      <th>left_ankle</th>\n",
              "      <th>right_ankle</th>\n",
              "    </tr>\n",
              "  </thead>\n",
              "  <tbody>\n",
              "    <tr>\n",
              "      <th>0</th>\n",
              "      <td>(96, 99)</td>\n",
              "      <td>(84, 100)</td>\n",
              "      <td>(99, 121)</td>\n",
              "      <td>(84, 121)</td>\n",
              "      <td>(100, 129)</td>\n",
              "      <td>(86, 130)</td>\n",
              "      <td>(98, 133)</td>\n",
              "      <td>(89, 133)</td>\n",
              "      <td>(103, 147)</td>\n",
              "      <td>(92, 146)</td>\n",
              "      <td>(104, 162)</td>\n",
              "      <td>(95, 164)</td>\n",
              "    </tr>\n",
              "    <tr>\n",
              "      <th>1</th>\n",
              "      <td>(118, 123)</td>\n",
              "      <td>(114, 123)</td>\n",
              "      <td>(120, 140)</td>\n",
              "      <td>(114, 140)</td>\n",
              "      <td>(116, 149)</td>\n",
              "      <td>(113, 147)</td>\n",
              "      <td>(119, 145)</td>\n",
              "      <td>(117, 145)</td>\n",
              "      <td>(118, 156)</td>\n",
              "      <td>(115, 156)</td>\n",
              "      <td>(118, 171)</td>\n",
              "      <td>(116, 171)</td>\n",
              "    </tr>\n",
              "    <tr>\n",
              "      <th>2</th>\n",
              "      <td>(113, 110)</td>\n",
              "      <td>(101, 109)</td>\n",
              "      <td>(115, 129)</td>\n",
              "      <td>(100, 128)</td>\n",
              "      <td>(114, 138)</td>\n",
              "      <td>(101, 137)</td>\n",
              "      <td>(113, 133)</td>\n",
              "      <td>(108, 133)</td>\n",
              "      <td>(116, 141)</td>\n",
              "      <td>(105, 140)</td>\n",
              "      <td>(113, 152)</td>\n",
              "      <td>(107, 153)</td>\n",
              "    </tr>\n",
              "    <tr>\n",
              "      <th>3</th>\n",
              "      <td>(129, 46)</td>\n",
              "      <td>(109, 46)</td>\n",
              "      <td>(131, 69)</td>\n",
              "      <td>(103, 69)</td>\n",
              "      <td>(128, 79)</td>\n",
              "      <td>(105, 76)</td>\n",
              "      <td>(124, 99)</td>\n",
              "      <td>(110, 100)</td>\n",
              "      <td>(124, 144)</td>\n",
              "      <td>(108, 144)</td>\n",
              "      <td>(124, 188)</td>\n",
              "      <td>(106, 187)</td>\n",
              "    </tr>\n",
              "    <tr>\n",
              "      <th>4</th>\n",
              "      <td>(129, 67)</td>\n",
              "      <td>(108, 66)</td>\n",
              "      <td>(131, 93)</td>\n",
              "      <td>(103, 90)</td>\n",
              "      <td>(127, 105)</td>\n",
              "      <td>(103, 101)</td>\n",
              "      <td>(127, 110)</td>\n",
              "      <td>(114, 109)</td>\n",
              "      <td>(127, 133)</td>\n",
              "      <td>(108, 132)</td>\n",
              "      <td>(123, 160)</td>\n",
              "      <td>(108, 161)</td>\n",
              "    </tr>\n",
              "  </tbody>\n",
              "</table>\n",
              "</div>\n",
              "      <button class=\"colab-df-convert\" onclick=\"convertToInteractive('df-e145b32f-bcc2-4ed1-a191-d635eb293cbc')\"\n",
              "              title=\"Convert this dataframe to an interactive table.\"\n",
              "              style=\"display:none;\">\n",
              "        \n",
              "  <svg xmlns=\"http://www.w3.org/2000/svg\" height=\"24px\"viewBox=\"0 0 24 24\"\n",
              "       width=\"24px\">\n",
              "    <path d=\"M0 0h24v24H0V0z\" fill=\"none\"/>\n",
              "    <path d=\"M18.56 5.44l.94 2.06.94-2.06 2.06-.94-2.06-.94-.94-2.06-.94 2.06-2.06.94zm-11 1L8.5 8.5l.94-2.06 2.06-.94-2.06-.94L8.5 2.5l-.94 2.06-2.06.94zm10 10l.94 2.06.94-2.06 2.06-.94-2.06-.94-.94-2.06-.94 2.06-2.06.94z\"/><path d=\"M17.41 7.96l-1.37-1.37c-.4-.4-.92-.59-1.43-.59-.52 0-1.04.2-1.43.59L10.3 9.45l-7.72 7.72c-.78.78-.78 2.05 0 2.83L4 21.41c.39.39.9.59 1.41.59.51 0 1.02-.2 1.41-.59l7.78-7.78 2.81-2.81c.8-.78.8-2.07 0-2.86zM5.41 20L4 18.59l7.72-7.72 1.47 1.35L5.41 20z\"/>\n",
              "  </svg>\n",
              "      </button>\n",
              "      \n",
              "  <style>\n",
              "    .colab-df-container {\n",
              "      display:flex;\n",
              "      flex-wrap:wrap;\n",
              "      gap: 12px;\n",
              "    }\n",
              "\n",
              "    .colab-df-convert {\n",
              "      background-color: #E8F0FE;\n",
              "      border: none;\n",
              "      border-radius: 50%;\n",
              "      cursor: pointer;\n",
              "      display: none;\n",
              "      fill: #1967D2;\n",
              "      height: 32px;\n",
              "      padding: 0 0 0 0;\n",
              "      width: 32px;\n",
              "    }\n",
              "\n",
              "    .colab-df-convert:hover {\n",
              "      background-color: #E2EBFA;\n",
              "      box-shadow: 0px 1px 2px rgba(60, 64, 67, 0.3), 0px 1px 3px 1px rgba(60, 64, 67, 0.15);\n",
              "      fill: #174EA6;\n",
              "    }\n",
              "\n",
              "    [theme=dark] .colab-df-convert {\n",
              "      background-color: #3B4455;\n",
              "      fill: #D2E3FC;\n",
              "    }\n",
              "\n",
              "    [theme=dark] .colab-df-convert:hover {\n",
              "      background-color: #434B5C;\n",
              "      box-shadow: 0px 1px 3px 1px rgba(0, 0, 0, 0.15);\n",
              "      filter: drop-shadow(0px 1px 2px rgba(0, 0, 0, 0.3));\n",
              "      fill: #FFFFFF;\n",
              "    }\n",
              "  </style>\n",
              "\n",
              "      <script>\n",
              "        const buttonEl =\n",
              "          document.querySelector('#df-e145b32f-bcc2-4ed1-a191-d635eb293cbc button.colab-df-convert');\n",
              "        buttonEl.style.display =\n",
              "          google.colab.kernel.accessAllowed ? 'block' : 'none';\n",
              "\n",
              "        async function convertToInteractive(key) {\n",
              "          const element = document.querySelector('#df-e145b32f-bcc2-4ed1-a191-d635eb293cbc');\n",
              "          const dataTable =\n",
              "            await google.colab.kernel.invokeFunction('convertToInteractive',\n",
              "                                                     [key], {});\n",
              "          if (!dataTable) return;\n",
              "\n",
              "          const docLinkHtml = 'Like what you see? Visit the ' +\n",
              "            '<a target=\"_blank\" href=https://colab.research.google.com/notebooks/data_table.ipynb>data table notebook</a>'\n",
              "            + ' to learn more about interactive tables.';\n",
              "          element.innerHTML = '';\n",
              "          dataTable['output_type'] = 'display_data';\n",
              "          await google.colab.output.renderOutput(dataTable, element);\n",
              "          const docLink = document.createElement('div');\n",
              "          docLink.innerHTML = docLinkHtml;\n",
              "          element.appendChild(docLink);\n",
              "        }\n",
              "      </script>\n",
              "    </div>\n",
              "  </div>\n",
              "  "
            ]
          },
          "metadata": {},
          "execution_count": 70
        }
      ]
    },
    {
      "cell_type": "code",
      "source": [
        "i = 2\n",
        "# display_image_with_pose(np.repeat(X_train[i], 3, axis=-1), temp_data.iloc[i])\n",
        "display_image((X_test[i]*255).astype('int'))\n",
        "display_image_with_pose(np.zeros(224*224*3).reshape(224,224,3).astype('int'), pd_test.iloc[i])"
      ],
      "metadata": {
        "colab": {
          "base_uri": "https://localhost:8080/",
          "height": 720
        },
        "id": "z-6DxZxVi7Qj",
        "outputId": "bfd4e1ad-fb2b-4474-feae-6cdaa594f45b"
      },
      "execution_count": null,
      "outputs": [
        {
          "output_type": "execute_result",
          "data": {
            "text/plain": [
              "<matplotlib.axes._subplots.AxesSubplot at 0x7fef2dc9c550>"
            ]
          },
          "metadata": {},
          "execution_count": 71
        },
        {
          "output_type": "display_data",
          "data": {
            "text/plain": [
              "<Figure size 360x360 with 1 Axes>"
            ],
            "image/png": "[encoded data removed]"
          },
          "metadata": {
            "needs_background": "light"
          }
        },
        {
          "output_type": "display_data",
          "data": {
            "text/plain": [
              "<Figure size 360x360 with 1 Axes>"
            ],
            "image/png": "[encoded data removed]"
          },
          "metadata": {
            "needs_background": "light"
          }
        }
      ]
    },
    {
      "cell_type": "code",
      "source": [
        "from sklearn.metrics import mean_absolute_error\n",
        "\n",
        "print('Baseline test mae:', mean_absolute_error(Y_test.reshape(Y_test.shape[0], Y_test.shape[-1]), new_pred))"
      ],
      "metadata": {
        "colab": {
          "base_uri": "https://localhost:8080/"
        },
        "id": "jXt_R0h7k3CG",
        "outputId": "94100177-0f94-473e-c405-11f2e5eb50cc"
      },
      "execution_count": null,
      "outputs": [
        {
          "output_type": "stream",
          "name": "stdout",
          "text": [
            "Baseline test mae: 17.238076694852396\n"
          ]
        }
      ]
    },
    {
      "cell_type": "code",
      "source": [
        "prune_low_magnitude = tfmot.sparsity.keras.prune_low_magnitude\n",
        "\n",
        "prune_epochs = 10\n",
        "\n",
        "end_step = np.ceil(1.0 * X_train.shape[0] / BATCH_SIZE).astype(np.int32) * prune_epochs\n",
        "# Define model for pruning.\n",
        "pruning_params = {\n",
        "    'pruning_schedule': tfmot.sparsity.keras.PolynomialDecay(\n",
        "        initial_sparsity=0.50,\n",
        "        final_sparsity=0.95,\n",
        "        begin_step=0,\n",
        "        end_step=end_step\n",
        "        ),\n",
        "    }\n",
        "model_for_pruning = prune_low_magnitude(model, **pruning_params)\n",
        "# `prune_low_magnitude` requires a recompile.\n",
        "model_for_pruning.compile(\n",
        "    loss = 'mse',\n",
        "    optimizer = Adam(),\n",
        "    metrics = ['mae'],\n",
        ")\n",
        "\n",
        "model_for_pruning.summary()\n",
        "\n",
        "pruning_history = model_for_pruning.fit(X_train, Y_train,\n",
        "                    epochs=prune_epochs,\n",
        "                    validation_data=(X_test, Y_test), \n",
        "                    # batch_size=BATCH_SIZE,\n",
        "                    callbacks=[tfmot.sparsity.keras.UpdatePruningStep()],\n",
        "                    )\n",
        "model_for_pruning.save(\"pruned_multiclass\")"
      ],
      "metadata": {
        "colab": {
          "base_uri": "https://localhost:8080/"
        },
        "id": "dDJog3fvk2_W",
        "outputId": "3bb5f488-c151-449a-e704-e18c5fc23d1e"
      },
      "execution_count": null,
      "outputs": [
        {
          "output_type": "stream",
          "name": "stderr",
          "text": [
            "/usr/local/lib/python3.7/dist-packages/tensorflow_model_optimization/python/core/sparsity/keras/pruning_wrapper.py:218: UserWarning: `layer.add_variable` is deprecated and will be removed in a future version. Please use `layer.add_weight` method instead.\n",
            "  aggregation=tf.VariableAggregation.MEAN)\n",
            "/usr/local/lib/python3.7/dist-packages/tensorflow_model_optimization/python/core/sparsity/keras/pruning_wrapper.py:225: UserWarning: `layer.add_variable` is deprecated and will be removed in a future version. Please use `layer.add_weight` method instead.\n",
            "  aggregation=tf.VariableAggregation.MEAN)\n",
            "/usr/local/lib/python3.7/dist-packages/tensorflow_model_optimization/python/core/sparsity/keras/pruning_wrapper.py:238: UserWarning: `layer.add_variable` is deprecated and will be removed in a future version. Please use `layer.add_weight` method instead.\n",
            "  trainable=False)\n"
          ]
        },
        {
          "output_type": "stream",
          "name": "stdout",
          "text": [
            "Model: \"Pose_Estimator\"\n",
            "_________________________________________________________________\n",
            " Layer (type)                Output Shape              Param #   \n",
            "=================================================================\n",
            " INPUT (InputLayer)          [(None, 224, 224, 3)]     0         \n",
            "                                                                 \n",
            " MobilenetV3small (Functiona  (None, 7, 7, 576)        835796    \n",
            " l)                                                              \n",
            "                                                                 \n",
            " prune_low_magnitude_separab  (None, 3, 3, 256)        309570    \n",
            " le_conv2d (PruneLowMagnitud                                     \n",
            " e)                                                              \n",
            "                                                                 \n",
            " prune_low_magnitude_separab  (None, 1, 1, 24)         14618     \n",
            " le_conv2d_1 (PruneLowMagnit                                     \n",
            " ude)                                                            \n",
            "                                                                 \n",
            "=================================================================\n",
            "Total params: 1,159,984\n",
            "Trainable params: 599,472\n",
            "Non-trainable params: 560,512\n",
            "_________________________________________________________________\n",
            "Epoch 1/10\n",
            "281/281 [==============================] - 38s 61ms/step - loss: 750.7197 - mae: 20.1779 - val_loss: 27668.1621 - val_mae: 154.4903\n",
            "Epoch 2/10\n",
            "281/281 [==============================] - 15s 52ms/step - loss: 637.8159 - mae: 18.4573 - val_loss: 1458.7872 - val_mae: 30.1863\n",
            "Epoch 3/10\n",
            "281/281 [==============================] - 15s 52ms/step - loss: 616.6356 - mae: 18.1169 - val_loss: 1542.5161 - val_mae: 31.2346\n",
            "Epoch 4/10\n",
            "281/281 [==============================] - 14s 52ms/step - loss: 613.6702 - mae: 18.0609 - val_loss: 5503.9810 - val_mae: 58.1398\n",
            "Epoch 5/10\n",
            "281/281 [==============================] - 15s 52ms/step - loss: 605.1206 - mae: 17.9391 - val_loss: 5940.7358 - val_mae: 59.8701\n",
            "Epoch 6/10\n",
            "281/281 [==============================] - 14s 51ms/step - loss: 583.3661 - mae: 17.5908 - val_loss: 4441.6724 - val_mae: 53.1430\n",
            "Epoch 7/10\n",
            "281/281 [==============================] - 14s 52ms/step - loss: 564.8079 - mae: 17.2854 - val_loss: 4010.5510 - val_mae: 52.5438\n",
            "Epoch 8/10\n",
            "281/281 [==============================] - 15s 52ms/step - loss: 550.0547 - mae: 17.0987 - val_loss: 4493.6860 - val_mae: 55.5874\n",
            "Epoch 9/10\n",
            "281/281 [==============================] - 14s 51ms/step - loss: 537.1696 - mae: 16.8819 - val_loss: 4262.0874 - val_mae: 54.4056\n",
            "Epoch 10/10\n",
            "281/281 [==============================] - 14s 51ms/step - loss: 522.8989 - mae: 16.6795 - val_loss: 5628.8633 - val_mae: 63.7368\n"
          ]
        },
        {
          "output_type": "stream",
          "name": "stderr",
          "text": [
            "WARNING:absl:Function `_wrapped_model` contains input name(s) INPUT with unsupported characters which will be renamed to input in the SavedModel.\n",
            "WARNING:absl:Found untraced functions such as Conv_layer_call_fn, Conv_layer_call_and_return_conditional_losses, re_lu_layer_call_fn, re_lu_layer_call_and_return_conditional_losses, expanded_conv/depthwise_layer_call_fn while saving (showing 5 of 126). These functions will not be directly callable after loading.\n"
          ]
        },
        {
          "output_type": "stream",
          "name": "stdout",
          "text": [
            "INFO:tensorflow:Assets written to: pruned_multiclass/assets\n"
          ]
        },
        {
          "output_type": "stream",
          "name": "stderr",
          "text": [
            "INFO:tensorflow:Assets written to: pruned_multiclass/assets\n"
          ]
        }
      ]
    },
    {
      "cell_type": "code",
      "source": [
        "prun_pred = model_for_pruning.predict(X_test)\n",
        "prun_pred = prun_pred.astype('int')\n",
        "prun_pred = np.where(prun_pred < 1, -1, prun_pred)\n",
        "prun_pred = prun_pred.reshape((prun_pred.shape[0], prun_pred.shape[-1]))\n",
        "prun_pred.shape"
      ],
      "metadata": {
        "colab": {
          "base_uri": "https://localhost:8080/"
        },
        "id": "PddVfGj8k28z",
        "outputId": "353deb46-58e6-40fd-fddd-ed24f630caca"
      },
      "execution_count": null,
      "outputs": [
        {
          "output_type": "execute_result",
          "data": {
            "text/plain": [
              "(2247, 24)"
            ]
          },
          "metadata": {},
          "execution_count": 49
        }
      ]
    },
    {
      "cell_type": "code",
      "source": [
        "print('Baseline test mae:', mean_absolute_error(Y_test.reshape(Y_test.shape[0], Y_test.shape[-1]), new_pred))\n",
        "print('Pruned test mae:', mean_absolute_error(Y_test.reshape(Y_test.shape[0], Y_test.shape[-1]), prun_pred))"
      ],
      "metadata": {
        "colab": {
          "base_uri": "https://localhost:8080/"
        },
        "id": "GE8gqVL5k26s",
        "outputId": "d9642d0d-0845-42eb-dfba-8e4049111638"
      },
      "execution_count": null,
      "outputs": [
        {
          "output_type": "stream",
          "name": "stdout",
          "text": [
            "Baseline test mae: 17.238076694852396\n",
            "Pruned test mae: 63.89613929684023\n"
          ]
        }
      ]
    },
    {
      "cell_type": "code",
      "source": [
        "X_train_dataset = tf.data.Dataset.from_tensor_slices((X_train/255).astype('float32'))\n",
        "\n",
        "# get the pruned model ready\n",
        "model_for_export = tfmot.sparsity.keras.strip_pruning(model_for_pruning)\n",
        "\n",
        "# quantize\n",
        "converter = tf.lite.TFLiteConverter.from_keras_model(model_for_export)\n",
        "converter.optimizations = [tf.lite.Optimize.DEFAULT]\n",
        "\n",
        "num_calibration_steps = 1\n",
        "def representative_data_gen():\n",
        "    for input_value in X_train_dataset.batch(1).take(100):\n",
        "        yield [input_value]\n",
        "\n",
        "converter.representative_dataset = representative_data_gen\n",
        "converter.target_spec.supported_ops = [tf.lite.OpsSet.TFLITE_BUILTINS_INT8]\n",
        "converter.inference_input_type = tf.int8  # or tf.uint8\n",
        "converter.inference_output_type = tf.int8  # or tf.uint8"
      ],
      "metadata": {
        "id": "B1n13Ebnk24U"
      },
      "execution_count": null,
      "outputs": []
    },
    {
      "cell_type": "code",
      "source": [
        "tflite_model = converter.convert()"
      ],
      "metadata": {
        "colab": {
          "base_uri": "https://localhost:8080/"
        },
        "id": "eaPzMsaCk219",
        "outputId": "adbaf7b8-069e-4a15-8fc2-30e1975ed6bc"
      },
      "execution_count": null,
      "outputs": [
        {
          "output_type": "stream",
          "name": "stderr",
          "text": [
            "WARNING:absl:Function `_wrapped_model` contains input name(s) INPUT with unsupported characters which will be renamed to input in the SavedModel.\n"
          ]
        },
        {
          "output_type": "stream",
          "name": "stdout",
          "text": [
            "INFO:tensorflow:Assets written to: /tmp/tmpixwoevpb/assets\n"
          ]
        },
        {
          "output_type": "stream",
          "name": "stderr",
          "text": [
            "INFO:tensorflow:Assets written to: /tmp/tmpixwoevpb/assets\n",
            "/usr/local/lib/python3.7/dist-packages/tensorflow/lite/python/convert.py:746: UserWarning: Statistics for quantized inputs were expected, but not specified; continuing anyway.\n",
            "  warnings.warn(\"Statistics for quantized inputs were expected, but not \"\n",
            "WARNING:absl:Buffer deduplication procedure will be skipped when flatbuffer library is not properly loaded\n"
          ]
        }
      ]
    },
    {
      "cell_type": "code",
      "source": [
        "with open(\"quant_pruned.tflite\",'wb') as f:\n",
        "    f.write(tflite_model)"
      ],
      "metadata": {
        "id": "29oLNQw9k_rT"
      },
      "execution_count": null,
      "outputs": []
    },
    {
      "cell_type": "code",
      "source": [
        "interpreter = tf.lite.Interpreter(\"quant_pruned.tflite\")\n",
        "interpreter.allocate_tensors()\n",
        "\n",
        "# Get input and output tensors.\n",
        "input_details = interpreter.get_input_details()\n",
        "output_details = interpreter.get_output_details()\n",
        "\n",
        "# Test the model on random input data.\n",
        "input_shape = input_details[0]['shape']\n",
        "quant_pred = []\n",
        "\n",
        "pbar = tqdm(total=len(X_test), desc=\"Making predictions on tflite model:\")\n",
        "for i in range(len(X_test)):\n",
        "    input_data = np.expand_dims((X_test[0]*255).astype('int8'), axis=0)\n",
        "    interpreter.set_tensor(input_details[0]['index'], input_data)\n",
        "    interpreter.invoke()\n",
        "    pbar.update(1)\n",
        "    \n",
        "    # The function `get_tensor()` returns a copy of the tensor data.\n",
        "    # Use `tensor()` in order to get a pointer to the tensor.\n",
        "    output_data = interpreter.get_tensor(output_details[0]['index'])\n",
        "    quant_pred.append(output_data.flatten())\n",
        "quant_pred = np.array(quant_pred)\n",
        "pbar.close()"
      ],
      "metadata": {
        "colab": {
          "base_uri": "https://localhost:8080/",
          "height": 49,
          "referenced_widgets": [
            "766ffd937bd54c00807984bb84720483",
            "9842dd312bcd4a29a95967a7c22d90af",
            "e43031fc151d425199f5d46ad58f51e7",
            "30fb27522ab34dd58e6a28ea84a0d364",
            "41f9b56b709a47afb8f20a894be90064",
            "0486d946bc0b44aca87d16a90b9525ac",
            "7028e5f600f0474e8d26f791c7cebd83",
            "2673318f2ddc42e0b71a93852109bc47",
            "66aecdd7726448b6878ac620c6fbdfcd",
            "b7324168ecde42b583e5fb5d192af8e7",
            "f28cae5f13f64987a5e273fdd49e5856"
          ]
        },
        "id": "zH95sUQpk_of",
        "outputId": "04678092-4340-428e-8b34-24be4ba14931"
      },
      "execution_count": null,
      "outputs": [
        {
          "output_type": "display_data",
          "data": {
            "text/plain": [
              "Making predictions on tflite model::   0%|          | 0/2247 [00:00<?, ?it/s]"
            ],
            "application/vnd.jupyter.widget-view+json": {
              "version_major": 2,
              "version_minor": 0,
              "model_id": "766ffd937bd54c00807984bb84720483"
            }
          },
          "metadata": {}
        }
      ]
    },
    {
      "cell_type": "code",
      "source": [
        "print('Baseline test mae:', mean_absolute_error(Y_test.reshape(Y_test.shape[0], Y_test.shape[-1]), new_pred))\n",
        "print('Pruned test mae:', mean_absolute_error(Y_test.reshape(Y_test.shape[0], Y_test.shape[-1]), prun_pred))\n",
        "print('Quantized test mae:', mean_absolute_error(Y_test.reshape(Y_test.shape[0], Y_test.shape[-1]), quant_pred))"
      ],
      "metadata": {
        "colab": {
          "base_uri": "https://localhost:8080/"
        },
        "id": "AFDaPMyIk_mK",
        "outputId": "094af5d1-26c0-486a-e559-65fd098644f0"
      },
      "execution_count": null,
      "outputs": [
        {
          "output_type": "stream",
          "name": "stdout",
          "text": [
            "Baseline test mae: 17.238076694852396\n",
            "Pruned test mae: 63.89613929684023\n",
            "Quantized test mae: 149.2972852692479\n"
          ]
        }
      ]
    },
    {
      "cell_type": "code",
      "source": [
        "port_img = cv2.resize(cv2.imread(\"me/00006.jpg\"), (224, 224), interpolation=cv2.INTER_AREA)\n",
        "port_pred = model.predict(np.expand_dims(port_img, axis=0)).astype('int').flatten()\n",
        "port_pred = np.where(port_pred < 1, -1, port_pred)\n",
        "port_pred = np.where(port_pred > 224, -1, port_pred)\n",
        "\n",
        "data = []\n",
        "for i in [port_pred]:\n",
        "    temp = i.tolist()\n",
        "    data.append([(temp[j], temp[j+1]) for j in range(0, 24, 2)])\n",
        "\n",
        "pd_test = pd.DataFrame(data)\n",
        "columns = pd.read_csv(ANNOTATION).columns[1:-7]\n",
        "pd_test.columns = columns\n",
        "\n",
        "pd_test = pd_test.apply(lambda x: datapoint_correction(x), axis=1)\n",
        "pd_test.columns = columns\n",
        "display_image(port_img)\n",
        "display_image_with_pose(np.zeros(224*224*3).reshape(224,224,3).astype('int'), pd_test.iloc[0], ratio=5)"
      ],
      "metadata": {
        "colab": {
          "base_uri": "https://localhost:8080/",
          "height": 720
        },
        "id": "aRtLEdAfpm6a",
        "outputId": "49d0fb3a-63b2-4be1-da3d-de2d1305a855"
      },
      "execution_count": null,
      "outputs": [
        {
          "output_type": "execute_result",
          "data": {
            "text/plain": [
              "<matplotlib.axes._subplots.AxesSubplot at 0x7fef2dc4a790>"
            ]
          },
          "metadata": {},
          "execution_count": 66
        },
        {
          "output_type": "display_data",
          "data": {
            "text/plain": [
              "<Figure size 360x360 with 1 Axes>"
            ],
            "image/png": "[encoded data removed]"
          },
          "metadata": {
            "needs_background": "light"
          }
        },
        {
          "output_type": "display_data",
          "data": {
            "text/plain": [
              "<Figure size 360x360 with 1 Axes>"
            ],
            "image/png": "[encoded data removed]"
          },
          "metadata": {
            "needs_background": "light"
          }
        }
      ]
    },
    {
      "cell_type": "code",
      "source": [
        ""
      ],
      "metadata": {
        "id": "xn0FIHKQby5R"
      },
      "execution_count": null,
      "outputs": []
    }
  ]
}