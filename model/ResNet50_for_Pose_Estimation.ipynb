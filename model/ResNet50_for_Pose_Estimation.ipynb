{
  "nbformat": 4,
  "nbformat_minor": 0,
  "metadata": {
    "colab": {
      "name": "ResNet50_for_Pose_Estimation.ipynb",
      "provenance": [],
      "machine_shape": "hm",
      "collapsed_sections": []
    },
    "kernelspec": {
      "name": "python3",
      "display_name": "Python 3"
    },
    "language_info": {
      "name": "python"
    },
    "accelerator": "GPU",
    "widgets": {
      "application/vnd.jupyter.widget-state+json": {
        "9757ba052b5044ec9a1c8465568c8c4f": {
          "model_module": "@jupyter-widgets/controls",
          "model_name": "HBoxModel",
          "model_module_version": "1.5.0",
          "state": {
            "_dom_classes": [],
            "_model_module": "@jupyter-widgets/controls",
            "_model_module_version": "1.5.0",
            "_model_name": "HBoxModel",
            "_view_count": null,
            "_view_module": "@jupyter-widgets/controls",
            "_view_module_version": "1.5.0",
            "_view_name": "HBoxView",
            "box_style": "",
            "children": [
              "IPY_MODEL_568e4e9391db403da990f5a20cbecb04",
              "IPY_MODEL_b3e3066f2dbe44408bea9e72213dfebf",
              "IPY_MODEL_3014f2b7e848405fa635e6e066dc561a"
            ],
            "layout": "IPY_MODEL_39dfe3cffc59448ba9b441ce6084ee48"
          }
        },
        "568e4e9391db403da990f5a20cbecb04": {
          "model_module": "@jupyter-widgets/controls",
          "model_name": "HTMLModel",
          "model_module_version": "1.5.0",
          "state": {
            "_dom_classes": [],
            "_model_module": "@jupyter-widgets/controls",
            "_model_module_version": "1.5.0",
            "_model_name": "HTMLModel",
            "_view_count": null,
            "_view_module": "@jupyter-widgets/controls",
            "_view_module_version": "1.5.0",
            "_view_name": "HTMLView",
            "description": "",
            "description_tooltip": null,
            "layout": "IPY_MODEL_f46f87b0505b446da5a2bed3e862fa59",
            "placeholder": "​",
            "style": "IPY_MODEL_356a20dadcd5406e92714cf55c2a2d79",
            "value": "Making predictions on tflite model:: 100%"
          }
        },
        "b3e3066f2dbe44408bea9e72213dfebf": {
          "model_module": "@jupyter-widgets/controls",
          "model_name": "FloatProgressModel",
          "model_module_version": "1.5.0",
          "state": {
            "_dom_classes": [],
            "_model_module": "@jupyter-widgets/controls",
            "_model_module_version": "1.5.0",
            "_model_name": "FloatProgressModel",
            "_view_count": null,
            "_view_module": "@jupyter-widgets/controls",
            "_view_module_version": "1.5.0",
            "_view_name": "ProgressView",
            "bar_style": "success",
            "description": "",
            "description_tooltip": null,
            "layout": "IPY_MODEL_f556d121e06042a6afc1c7f3c608b50e",
            "max": 5,
            "min": 0,
            "orientation": "horizontal",
            "style": "IPY_MODEL_828ed00d6cb54ed7947453a88fc0e4b6",
            "value": 5
          }
        },
        "3014f2b7e848405fa635e6e066dc561a": {
          "model_module": "@jupyter-widgets/controls",
          "model_name": "HTMLModel",
          "model_module_version": "1.5.0",
          "state": {
            "_dom_classes": [],
            "_model_module": "@jupyter-widgets/controls",
            "_model_module_version": "1.5.0",
            "_model_name": "HTMLModel",
            "_view_count": null,
            "_view_module": "@jupyter-widgets/controls",
            "_view_module_version": "1.5.0",
            "_view_name": "HTMLView",
            "description": "",
            "description_tooltip": null,
            "layout": "IPY_MODEL_2c07071adc854b2685c8e06d2865bd1d",
            "placeholder": "​",
            "style": "IPY_MODEL_0b452db026e342e7a2b72f8c1007d420",
            "value": " 5/5 [00:48&lt;00:00,  9.74s/it]"
          }
        },
        "39dfe3cffc59448ba9b441ce6084ee48": {
          "model_module": "@jupyter-widgets/base",
          "model_name": "LayoutModel",
          "model_module_version": "1.2.0",
          "state": {
            "_model_module": "@jupyter-widgets/base",
            "_model_module_version": "1.2.0",
            "_model_name": "LayoutModel",
            "_view_count": null,
            "_view_module": "@jupyter-widgets/base",
            "_view_module_version": "1.2.0",
            "_view_name": "LayoutView",
            "align_content": null,
            "align_items": null,
            "align_self": null,
            "border": null,
            "bottom": null,
            "display": null,
            "flex": null,
            "flex_flow": null,
            "grid_area": null,
            "grid_auto_columns": null,
            "grid_auto_flow": null,
            "grid_auto_rows": null,
            "grid_column": null,
            "grid_gap": null,
            "grid_row": null,
            "grid_template_areas": null,
            "grid_template_columns": null,
            "grid_template_rows": null,
            "height": null,
            "justify_content": null,
            "justify_items": null,
            "left": null,
            "margin": null,
            "max_height": null,
            "max_width": null,
            "min_height": null,
            "min_width": null,
            "object_fit": null,
            "object_position": null,
            "order": null,
            "overflow": null,
            "overflow_x": null,
            "overflow_y": null,
            "padding": null,
            "right": null,
            "top": null,
            "visibility": null,
            "width": null
          }
        },
        "f46f87b0505b446da5a2bed3e862fa59": {
          "model_module": "@jupyter-widgets/base",
          "model_name": "LayoutModel",
          "model_module_version": "1.2.0",
          "state": {
            "_model_module": "@jupyter-widgets/base",
            "_model_module_version": "1.2.0",
            "_model_name": "LayoutModel",
            "_view_count": null,
            "_view_module": "@jupyter-widgets/base",
            "_view_module_version": "1.2.0",
            "_view_name": "LayoutView",
            "align_content": null,
            "align_items": null,
            "align_self": null,
            "border": null,
            "bottom": null,
            "display": null,
            "flex": null,
            "flex_flow": null,
            "grid_area": null,
            "grid_auto_columns": null,
            "grid_auto_flow": null,
            "grid_auto_rows": null,
            "grid_column": null,
            "grid_gap": null,
            "grid_row": null,
            "grid_template_areas": null,
            "grid_template_columns": null,
            "grid_template_rows": null,
            "height": null,
            "justify_content": null,
            "justify_items": null,
            "left": null,
            "margin": null,
            "max_height": null,
            "max_width": null,
            "min_height": null,
            "min_width": null,
            "object_fit": null,
            "object_position": null,
            "order": null,
            "overflow": null,
            "overflow_x": null,
            "overflow_y": null,
            "padding": null,
            "right": null,
            "top": null,
            "visibility": null,
            "width": null
          }
        },
        "356a20dadcd5406e92714cf55c2a2d79": {
          "model_module": "@jupyter-widgets/controls",
          "model_name": "DescriptionStyleModel",
          "model_module_version": "1.5.0",
          "state": {
            "_model_module": "@jupyter-widgets/controls",
            "_model_module_version": "1.5.0",
            "_model_name": "DescriptionStyleModel",
            "_view_count": null,
            "_view_module": "@jupyter-widgets/base",
            "_view_module_version": "1.2.0",
            "_view_name": "StyleView",
            "description_width": ""
          }
        },
        "f556d121e06042a6afc1c7f3c608b50e": {
          "model_module": "@jupyter-widgets/base",
          "model_name": "LayoutModel",
          "model_module_version": "1.2.0",
          "state": {
            "_model_module": "@jupyter-widgets/base",
            "_model_module_version": "1.2.0",
            "_model_name": "LayoutModel",
            "_view_count": null,
            "_view_module": "@jupyter-widgets/base",
            "_view_module_version": "1.2.0",
            "_view_name": "LayoutView",
            "align_content": null,
            "align_items": null,
            "align_self": null,
            "border": null,
            "bottom": null,
            "display": null,
            "flex": null,
            "flex_flow": null,
            "grid_area": null,
            "grid_auto_columns": null,
            "grid_auto_flow": null,
            "grid_auto_rows": null,
            "grid_column": null,
            "grid_gap": null,
            "grid_row": null,
            "grid_template_areas": null,
            "grid_template_columns": null,
            "grid_template_rows": null,
            "height": null,
            "justify_content": null,
            "justify_items": null,
            "left": null,
            "margin": null,
            "max_height": null,
            "max_width": null,
            "min_height": null,
            "min_width": null,
            "object_fit": null,
            "object_position": null,
            "order": null,
            "overflow": null,
            "overflow_x": null,
            "overflow_y": null,
            "padding": null,
            "right": null,
            "top": null,
            "visibility": null,
            "width": null
          }
        },
        "828ed00d6cb54ed7947453a88fc0e4b6": {
          "model_module": "@jupyter-widgets/controls",
          "model_name": "ProgressStyleModel",
          "model_module_version": "1.5.0",
          "state": {
            "_model_module": "@jupyter-widgets/controls",
            "_model_module_version": "1.5.0",
            "_model_name": "ProgressStyleModel",
            "_view_count": null,
            "_view_module": "@jupyter-widgets/base",
            "_view_module_version": "1.2.0",
            "_view_name": "StyleView",
            "bar_color": null,
            "description_width": ""
          }
        },
        "2c07071adc854b2685c8e06d2865bd1d": {
          "model_module": "@jupyter-widgets/base",
          "model_name": "LayoutModel",
          "model_module_version": "1.2.0",
          "state": {
            "_model_module": "@jupyter-widgets/base",
            "_model_module_version": "1.2.0",
            "_model_name": "LayoutModel",
            "_view_count": null,
            "_view_module": "@jupyter-widgets/base",
            "_view_module_version": "1.2.0",
            "_view_name": "LayoutView",
            "align_content": null,
            "align_items": null,
            "align_self": null,
            "border": null,
            "bottom": null,
            "display": null,
            "flex": null,
            "flex_flow": null,
            "grid_area": null,
            "grid_auto_columns": null,
            "grid_auto_flow": null,
            "grid_auto_rows": null,
            "grid_column": null,
            "grid_gap": null,
            "grid_row": null,
            "grid_template_areas": null,
            "grid_template_columns": null,
            "grid_template_rows": null,
            "height": null,
            "justify_content": null,
            "justify_items": null,
            "left": null,
            "margin": null,
            "max_height": null,
            "max_width": null,
            "min_height": null,
            "min_width": null,
            "object_fit": null,
            "object_position": null,
            "order": null,
            "overflow": null,
            "overflow_x": null,
            "overflow_y": null,
            "padding": null,
            "right": null,
            "top": null,
            "visibility": null,
            "width": null
          }
        },
        "0b452db026e342e7a2b72f8c1007d420": {
          "model_module": "@jupyter-widgets/controls",
          "model_name": "DescriptionStyleModel",
          "model_module_version": "1.5.0",
          "state": {
            "_model_module": "@jupyter-widgets/controls",
            "_model_module_version": "1.5.0",
            "_model_name": "DescriptionStyleModel",
            "_view_count": null,
            "_view_module": "@jupyter-widgets/base",
            "_view_module_version": "1.2.0",
            "_view_name": "StyleView",
            "description_width": ""
          }
        }
      }
    }
  },
  "cells": [
    {
      "cell_type": "markdown",
      "source": [
        "## Import Modules"
      ],
      "metadata": {
        "id": "TiFGh3zhlUOm"
      }
    },
    {
      "cell_type": "code",
      "execution_count": null,
      "metadata": {
        "id": "LXQ6sjhmkTut"
      },
      "outputs": [],
      "source": [
        "%%capture\n",
        "!pip install tensorflow_model_optimization"
      ]
    },
    {
      "cell_type": "code",
      "source": [
        "import os\n",
        "import re\n",
        "from collections import defaultdict\n",
        "import shutil\n",
        "import json\n",
        "import random\n",
        "from ast import literal_eval\n",
        "\n",
        "import numpy as np\n",
        "import pandas as pd\n",
        "\n",
        "import matplotlib.pyplot as plt\n",
        "import matplotlib.image as mpimg\n",
        "from matplotlib.collections import LineCollection\n",
        "\n",
        "import cv2\n",
        "\n",
        "from tensorflow.keras.models import Sequential\n",
        "from tensorflow.keras.layers import Input, Dense, Conv2D, MaxPool2D, BatchNormalization, Flatten, Dropout, LeakyReLU\n",
        "from tensorflow.keras.utils import plot_model\n",
        "from tensorflow.keras.optimizers import Adam\n",
        "from tensorflow.keras.callbacks import ReduceLROnPlateau, EarlyStopping\n",
        "from tensorflow.keras.losses import mean_squared_error\n",
        "\n",
        "from sklearn.model_selection import train_test_split\n",
        "\n",
        "import tensorflow_model_optimization as tfmot\n",
        "import tensorflow as tf\n",
        "from tqdm.notebook import tqdm"
      ],
      "metadata": {
        "id": "8KTP4l6Vljqz"
      },
      "execution_count": null,
      "outputs": []
    },
    {
      "cell_type": "markdown",
      "source": [
        "### Helper functions"
      ],
      "metadata": {
        "id": "zYYeCbBbt1Dj"
      }
    },
    {
      "cell_type": "code",
      "source": [
        "def read_image(img_loc: str, channel: \"gray or rgb\"=\"gray\"):\n",
        "    channel = channel.lower()\n",
        "    assert channel in [\"gray\", \"rgb\"]\n",
        "    image = cv2.imread(img_loc)\n",
        "    if channel == \"rgb\":\n",
        "        image = cv2.cvtColor(image, cv2.COLOR_BGR2RGB)\n",
        "    else:\n",
        "        image = cv2.cvtColor(image, cv2.COLOR_BGR2GRAY)\n",
        "        image = np.expand_dims(image, axis=-1)\n",
        "        image = np.repeat(image, 3, axis=-1)\n",
        "        height, width, channel = image.shape\n",
        "    return image"
      ],
      "metadata": {
        "id": "P3H9fsXat0oW"
      },
      "execution_count": null,
      "outputs": []
    },
    {
      "cell_type": "code",
      "source": [
        "def display_image(image: \"image_loc or numpy.ndarray\", ratio:int=5, **kwargs):\n",
        "    assert isinstance(image, str) or isinstance(image, np.ndarray)\n",
        "    channel = kwargs.get(\"channel\", \"gray\")\n",
        "    if isinstance(image, str):\n",
        "        image = read_image(image, channel)\n",
        "#     else:\n",
        "#         if channel == \"gray\": image = cv2.cvtColor(image, cv2.COLOR_RGB2GRAY)\n",
        "    assert isinstance(image, np.ndarray)\n",
        "    height, width = image.shape[0], image.shape[1]\n",
        "    aspect_ratio = float(width) / height\n",
        "    fig, ax = plt.subplots(figsize=(ratio*aspect_ratio, ratio))\n",
        "    fig.tight_layout(pad=0)\n",
        "    ax.margins(0)\n",
        "    ax.set_yticklabels([])\n",
        "    ax.set_xticklabels([])\n",
        "    plt.axis('off')\n",
        "    cmap = channel if channel == \"gray\" else \"viridis\"\n",
        "    ax.imshow(image, cmap=cmap)\n",
        "    return ax"
      ],
      "metadata": {
        "id": "4JShDPLKt8Dm"
      },
      "execution_count": null,
      "outputs": []
    },
    {
      "cell_type": "code",
      "source": [
        "def get_line_segments(x):\n",
        "    groups = [\n",
        "        [\"left_shoulder\", \"left_elbow\"],\n",
        "        [\"left_elbow\", \"left_wrist\"],\n",
        "        [\"right_shoulder\", \"right_elbow\"],\n",
        "        [\"right_elbow\", \"right_wrist\"],\n",
        "        [\"left_ankle\", \"left_knee\"],\n",
        "        [\"left_knee\", \"left_hip\"],\n",
        "        [\"right_ankle\", \"right_knee\"],\n",
        "        [\"right_knee\", \"right_hip\"],\n",
        "        [\"left_shoulder\", \"right_shoulder\"],\n",
        "        [\"left_hip\", \"right_hip\"]\n",
        "    ]\n",
        "    \n",
        "    lines = []\n",
        "    for i in groups:\n",
        "        if x[i[0]][0] != -1 and x[i[1]][0] != -1:\n",
        "            lines.append([x[i[0]], x[i[1]]])\n",
        "    if x[groups[-2][0]][0] != -1 and x[groups[-2][1]][0] != -1:\n",
        "        if x[groups[-1][0]][0] != -1 and x[groups[-1][1]][0] != -1:\n",
        "            lines.append([\n",
        "                [(x[groups[-2][0]][0] + x[groups[-2][1]][0])/2, (x[groups[-2][0]][1] + x[groups[-2][1]][1])/2],\n",
        "                [(x[groups[-1][0]][0] + x[groups[-1][1]][0])/2, (x[groups[-1][0]][1] + x[groups[-1][1]][1])/2]\n",
        "            ])\n",
        "    return lines"
      ],
      "metadata": {
        "id": "F8Pd0Mjst-II"
      },
      "execution_count": null,
      "outputs": []
    },
    {
      "cell_type": "code",
      "source": [
        "def display_image_with_pose(image: \"image_loc or numpy.ndarray\", pose: \"pandas.core.frame.DataFrame\", ratio:int=5, **kwargs):\n",
        "    ax = display_image(image, ratio, **kwargs)\n",
        "    line_segments = LineCollection([], linewidths=(3), linestyle='solid', color='red')\n",
        "    ax.add_collection(line_segments)\n",
        "    temp = get_line_segments(pose)\n",
        "#     temp = pose.apply(lambda x: get_line_segments(x), axis=1).to_list()[0]\n",
        "    dots = list(set((j[0], j[1]) for i in temp for j in i))\n",
        "    line_segments.set_segments(temp)\n",
        "    for i in dots:\n",
        "        plt.scatter(i[0], i[1], s=20, zorder=3, color='white')\n",
        "    return ax"
      ],
      "metadata": {
        "id": "rQKJGp4et_mN"
      },
      "execution_count": null,
      "outputs": []
    },
    {
      "cell_type": "code",
      "source": [
        "def datapoint_correction(x):\n",
        "    temp = []\n",
        "    for i in x:\n",
        "        if i[0] == -1 or i[1] == -1:\n",
        "            temp.append((-1, -1))\n",
        "        else:\n",
        "            temp.append(i)\n",
        "    return pd.Series(temp)"
      ],
      "metadata": {
        "id": "oUQeKlGbuDBx"
      },
      "execution_count": null,
      "outputs": []
    },
    {
      "cell_type": "markdown",
      "source": [
        "### Define variables and directories"
      ],
      "metadata": {
        "id": "aceJct4Qltpw"
      }
    },
    {
      "cell_type": "code",
      "source": [
        "BASE_DIR = \"/content/drive/MyDrive/CNN/Regressor\"\n",
        "DATA_DIR = os.path.join(BASE_DIR, \"data\")\n",
        "INPUT_DIR = os.path.join(DATA_DIR, \"inputs\", \"gray_ch_1_224\")\n",
        "ANNOTATION = os.path.join(INPUT_DIR.replace(\"inputs\", \"annotations\"), \"final_model_ready_dataset.csv\")"
      ],
      "metadata": {
        "id": "0EL4XaSAlqb7"
      },
      "execution_count": null,
      "outputs": []
    },
    {
      "cell_type": "markdown",
      "source": [
        "### Load feature space and labels"
      ],
      "metadata": {
        "id": "pz7hJJ_ZmNT5"
      }
    },
    {
      "cell_type": "code",
      "source": [
        "X_data = np.load(os.path.join(INPUT_DIR, \"X_data.npy\"))\n",
        "Y_data = np.load(os.path.join(INPUT_DIR, \"Y_data.npy\"))"
      ],
      "metadata": {
        "id": "hRQ932atmLrl"
      },
      "execution_count": null,
      "outputs": []
    },
    {
      "cell_type": "markdown",
      "source": [
        "### Perform preprocessing before passing to model for training"
      ],
      "metadata": {
        "id": "KwuaH7Ymmn1k"
      }
    },
    {
      "cell_type": "code",
      "source": [
        "# If input has one channel, repeat the channel value 3 times - for 3 channel input\n",
        "if X_data.shape[-1] == 1:\n",
        "    # X_data = X_data/255\n",
        "    X_data = np.repeat(X_data, 3, axis=-1)\n",
        "\n",
        "# # Normalize the keypoint coordinates between 0 and 1\n",
        "# if Y_data.dtype == int:\n",
        "#     Y_data = Y_data/X_data.shape[1]\n",
        "\n",
        "# Reshape Y to match output shape\n",
        "# Y_data = Y_data.reshape((Y_data.shape[0], 1, 1, Y_data.shape[-1]))\n",
        "\n",
        "print(\"INPUT SHAPE:\", X_data.shape, \"\\nOUTPUT_SHAPE:\", Y_data.shape)"
      ],
      "metadata": {
        "colab": {
          "base_uri": "https://localhost:8080/"
        },
        "id": "RVrgL5pjmjmc",
        "outputId": "96ca8e60-d35d-45af-8fdf-d19dbf63410c"
      },
      "execution_count": null,
      "outputs": [
        {
          "output_type": "stream",
          "name": "stdout",
          "text": [
            "INPUT SHAPE: (11232, 224, 224, 3) \n",
            "OUTPUT_SHAPE: (11232, 24)\n"
          ]
        }
      ]
    },
    {
      "cell_type": "markdown",
      "source": [
        "## Split dataset into train and test set"
      ],
      "metadata": {
        "id": "0MpDU8fPnv0T"
      }
    },
    {
      "cell_type": "code",
      "source": [
        "# X_data = (X_data/255).astype('float16')"
      ],
      "metadata": {
        "id": "vFjIl1RD7EUq"
      },
      "execution_count": null,
      "outputs": []
    },
    {
      "cell_type": "code",
      "source": [
        "X_train, X_test, Y_train, Y_test = train_test_split(X_data, Y_data, test_size=0.2, random_state=2022)\n",
        "X_train.shape, X_test.shape, Y_train.shape, Y_test.shape\n",
        "del X_data, Y_data"
      ],
      "metadata": {
        "id": "1MBRsIzRmnHo"
      },
      "execution_count": null,
      "outputs": []
    },
    {
      "cell_type": "markdown",
      "source": [
        "## Define model's parameters and hyperparameters"
      ],
      "metadata": {
        "id": "J3g2Ik5Jn913"
      }
    },
    {
      "cell_type": "code",
      "source": [
        "BATCH_SIZE = 64\n",
        "LEARNING_RATE = 1e-4\n",
        "EPOCHS = 500"
      ],
      "metadata": {
        "id": "_rNBT7zZnUiV"
      },
      "execution_count": null,
      "outputs": []
    },
    {
      "cell_type": "markdown",
      "source": [
        "## POSE ESTIMATOR MODEL"
      ],
      "metadata": {
        "id": "2CjQGvbZplNn"
      }
    },
    {
      "cell_type": "markdown",
      "source": [
        "### Define model architecture"
      ],
      "metadata": {
        "id": "gSd1DlVWpqME"
      }
    },
    {
      "cell_type": "code",
      "source": [
        "backbone = tf.keras.applications.resnet_v2.ResNet50V2(input_shape = X_train.shape[1:], weights='imagenet', include_top=False, pooling=None)\n",
        "backbone.trainable = True\n",
        "\n",
        "inputs = Input(shape=X_train.shape[1:], name=\"INPUT\")\n",
        "# x = tf.keras.applications.mobilenet_v3.preprocess_input(inputs)\n",
        "x = backbone(inputs)\n",
        "x"
      ],
      "metadata": {
        "id": "B2xhl959_jf3",
        "colab": {
          "base_uri": "https://localhost:8080/"
        },
        "outputId": "b4a9c657-a606-42d9-8bd4-456172473c3f"
      },
      "execution_count": null,
      "outputs": [
        {
          "output_type": "execute_result",
          "data": {
            "text/plain": [
              "<KerasTensor: shape=(None, 7, 7, 2048) dtype=float32 (created by layer 'resnet50v2')>"
            ]
          },
          "metadata": {},
          "execution_count": 14
        }
      ]
    },
    {
      "cell_type": "code",
      "source": [
        "x = Dropout(0.5)(x)\n",
        "x = tf.keras.layers.SeparableConv2D(512, kernel_size=3, strides=1, activation=\"relu\")(x)\n",
        "x = Dropout(0.5)(x)\n",
        "x = tf.keras.layers.SeparableConv2D(128, kernel_size=3, strides=1, activation=\"relu\")(x)\n",
        "# x = tf.keras.layers.SeparableConv2D(Y_train.shape[-1], kernel_size=3, strides=1, activation=\"relu\")(x)\n",
        "outputs = tf.keras.layers.SeparableConv2D(Y_train.shape[-1], kernel_size=3, strides=1, activation=\"relu\")(x)\n",
        "model = tf.keras.Model(inputs=inputs, outputs=outputs, name=\"Pose_Estimator\")"
      ],
      "metadata": {
        "id": "QfeEeZZaFpxT"
      },
      "execution_count": null,
      "outputs": []
    },
    {
      "cell_type": "code",
      "source": [
        "# backbone = tf.keras.applications.MobileNetV3Large(input_shape = X_train.shape[1:], weights='imagenet', include_top=False)\n",
        "# backbone.trainable = False\n",
        "\n",
        "# inputs = Input(shape=X_train.shape[1:], name=\"INPUT\")\n",
        "# x = tf.keras.applications.mobilenet_v3.preprocess_input(inputs)\n",
        "# x = backbone(x)\n",
        "# x = Dropout(0.3)(x)\n",
        "# x = tf.keras.layers.SeparableConv2D(Y_train.shape[-1], kernel_size=5, strides=1, activation=\"relu\")(x)\n",
        "# x = tf.keras.layers.SeparableConv2D(Y_train.shape[-1], kernel_size=3, strides=1, activation=\"relu\")(x)\n",
        "# x = tf.keras.layers.SeparableConv2D(Y_train.shape[-1], kernel_size=3, strides=1, activation=\"relu\")(x)\n",
        "# outputs = tf.keras.layers.SeparableConv2D(Y_train.shape[-1], kernel_size=2, strides=1, activation=\"sigmoid\")(x)\n",
        "# model = tf.keras.Model(inputs=inputs, outputs=outputs, name=\"Pose_Estimator\")\n",
        "\n",
        "\n",
        "# inputs = Input(shape=X_train.shape[1:], name=\"INPUT\")\n",
        "# # x = tf.keras.applications.mobilenet_v3.preprocess_input(inputs)\n",
        "# x = backbone(inputs)\n",
        "# x = Dropout(0.3)(x)\n",
        "# # x = tf.keras.layers.SeparableConv2D(Y_train.shape[-1], kernel_size=3, strides=1, activation=\"relu\")(x)\n",
        "# x = tf.keras.layers.SeparableConv2D(Y_train.shape[-1], kernel_size=5, strides=1, activation=\"relu\")(x)\n",
        "# x = tf.keras.layers.SeparableConv2D(Y_train.shape[-1], kernel_size=3, strides=1, activation=\"relu\")(x)\n",
        "# x = tf.keras.layers.SeparableConv2D(Y_train.shape[-1], kernel_size=3, strides=1, activation=\"relu\")(x)\n",
        "# x = tf.keras.layers.SeparableConv2D(Y_train.shape[-1], kernel_size=1, strides=1, activation=\"relu\")(x)\n",
        "# x = tf.keras.layers.SeparableConv2D(Y_train.shape[-1], kernel_size=1, strides=1, activation=\"relu\")(x)\n",
        "# outputs = tf.keras.layers.SeparableConv2D(Y_train.shape[-1], kernel_size=1, strides=1, activation=\"relu\")(x)\n",
        "\n",
        "# model = tf.keras.Model(inputs=inputs, outputs=outputs, name=\"Pose_Estimator\")\n",
        "# model.summary()"
      ],
      "metadata": {
        "id": "Ht_Xt37soYCO"
      },
      "execution_count": null,
      "outputs": []
    },
    {
      "cell_type": "code",
      "source": [
        "model.summary()"
      ],
      "metadata": {
        "colab": {
          "base_uri": "https://localhost:8080/"
        },
        "id": "2_26VgG7AAro",
        "outputId": "881d78c6-e3bf-42fe-f6f2-7a2a2397c47c"
      },
      "execution_count": null,
      "outputs": [
        {
          "output_type": "stream",
          "name": "stdout",
          "text": [
            "Model: \"Pose_Estimator\"\n",
            "_________________________________________________________________\n",
            " Layer (type)                Output Shape              Param #   \n",
            "=================================================================\n",
            " INPUT (InputLayer)          [(None, 224, 224, 3)]     0         \n",
            "                                                                 \n",
            " resnet50v2 (Functional)     (None, 7, 7, 2048)        23564800  \n",
            "                                                                 \n",
            " dropout (Dropout)           (None, 7, 7, 2048)        0         \n",
            "                                                                 \n",
            " separable_conv2d (Separable  (None, 5, 5, 512)        1067520   \n",
            " Conv2D)                                                         \n",
            "                                                                 \n",
            " dropout_1 (Dropout)         (None, 5, 5, 512)         0         \n",
            "                                                                 \n",
            " separable_conv2d_1 (Separab  (None, 3, 3, 128)        70272     \n",
            " leConv2D)                                                       \n",
            "                                                                 \n",
            " separable_conv2d_2 (Separab  (None, 1, 1, 24)         4248      \n",
            " leConv2D)                                                       \n",
            "                                                                 \n",
            "=================================================================\n",
            "Total params: 24,706,840\n",
            "Trainable params: 24,661,400\n",
            "Non-trainable params: 45,440\n",
            "_________________________________________________________________\n"
          ]
        }
      ]
    },
    {
      "cell_type": "markdown",
      "source": [
        "### Plot model"
      ],
      "metadata": {
        "id": "nLXLk0T-ptNY"
      }
    },
    {
      "cell_type": "code",
      "source": [
        "plot_model(model, show_shapes=True)"
      ],
      "metadata": {
        "colab": {
          "base_uri": "https://localhost:8080/",
          "height": 754
        },
        "id": "7QmOx2n1ophB",
        "outputId": "700fdd89-fa61-4f52-e432-09e92b883a99"
      },
      "execution_count": null,
      "outputs": [
        {
          "output_type": "execute_result",
          "data": {
            "text/plain": [
              "<IPython.core.display.Image object>"
            ],
            "image/png": "[encoded data removed]"
          },
          "metadata": {},
          "execution_count": 18
        }
      ]
    },
    {
      "cell_type": "markdown",
      "source": [
        "### Compile model"
      ],
      "metadata": {
        "id": "r10aHhV-piqe"
      }
    },
    {
      "cell_type": "code",
      "source": [
        "model.compile(\n",
        "    optimizer=Adam(learning_rate=LEARNING_RATE),\n",
        "    loss=tf.keras.losses.mean_squared_error,\n",
        "    # metrics=['mae', 'mape',],\n",
        "    metrics=['mae'],\n",
        ")"
      ],
      "metadata": {
        "id": "pa4tM15Opfs4"
      },
      "execution_count": null,
      "outputs": []
    },
    {
      "cell_type": "markdown",
      "source": [
        "### Define callbacks"
      ],
      "metadata": {
        "id": "NBrCpFISpyca"
      }
    },
    {
      "cell_type": "code",
      "source": [
        "CALLBACKS = [ReduceLROnPlateau(\n",
        "    monitor='val_loss',\n",
        "    factor=0.1,\n",
        "    patience=8,\n",
        "    verbose=1,\n",
        "    min_lr=LEARNING_RATE*1e-5,\n",
        "    mode='auto',\n",
        "    cooldown=0,\n",
        "    min_delta=0.0001\n",
        ")]\n",
        "CALLBACKS += [EarlyStopping(\n",
        "    monitor='val_loss',\n",
        "    min_delta=0.0001,\n",
        "    patience=20,\n",
        "    verbose=1,\n",
        "    mode='min',\n",
        "    baseline=None,\n",
        "    restore_best_weights=True\n",
        ")]"
      ],
      "metadata": {
        "id": "r12wIqf1pxx-"
      },
      "execution_count": null,
      "outputs": []
    },
    {
      "cell_type": "markdown",
      "source": [
        "### Train and evaluate model"
      ],
      "metadata": {
        "id": "zG_MNrrdp159"
      }
    },
    {
      "cell_type": "code",
      "source": [
        "Y_train = Y_train.reshape(Y_train.shape[0], 1, 1, Y_train.shape[-1])\n",
        "Y_test = Y_test.reshape(Y_test.shape[0], 1, 1, Y_test.shape[-1])"
      ],
      "metadata": {
        "id": "HrotX-PgwZ3v"
      },
      "execution_count": null,
      "outputs": []
    },
    {
      "cell_type": "code",
      "source": [
        "history = model.fit(X_train, Y_train,\n",
        "                    epochs = EPOCHS,\n",
        "                    validation_data = (X_test, Y_test),\n",
        "                    batch_size = BATCH_SIZE,\n",
        "                    callbacks = [CALLBACKS],\n",
        "                    )"
      ],
      "metadata": {
        "colab": {
          "base_uri": "https://localhost:8080/"
        },
        "id": "VqEVn9a7p00I",
        "outputId": "71d51b69-ed12-4e4b-b144-e441b9ad6f4a"
      },
      "execution_count": null,
      "outputs": [
        {
          "output_type": "stream",
          "name": "stdout",
          "text": [
            "Epoch 1/500\n",
            "141/141 [==============================] - 37s 203ms/step - loss: 12709.5918 - mae: 106.1877 - val_loss: 7654.2085 - val_mae: 77.8648 - lr: 1.0000e-04\n",
            "Epoch 2/500\n",
            "141/141 [==============================] - 26s 184ms/step - loss: 3203.0684 - mae: 38.8331 - val_loss: 3080.0876 - val_mae: 38.0000 - lr: 1.0000e-04\n",
            "Epoch 3/500\n",
            "141/141 [==============================] - 26s 184ms/step - loss: 2939.2830 - mae: 35.7289 - val_loss: 3010.0129 - val_mae: 36.9106 - lr: 1.0000e-04\n",
            "Epoch 4/500\n",
            "141/141 [==============================] - 26s 184ms/step - loss: 2926.5215 - mae: 35.5511 - val_loss: 2967.0691 - val_mae: 36.1775 - lr: 1.0000e-04\n",
            "Epoch 5/500\n",
            "141/141 [==============================] - 26s 184ms/step - loss: 2922.9536 - mae: 35.5229 - val_loss: 2944.0242 - val_mae: 35.8177 - lr: 1.0000e-04\n",
            "Epoch 6/500\n",
            "141/141 [==============================] - 26s 183ms/step - loss: 2921.9207 - mae: 35.5043 - val_loss: 2955.5276 - val_mae: 36.0255 - lr: 1.0000e-04\n",
            "Epoch 7/500\n",
            "141/141 [==============================] - 26s 183ms/step - loss: 2921.1565 - mae: 35.4744 - val_loss: 2947.4412 - val_mae: 35.8851 - lr: 1.0000e-04\n",
            "Epoch 8/500\n",
            "141/141 [==============================] - 26s 183ms/step - loss: 2919.2178 - mae: 35.4501 - val_loss: 2971.7944 - val_mae: 36.3307 - lr: 1.0000e-04\n",
            "Epoch 9/500\n",
            "141/141 [==============================] - 26s 183ms/step - loss: 2911.3152 - mae: 35.2975 - val_loss: 3045.8103 - val_mae: 37.6467 - lr: 1.0000e-04\n",
            "Epoch 10/500\n",
            "141/141 [==============================] - 26s 183ms/step - loss: 2868.3418 - mae: 34.3819 - val_loss: 3003.2122 - val_mae: 36.9235 - lr: 1.0000e-04\n",
            "Epoch 11/500\n",
            "141/141 [==============================] - 26s 184ms/step - loss: 2463.7185 - mae: 31.2505 - val_loss: 1569.1086 - val_mae: 25.6757 - lr: 1.0000e-04\n",
            "Epoch 12/500\n",
            "141/141 [==============================] - 26s 184ms/step - loss: 1470.1003 - mae: 24.1735 - val_loss: 1568.2473 - val_mae: 26.0414 - lr: 1.0000e-04\n",
            "Epoch 13/500\n",
            "141/141 [==============================] - 26s 184ms/step - loss: 1446.6766 - mae: 23.7675 - val_loss: 1528.1406 - val_mae: 25.0708 - lr: 1.0000e-04\n",
            "Epoch 14/500\n",
            "141/141 [==============================] - 26s 184ms/step - loss: 1432.2097 - mae: 23.4689 - val_loss: 1517.3850 - val_mae: 25.0442 - lr: 1.0000e-04\n",
            "Epoch 15/500\n",
            "141/141 [==============================] - 26s 185ms/step - loss: 1412.0643 - mae: 23.0260 - val_loss: 1467.9348 - val_mae: 23.7646 - lr: 1.0000e-04\n",
            "Epoch 16/500\n",
            "141/141 [==============================] - 26s 184ms/step - loss: 1379.7098 - mae: 22.3095 - val_loss: 1456.6271 - val_mae: 23.4992 - lr: 1.0000e-04\n",
            "Epoch 17/500\n",
            "141/141 [==============================] - 26s 184ms/step - loss: 1356.7604 - mae: 21.8507 - val_loss: 1453.9651 - val_mae: 23.5735 - lr: 1.0000e-04\n",
            "Epoch 18/500\n",
            "141/141 [==============================] - 26s 184ms/step - loss: 1342.1125 - mae: 21.5428 - val_loss: 1435.7605 - val_mae: 22.9748 - lr: 1.0000e-04\n",
            "Epoch 19/500\n",
            "141/141 [==============================] - 26s 183ms/step - loss: 1332.5542 - mae: 21.3511 - val_loss: 1441.8406 - val_mae: 23.0961 - lr: 1.0000e-04\n",
            "Epoch 20/500\n",
            "141/141 [==============================] - 26s 184ms/step - loss: 1326.7064 - mae: 21.2725 - val_loss: 1429.3124 - val_mae: 22.9155 - lr: 1.0000e-04\n",
            "Epoch 21/500\n",
            "141/141 [==============================] - 26s 183ms/step - loss: 1319.7255 - mae: 21.1374 - val_loss: 1432.7969 - val_mae: 23.1723 - lr: 1.0000e-04\n",
            "Epoch 22/500\n",
            "141/141 [==============================] - 26s 184ms/step - loss: 1312.5204 - mae: 21.0045 - val_loss: 1422.4912 - val_mae: 22.8808 - lr: 1.0000e-04\n",
            "Epoch 23/500\n",
            "141/141 [==============================] - 26s 183ms/step - loss: 1300.5798 - mae: 20.7902 - val_loss: 1445.7946 - val_mae: 23.8077 - lr: 1.0000e-04\n",
            "Epoch 24/500\n",
            "141/141 [==============================] - 26s 183ms/step - loss: 1276.7571 - mae: 20.3369 - val_loss: 1428.2850 - val_mae: 23.4979 - lr: 1.0000e-04\n",
            "Epoch 25/500\n",
            "141/141 [==============================] - 26s 184ms/step - loss: 952.1086 - mae: 17.6865 - val_loss: 855.2986 - val_mae: 18.3429 - lr: 1.0000e-04\n",
            "Epoch 26/500\n",
            "141/141 [==============================] - 26s 184ms/step - loss: 697.5466 - mae: 15.4012 - val_loss: 830.8152 - val_mae: 17.8806 - lr: 1.0000e-04\n",
            "Epoch 27/500\n",
            "141/141 [==============================] - 26s 184ms/step - loss: 666.1259 - mae: 14.7129 - val_loss: 819.0316 - val_mae: 17.4495 - lr: 1.0000e-04\n",
            "Epoch 28/500\n",
            "141/141 [==============================] - 26s 184ms/step - loss: 647.2454 - mae: 14.2709 - val_loss: 806.2599 - val_mae: 17.1575 - lr: 1.0000e-04\n",
            "Epoch 29/500\n",
            "141/141 [==============================] - 26s 183ms/step - loss: 635.5933 - mae: 14.0256 - val_loss: 808.8654 - val_mae: 17.2322 - lr: 1.0000e-04\n",
            "Epoch 30/500\n",
            "141/141 [==============================] - 26s 183ms/step - loss: 628.8626 - mae: 13.8609 - val_loss: 814.1544 - val_mae: 17.3130 - lr: 1.0000e-04\n",
            "Epoch 31/500\n",
            "141/141 [==============================] - 26s 184ms/step - loss: 625.2246 - mae: 13.7933 - val_loss: 798.2402 - val_mae: 17.0054 - lr: 1.0000e-04\n",
            "Epoch 32/500\n",
            "141/141 [==============================] - 26s 183ms/step - loss: 621.2500 - mae: 13.6691 - val_loss: 798.8659 - val_mae: 16.9764 - lr: 1.0000e-04\n",
            "Epoch 33/500\n",
            "141/141 [==============================] - 26s 183ms/step - loss: 619.1340 - mae: 13.6112 - val_loss: 801.9025 - val_mae: 17.0458 - lr: 1.0000e-04\n",
            "Epoch 34/500\n",
            "141/141 [==============================] - 26s 183ms/step - loss: 616.3335 - mae: 13.5298 - val_loss: 799.0717 - val_mae: 16.9076 - lr: 1.0000e-04\n",
            "Epoch 35/500\n",
            "141/141 [==============================] - 26s 183ms/step - loss: 615.1951 - mae: 13.5026 - val_loss: 808.1425 - val_mae: 17.2298 - lr: 1.0000e-04\n",
            "Epoch 36/500\n",
            "141/141 [==============================] - 26s 184ms/step - loss: 613.5412 - mae: 13.4573 - val_loss: 795.2566 - val_mae: 16.9349 - lr: 1.0000e-04\n",
            "Epoch 37/500\n",
            "141/141 [==============================] - 26s 183ms/step - loss: 611.9794 - mae: 13.3994 - val_loss: 797.3386 - val_mae: 16.9174 - lr: 1.0000e-04\n",
            "Epoch 38/500\n",
            "141/141 [==============================] - 26s 184ms/step - loss: 611.6546 - mae: 13.3849 - val_loss: 788.6660 - val_mae: 16.8185 - lr: 1.0000e-04\n",
            "Epoch 39/500\n",
            "141/141 [==============================] - 26s 183ms/step - loss: 610.0707 - mae: 13.3429 - val_loss: 793.3680 - val_mae: 16.8730 - lr: 1.0000e-04\n",
            "Epoch 40/500\n",
            "141/141 [==============================] - 26s 182ms/step - loss: 608.4146 - mae: 13.2910 - val_loss: 788.9111 - val_mae: 16.8481 - lr: 1.0000e-04\n",
            "Epoch 41/500\n",
            "141/141 [==============================] - 26s 183ms/step - loss: 606.3026 - mae: 13.2281 - val_loss: 793.1217 - val_mae: 16.8297 - lr: 1.0000e-04\n",
            "Epoch 42/500\n",
            "141/141 [==============================] - 26s 183ms/step - loss: 605.9479 - mae: 13.2429 - val_loss: 786.7922 - val_mae: 16.7253 - lr: 1.0000e-04\n",
            "Epoch 43/500\n",
            "141/141 [==============================] - 26s 183ms/step - loss: 600.9788 - mae: 13.0979 - val_loss: 788.4714 - val_mae: 16.9313 - lr: 1.0000e-04\n",
            "Epoch 44/500\n",
            "141/141 [==============================] - 26s 184ms/step - loss: 596.1785 - mae: 12.9931 - val_loss: 785.5657 - val_mae: 16.7770 - lr: 1.0000e-04\n",
            "Epoch 45/500\n",
            "141/141 [==============================] - 26s 183ms/step - loss: 587.7023 - mae: 12.7561 - val_loss: 774.9658 - val_mae: 16.3919 - lr: 1.0000e-04\n",
            "Epoch 46/500\n",
            "141/141 [==============================] - 26s 183ms/step - loss: 580.1990 - mae: 12.5610 - val_loss: 773.3364 - val_mae: 16.3046 - lr: 1.0000e-04\n",
            "Epoch 47/500\n",
            "141/141 [==============================] - 26s 183ms/step - loss: 573.0015 - mae: 12.3809 - val_loss: 762.0907 - val_mae: 16.1638 - lr: 1.0000e-04\n",
            "Epoch 48/500\n",
            "141/141 [==============================] - 26s 183ms/step - loss: 566.5649 - mae: 12.1964 - val_loss: 759.8133 - val_mae: 16.1228 - lr: 1.0000e-04\n",
            "Epoch 49/500\n",
            "141/141 [==============================] - 26s 184ms/step - loss: 561.2527 - mae: 12.0625 - val_loss: 758.7288 - val_mae: 16.0980 - lr: 1.0000e-04\n",
            "Epoch 50/500\n",
            "141/141 [==============================] - 26s 184ms/step - loss: 557.0316 - mae: 11.9161 - val_loss: 755.1061 - val_mae: 15.9449 - lr: 1.0000e-04\n",
            "Epoch 51/500\n",
            "141/141 [==============================] - 26s 184ms/step - loss: 554.2645 - mae: 11.8398 - val_loss: 754.0798 - val_mae: 15.9909 - lr: 1.0000e-04\n",
            "Epoch 52/500\n",
            "141/141 [==============================] - 26s 183ms/step - loss: 551.3121 - mae: 11.7305 - val_loss: 746.2662 - val_mae: 15.8561 - lr: 1.0000e-04\n",
            "Epoch 53/500\n",
            "141/141 [==============================] - 26s 183ms/step - loss: 549.6398 - mae: 11.6972 - val_loss: 746.9008 - val_mae: 15.7393 - lr: 1.0000e-04\n",
            "Epoch 54/500\n",
            "141/141 [==============================] - 26s 183ms/step - loss: 547.9050 - mae: 11.6317 - val_loss: 751.4518 - val_mae: 16.0105 - lr: 1.0000e-04\n",
            "Epoch 55/500\n",
            "141/141 [==============================] - 26s 183ms/step - loss: 545.4687 - mae: 11.5429 - val_loss: 747.0935 - val_mae: 15.7594 - lr: 1.0000e-04\n",
            "Epoch 56/500\n",
            "141/141 [==============================] - 26s 183ms/step - loss: 545.0999 - mae: 11.5246 - val_loss: 746.7631 - val_mae: 15.7975 - lr: 1.0000e-04\n",
            "Epoch 57/500\n",
            "141/141 [==============================] - 26s 184ms/step - loss: 543.6246 - mae: 11.4650 - val_loss: 740.8373 - val_mae: 15.6368 - lr: 1.0000e-04\n",
            "Epoch 58/500\n",
            "141/141 [==============================] - 26s 183ms/step - loss: 543.1323 - mae: 11.4607 - val_loss: 750.6545 - val_mae: 15.8179 - lr: 1.0000e-04\n",
            "Epoch 59/500\n",
            "141/141 [==============================] - 26s 184ms/step - loss: 542.8953 - mae: 11.4662 - val_loss: 740.4868 - val_mae: 15.6909 - lr: 1.0000e-04\n",
            "Epoch 60/500\n",
            "141/141 [==============================] - 26s 183ms/step - loss: 541.7295 - mae: 11.4098 - val_loss: 743.4705 - val_mae: 15.7649 - lr: 1.0000e-04\n",
            "Epoch 61/500\n",
            "141/141 [==============================] - 26s 183ms/step - loss: 540.2944 - mae: 11.3551 - val_loss: 749.6121 - val_mae: 15.9484 - lr: 1.0000e-04\n",
            "Epoch 62/500\n",
            "141/141 [==============================] - 26s 183ms/step - loss: 539.3301 - mae: 11.3199 - val_loss: 742.7578 - val_mae: 15.6890 - lr: 1.0000e-04\n",
            "Epoch 63/500\n",
            "141/141 [==============================] - 26s 184ms/step - loss: 538.5311 - mae: 11.3031 - val_loss: 738.9882 - val_mae: 15.5944 - lr: 1.0000e-04\n",
            "Epoch 64/500\n",
            "141/141 [==============================] - 26s 183ms/step - loss: 537.1938 - mae: 11.2528 - val_loss: 742.2295 - val_mae: 15.5777 - lr: 1.0000e-04\n",
            "Epoch 65/500\n",
            "141/141 [==============================] - 26s 184ms/step - loss: 536.7067 - mae: 11.2190 - val_loss: 738.2200 - val_mae: 15.5700 - lr: 1.0000e-04\n",
            "Epoch 66/500\n",
            "141/141 [==============================] - 26s 184ms/step - loss: 535.0084 - mae: 11.1648 - val_loss: 736.3127 - val_mae: 15.5242 - lr: 1.0000e-04\n",
            "Epoch 67/500\n",
            "141/141 [==============================] - 26s 183ms/step - loss: 534.2681 - mae: 11.1426 - val_loss: 740.3866 - val_mae: 15.6014 - lr: 1.0000e-04\n",
            "Epoch 68/500\n",
            "141/141 [==============================] - 26s 183ms/step - loss: 532.8853 - mae: 11.0741 - val_loss: 741.9375 - val_mae: 15.6406 - lr: 1.0000e-04\n",
            "Epoch 69/500\n",
            "141/141 [==============================] - 26s 183ms/step - loss: 532.9730 - mae: 11.1002 - val_loss: 738.0490 - val_mae: 15.5252 - lr: 1.0000e-04\n",
            "Epoch 70/500\n",
            "141/141 [==============================] - 26s 183ms/step - loss: 532.1509 - mae: 11.0655 - val_loss: 740.6453 - val_mae: 15.6640 - lr: 1.0000e-04\n",
            "Epoch 71/500\n",
            "141/141 [==============================] - 26s 183ms/step - loss: 531.9538 - mae: 11.0581 - val_loss: 739.5009 - val_mae: 15.5489 - lr: 1.0000e-04\n",
            "Epoch 72/500\n",
            "141/141 [==============================] - 26s 183ms/step - loss: 530.2570 - mae: 10.9941 - val_loss: 741.1064 - val_mae: 15.6104 - lr: 1.0000e-04\n",
            "Epoch 73/500\n",
            "141/141 [==============================] - 26s 183ms/step - loss: 529.7422 - mae: 10.9835 - val_loss: 738.3090 - val_mae: 15.4801 - lr: 1.0000e-04\n",
            "Epoch 74/500\n",
            "141/141 [==============================] - ETA: 0s - loss: 528.8049 - mae: 10.9542\n",
            "Epoch 74: ReduceLROnPlateau reducing learning rate to 9.999999747378752e-06.\n",
            "141/141 [==============================] - 26s 183ms/step - loss: 528.8049 - mae: 10.9542 - val_loss: 740.7617 - val_mae: 15.4821 - lr: 1.0000e-04\n",
            "Epoch 75/500\n",
            "141/141 [==============================] - 26s 184ms/step - loss: 524.9164 - mae: 10.7810 - val_loss: 730.7230 - val_mae: 15.2891 - lr: 1.0000e-05\n",
            "Epoch 76/500\n",
            "141/141 [==============================] - 26s 184ms/step - loss: 523.1230 - mae: 10.7077 - val_loss: 730.2135 - val_mae: 15.2611 - lr: 1.0000e-05\n",
            "Epoch 77/500\n",
            "141/141 [==============================] - 26s 184ms/step - loss: 521.7678 - mae: 10.6463 - val_loss: 729.2836 - val_mae: 15.2846 - lr: 1.0000e-05\n",
            "Epoch 78/500\n",
            "141/141 [==============================] - 26s 183ms/step - loss: 520.9077 - mae: 10.6143 - val_loss: 729.7354 - val_mae: 15.2774 - lr: 1.0000e-05\n",
            "Epoch 79/500\n",
            "141/141 [==============================] - 26s 183ms/step - loss: 520.3771 - mae: 10.6036 - val_loss: 729.3761 - val_mae: 15.2804 - lr: 1.0000e-05\n",
            "Epoch 80/500\n",
            "141/141 [==============================] - 26s 184ms/step - loss: 519.9064 - mae: 10.5840 - val_loss: 729.2265 - val_mae: 15.2729 - lr: 1.0000e-05\n",
            "Epoch 81/500\n",
            "141/141 [==============================] - 26s 184ms/step - loss: 519.3484 - mae: 10.5634 - val_loss: 729.2087 - val_mae: 15.2699 - lr: 1.0000e-05\n",
            "Epoch 82/500\n",
            "141/141 [==============================] - 26s 183ms/step - loss: 518.7248 - mae: 10.5350 - val_loss: 727.7452 - val_mae: 15.2457 - lr: 1.0000e-05\n",
            "Epoch 83/500\n",
            "141/141 [==============================] - 26s 182ms/step - loss: 518.2088 - mae: 10.5108 - val_loss: 728.9119 - val_mae: 15.2677 - lr: 1.0000e-05\n",
            "Epoch 84/500\n",
            "141/141 [==============================] - 26s 183ms/step - loss: 517.9882 - mae: 10.5028 - val_loss: 729.0930 - val_mae: 15.2738 - lr: 1.0000e-05\n",
            "Epoch 85/500\n",
            "141/141 [==============================] - 26s 183ms/step - loss: 517.4776 - mae: 10.4912 - val_loss: 729.0858 - val_mae: 15.2696 - lr: 1.0000e-05\n",
            "Epoch 86/500\n",
            "141/141 [==============================] - 26s 183ms/step - loss: 517.2791 - mae: 10.4831 - val_loss: 728.3231 - val_mae: 15.2610 - lr: 1.0000e-05\n",
            "Epoch 87/500\n",
            "141/141 [==============================] - 26s 183ms/step - loss: 516.6287 - mae: 10.4555 - val_loss: 727.9501 - val_mae: 15.2621 - lr: 1.0000e-05\n",
            "Epoch 88/500\n",
            "141/141 [==============================] - 26s 183ms/step - loss: 516.7659 - mae: 10.4671 - val_loss: 728.5033 - val_mae: 15.2810 - lr: 1.0000e-05\n",
            "Epoch 89/500\n",
            "141/141 [==============================] - 26s 182ms/step - loss: 516.1041 - mae: 10.4403 - val_loss: 728.4203 - val_mae: 15.2563 - lr: 1.0000e-05\n",
            "Epoch 90/500\n",
            "141/141 [==============================] - ETA: 0s - loss: 515.8984 - mae: 10.4341\n",
            "Epoch 90: ReduceLROnPlateau reducing learning rate to 9.999999747378752e-07.\n",
            "141/141 [==============================] - 26s 183ms/step - loss: 515.8984 - mae: 10.4341 - val_loss: 728.9794 - val_mae: 15.2623 - lr: 1.0000e-05\n",
            "Epoch 91/500\n",
            "141/141 [==============================] - 26s 183ms/step - loss: 515.4172 - mae: 10.4266 - val_loss: 728.1711 - val_mae: 15.2531 - lr: 1.0000e-06\n",
            "Epoch 92/500\n",
            "141/141 [==============================] - 26s 183ms/step - loss: 515.1605 - mae: 10.4113 - val_loss: 728.0768 - val_mae: 15.2476 - lr: 1.0000e-06\n",
            "Epoch 93/500\n",
            "141/141 [==============================] - 26s 183ms/step - loss: 515.0366 - mae: 10.3946 - val_loss: 728.0522 - val_mae: 15.2458 - lr: 1.0000e-06\n",
            "Epoch 94/500\n",
            "141/141 [==============================] - 26s 183ms/step - loss: 515.0309 - mae: 10.4052 - val_loss: 728.0584 - val_mae: 15.2485 - lr: 1.0000e-06\n",
            "Epoch 95/500\n",
            "141/141 [==============================] - 26s 183ms/step - loss: 514.7779 - mae: 10.3863 - val_loss: 728.0051 - val_mae: 15.2488 - lr: 1.0000e-06\n",
            "Epoch 96/500\n",
            "141/141 [==============================] - 26s 183ms/step - loss: 514.8408 - mae: 10.3923 - val_loss: 727.9030 - val_mae: 15.2453 - lr: 1.0000e-06\n",
            "Epoch 97/500\n",
            "141/141 [==============================] - 26s 183ms/step - loss: 514.8340 - mae: 10.3905 - val_loss: 727.9075 - val_mae: 15.2429 - lr: 1.0000e-06\n",
            "Epoch 98/500\n",
            "141/141 [==============================] - ETA: 0s - loss: 515.1510 - mae: 10.4045\n",
            "Epoch 98: ReduceLROnPlateau reducing learning rate to 9.999999974752428e-08.\n",
            "141/141 [==============================] - 26s 183ms/step - loss: 515.1510 - mae: 10.4045 - val_loss: 727.8088 - val_mae: 15.2410 - lr: 1.0000e-06\n",
            "Epoch 99/500\n",
            "141/141 [==============================] - 26s 183ms/step - loss: 514.5446 - mae: 10.3784 - val_loss: 727.8539 - val_mae: 15.2416 - lr: 1.0000e-07\n",
            "Epoch 100/500\n",
            "141/141 [==============================] - 26s 183ms/step - loss: 515.0327 - mae: 10.4011 - val_loss: 727.8935 - val_mae: 15.2423 - lr: 1.0000e-07\n",
            "Epoch 101/500\n",
            "141/141 [==============================] - 26s 183ms/step - loss: 514.7351 - mae: 10.3900 - val_loss: 727.9241 - val_mae: 15.2441 - lr: 1.0000e-07\n",
            "Epoch 102/500\n",
            "141/141 [==============================] - ETA: 0s - loss: 514.8168 - mae: 10.3922Restoring model weights from the end of the best epoch: 82.\n",
            "141/141 [==============================] - 26s 184ms/step - loss: 514.8168 - mae: 10.3922 - val_loss: 727.9567 - val_mae: 15.2447 - lr: 1.0000e-07\n",
            "Epoch 102: early stopping\n"
          ]
        }
      ]
    },
    {
      "cell_type": "markdown",
      "source": [
        "## Make predictions"
      ],
      "metadata": {
        "id": "FVi8RG1CsfMW"
      }
    },
    {
      "cell_type": "code",
      "source": [
        "predicted = model.predict(X_test)\n",
        "# new_pred = (predicted * X_test.shape[1]).astype('int')\n",
        "new_pred = predicted.astype('int')\n",
        "new_pred = np.where(new_pred < 1, -1, new_pred)\n",
        "new_pred = new_pred.reshape((new_pred.shape[0], new_pred.shape[-1]))\n",
        "new_pred.shape"
      ],
      "metadata": {
        "colab": {
          "base_uri": "https://localhost:8080/"
        },
        "id": "sEnWhQvFjmRM",
        "outputId": "576e218c-5e32-4461-cbfb-6e71ecdc0a07"
      },
      "execution_count": null,
      "outputs": [
        {
          "output_type": "execute_result",
          "data": {
            "text/plain": [
              "(2247, 24)"
            ]
          },
          "metadata": {},
          "execution_count": 31
        }
      ]
    },
    {
      "cell_type": "code",
      "source": [
        "data = []\n",
        "for i in new_pred:\n",
        "    temp = i.tolist()\n",
        "    data.append([(temp[j], temp[j+1]) for j in range(0, 24, 2)])\n",
        "\n",
        "pd_test = pd.DataFrame(data)\n",
        "columns = pd.read_csv(ANNOTATION).columns[1:-7]\n",
        "pd_test.columns = columns\n",
        "\n",
        "pd_test = pd_test.apply(lambda x: datapoint_correction(x), axis=1)\n",
        "pd_test.columns = columns\n",
        "pd_test.head()"
      ],
      "metadata": {
        "colab": {
          "base_uri": "https://localhost:8080/",
          "height": 206
        },
        "id": "yvA9CKc8joad",
        "outputId": "b2cd8081-2467-4a37-e8e5-b9cdd13c0844"
      },
      "execution_count": null,
      "outputs": [
        {
          "output_type": "execute_result",
          "data": {
            "text/plain": [
              "  left_shoulder right_shoulder  left_elbow right_elbow  left_wrist  \\\n",
              "0      (42, 80)       (29, 92)   (60, 103)    (-1, -1)   (78, 128)   \n",
              "1    (118, 150)     (121, 147)  (116, 179)    (-1, -1)  (110, 210)   \n",
              "2     (30, 111)      (23, 121)   (45, 134)    (-1, -1)   (56, 149)   \n",
              "3     (141, 38)      (124, 36)   (141, 68)    (-1, -1)   (141, 88)   \n",
              "4     (155, 57)      (133, 40)  (132, 106)    (-1, -1)   (89, 110)   \n",
              "\n",
              "  right_wrist    left_hip   right_hip   left_knee  right_knee  left_ankle  \\\n",
              "0   (65, 145)    (71, 93)   (65, 102)  (127, 107)  (119, 121)  (166, 137)   \n",
              "1  (110, 204)  (122, 139)  (120, 138)  (111, 175)  (112, 169)  (115, 196)   \n",
              "2   (56, 159)   (90, 135)   (90, 143)  (154, 136)  (151, 145)  (209, 154)   \n",
              "3   (116, 79)   (117, 90)   (107, 88)  (109, 144)   (89, 141)   (99, 198)   \n",
              "4    (77, 71)  (151, 130)  (138, 120)   (90, 139)   (69, 118)   (73, 177)   \n",
              "\n",
              "  right_ankle  \n",
              "0  (144, 147)  \n",
              "1  (105, 191)  \n",
              "2  (202, 160)  \n",
              "3   (71, 195)  \n",
              "4   (71, 156)  "
            ],
            "text/html": [
              "\n",
              "  <div id=\"df-06c9da78-045a-4ace-aa2b-88b8fbcef2c0\">\n",
              "    <div class=\"colab-df-container\">\n",
              "      <div>\n",
              "<style scoped>\n",
              "    .dataframe tbody tr th:only-of-type {\n",
              "        vertical-align: middle;\n",
              "    }\n",
              "\n",
              "    .dataframe tbody tr th {\n",
              "        vertical-align: top;\n",
              "    }\n",
              "\n",
              "    .dataframe thead th {\n",
              "        text-align: right;\n",
              "    }\n",
              "</style>\n",
              "<table border=\"1\" class=\"dataframe\">\n",
              "  <thead>\n",
              "    <tr style=\"text-align: right;\">\n",
              "      <th></th>\n",
              "      <th>left_shoulder</th>\n",
              "      <th>right_shoulder</th>\n",
              "      <th>left_elbow</th>\n",
              "      <th>right_elbow</th>\n",
              "      <th>left_wrist</th>\n",
              "      <th>right_wrist</th>\n",
              "      <th>left_hip</th>\n",
              "      <th>right_hip</th>\n",
              "      <th>left_knee</th>\n",
              "      <th>right_knee</th>\n",
              "      <th>left_ankle</th>\n",
              "      <th>right_ankle</th>\n",
              "    </tr>\n",
              "  </thead>\n",
              "  <tbody>\n",
              "    <tr>\n",
              "      <th>0</th>\n",
              "      <td>(42, 80)</td>\n",
              "      <td>(29, 92)</td>\n",
              "      <td>(60, 103)</td>\n",
              "      <td>(-1, -1)</td>\n",
              "      <td>(78, 128)</td>\n",
              "      <td>(65, 145)</td>\n",
              "      <td>(71, 93)</td>\n",
              "      <td>(65, 102)</td>\n",
              "      <td>(127, 107)</td>\n",
              "      <td>(119, 121)</td>\n",
              "      <td>(166, 137)</td>\n",
              "      <td>(144, 147)</td>\n",
              "    </tr>\n",
              "    <tr>\n",
              "      <th>1</th>\n",
              "      <td>(118, 150)</td>\n",
              "      <td>(121, 147)</td>\n",
              "      <td>(116, 179)</td>\n",
              "      <td>(-1, -1)</td>\n",
              "      <td>(110, 210)</td>\n",
              "      <td>(110, 204)</td>\n",
              "      <td>(122, 139)</td>\n",
              "      <td>(120, 138)</td>\n",
              "      <td>(111, 175)</td>\n",
              "      <td>(112, 169)</td>\n",
              "      <td>(115, 196)</td>\n",
              "      <td>(105, 191)</td>\n",
              "    </tr>\n",
              "    <tr>\n",
              "      <th>2</th>\n",
              "      <td>(30, 111)</td>\n",
              "      <td>(23, 121)</td>\n",
              "      <td>(45, 134)</td>\n",
              "      <td>(-1, -1)</td>\n",
              "      <td>(56, 149)</td>\n",
              "      <td>(56, 159)</td>\n",
              "      <td>(90, 135)</td>\n",
              "      <td>(90, 143)</td>\n",
              "      <td>(154, 136)</td>\n",
              "      <td>(151, 145)</td>\n",
              "      <td>(209, 154)</td>\n",
              "      <td>(202, 160)</td>\n",
              "    </tr>\n",
              "    <tr>\n",
              "      <th>3</th>\n",
              "      <td>(141, 38)</td>\n",
              "      <td>(124, 36)</td>\n",
              "      <td>(141, 68)</td>\n",
              "      <td>(-1, -1)</td>\n",
              "      <td>(141, 88)</td>\n",
              "      <td>(116, 79)</td>\n",
              "      <td>(117, 90)</td>\n",
              "      <td>(107, 88)</td>\n",
              "      <td>(109, 144)</td>\n",
              "      <td>(89, 141)</td>\n",
              "      <td>(99, 198)</td>\n",
              "      <td>(71, 195)</td>\n",
              "    </tr>\n",
              "    <tr>\n",
              "      <th>4</th>\n",
              "      <td>(155, 57)</td>\n",
              "      <td>(133, 40)</td>\n",
              "      <td>(132, 106)</td>\n",
              "      <td>(-1, -1)</td>\n",
              "      <td>(89, 110)</td>\n",
              "      <td>(77, 71)</td>\n",
              "      <td>(151, 130)</td>\n",
              "      <td>(138, 120)</td>\n",
              "      <td>(90, 139)</td>\n",
              "      <td>(69, 118)</td>\n",
              "      <td>(73, 177)</td>\n",
              "      <td>(71, 156)</td>\n",
              "    </tr>\n",
              "  </tbody>\n",
              "</table>\n",
              "</div>\n",
              "      <button class=\"colab-df-convert\" onclick=\"convertToInteractive('df-06c9da78-045a-4ace-aa2b-88b8fbcef2c0')\"\n",
              "              title=\"Convert this dataframe to an interactive table.\"\n",
              "              style=\"display:none;\">\n",
              "        \n",
              "  <svg xmlns=\"http://www.w3.org/2000/svg\" height=\"24px\"viewBox=\"0 0 24 24\"\n",
              "       width=\"24px\">\n",
              "    <path d=\"M0 0h24v24H0V0z\" fill=\"none\"/>\n",
              "    <path d=\"M18.56 5.44l.94 2.06.94-2.06 2.06-.94-2.06-.94-.94-2.06-.94 2.06-2.06.94zm-11 1L8.5 8.5l.94-2.06 2.06-.94-2.06-.94L8.5 2.5l-.94 2.06-2.06.94zm10 10l.94 2.06.94-2.06 2.06-.94-2.06-.94-.94-2.06-.94 2.06-2.06.94z\"/><path d=\"M17.41 7.96l-1.37-1.37c-.4-.4-.92-.59-1.43-.59-.52 0-1.04.2-1.43.59L10.3 9.45l-7.72 7.72c-.78.78-.78 2.05 0 2.83L4 21.41c.39.39.9.59 1.41.59.51 0 1.02-.2 1.41-.59l7.78-7.78 2.81-2.81c.8-.78.8-2.07 0-2.86zM5.41 20L4 18.59l7.72-7.72 1.47 1.35L5.41 20z\"/>\n",
              "  </svg>\n",
              "      </button>\n",
              "      \n",
              "  <style>\n",
              "    .colab-df-container {\n",
              "      display:flex;\n",
              "      flex-wrap:wrap;\n",
              "      gap: 12px;\n",
              "    }\n",
              "\n",
              "    .colab-df-convert {\n",
              "      background-color: #E8F0FE;\n",
              "      border: none;\n",
              "      border-radius: 50%;\n",
              "      cursor: pointer;\n",
              "      display: none;\n",
              "      fill: #1967D2;\n",
              "      height: 32px;\n",
              "      padding: 0 0 0 0;\n",
              "      width: 32px;\n",
              "    }\n",
              "\n",
              "    .colab-df-convert:hover {\n",
              "      background-color: #E2EBFA;\n",
              "      box-shadow: 0px 1px 2px rgba(60, 64, 67, 0.3), 0px 1px 3px 1px rgba(60, 64, 67, 0.15);\n",
              "      fill: #174EA6;\n",
              "    }\n",
              "\n",
              "    [theme=dark] .colab-df-convert {\n",
              "      background-color: #3B4455;\n",
              "      fill: #D2E3FC;\n",
              "    }\n",
              "\n",
              "    [theme=dark] .colab-df-convert:hover {\n",
              "      background-color: #434B5C;\n",
              "      box-shadow: 0px 1px 3px 1px rgba(0, 0, 0, 0.15);\n",
              "      filter: drop-shadow(0px 1px 2px rgba(0, 0, 0, 0.3));\n",
              "      fill: #FFFFFF;\n",
              "    }\n",
              "  </style>\n",
              "\n",
              "      <script>\n",
              "        const buttonEl =\n",
              "          document.querySelector('#df-06c9da78-045a-4ace-aa2b-88b8fbcef2c0 button.colab-df-convert');\n",
              "        buttonEl.style.display =\n",
              "          google.colab.kernel.accessAllowed ? 'block' : 'none';\n",
              "\n",
              "        async function convertToInteractive(key) {\n",
              "          const element = document.querySelector('#df-06c9da78-045a-4ace-aa2b-88b8fbcef2c0');\n",
              "          const dataTable =\n",
              "            await google.colab.kernel.invokeFunction('convertToInteractive',\n",
              "                                                     [key], {});\n",
              "          if (!dataTable) return;\n",
              "\n",
              "          const docLinkHtml = 'Like what you see? Visit the ' +\n",
              "            '<a target=\"_blank\" href=https://colab.research.google.com/notebooks/data_table.ipynb>data table notebook</a>'\n",
              "            + ' to learn more about interactive tables.';\n",
              "          element.innerHTML = '';\n",
              "          dataTable['output_type'] = 'display_data';\n",
              "          await google.colab.output.renderOutput(dataTable, element);\n",
              "          const docLink = document.createElement('div');\n",
              "          docLink.innerHTML = docLinkHtml;\n",
              "          element.appendChild(docLink);\n",
              "        }\n",
              "      </script>\n",
              "    </div>\n",
              "  </div>\n",
              "  "
            ]
          },
          "metadata": {},
          "execution_count": 32
        }
      ]
    },
    {
      "cell_type": "code",
      "source": [
        "i = 4\n",
        "# display_image_with_pose(np.repeat(X_train[i], 3, axis=-1), temp_data.iloc[i])\n",
        "display_image((X_test[i]).astype('int'))\n",
        "display_image_with_pose(np.zeros(224*224*3).reshape(224,224,3).astype('int'), pd_test.iloc[i])"
      ],
      "metadata": {
        "colab": {
          "base_uri": "https://localhost:8080/",
          "height": 720
        },
        "id": "iTc6UCHWjqh2",
        "outputId": "bca60928-663b-49ae-a210-81b73393e248"
      },
      "execution_count": null,
      "outputs": [
        {
          "output_type": "execute_result",
          "data": {
            "text/plain": [
              "<matplotlib.axes._subplots.AxesSubplot at 0x7f97c18de490>"
            ]
          },
          "metadata": {},
          "execution_count": 37
        },
        {
          "output_type": "display_data",
          "data": {
            "text/plain": [
              "<Figure size 360x360 with 1 Axes>"
            ],
            "image/png": "[encoded data removed]"
          },
          "metadata": {
            "needs_background": "light"
          }
        },
        {
          "output_type": "display_data",
          "data": {
            "text/plain": [
              "<Figure size 360x360 with 1 Axes>"
            ],
            "image/png": "[encoded data removed]"
          },
          "metadata": {
            "needs_background": "light"
          }
        }
      ]
    },
    {
      "cell_type": "code",
      "source": [
        "from sklearn.metrics import mean_absolute_error"
      ],
      "metadata": {
        "id": "swlSv9-RkC8N"
      },
      "execution_count": null,
      "outputs": []
    },
    {
      "cell_type": "code",
      "source": [
        "print('Baseline test mae:', mean_absolute_error(Y_test.reshape(Y_test.shape[0], Y_test.shape[-1]), new_pred))"
      ],
      "metadata": {
        "colab": {
          "base_uri": "https://localhost:8080/"
        },
        "id": "4zp2ONBXkC5e",
        "outputId": "ddd7b6b0-c806-4fa3-c9b2-918f1372edf6"
      },
      "execution_count": null,
      "outputs": [
        {
          "output_type": "stream",
          "name": "stdout",
          "text": [
            "Baseline test mae: 15.307076101468624\n"
          ]
        }
      ]
    },
    {
      "cell_type": "code",
      "source": [
        "prune_low_magnitude = tfmot.sparsity.keras.prune_low_magnitude\n",
        "\n",
        "prune_epochs = 10\n",
        "\n",
        "end_step = np.ceil(1.0 * X_train.shape[0] / BATCH_SIZE).astype(np.int32) * prune_epochs\n",
        "# Define model for pruning.\n",
        "pruning_params = {\n",
        "    'pruning_schedule': tfmot.sparsity.keras.PolynomialDecay(\n",
        "        initial_sparsity=0.50,\n",
        "        final_sparsity=0.90,\n",
        "        begin_step=0,\n",
        "        end_step=end_step\n",
        "        ),\n",
        "    }\n",
        "model_for_pruning = prune_low_magnitude(model, **pruning_params)\n",
        "# `prune_low_magnitude` requires a recompile.\n",
        "model_for_pruning.compile(\n",
        "    loss = 'mse',\n",
        "    optimizer = Adam(),\n",
        "    metrics = ['mae'],\n",
        ")\n",
        "\n",
        "model_for_pruning.summary()\n",
        "\n",
        "pruning_history = model_for_pruning.fit(X_train, Y_train,\n",
        "                    epochs=prune_epochs,\n",
        "                    validation_data=(X_test, Y_test), \n",
        "                    # batch_size=BATCH_SIZE,\n",
        "                    callbacks=[tfmot.sparsity.keras.UpdatePruningStep()],\n",
        "                    )\n",
        "model_for_pruning.save(\"pruned_multiclass\")"
      ],
      "metadata": {
        "colab": {
          "base_uri": "https://localhost:8080/"
        },
        "id": "dSynCPZykC3H",
        "outputId": "cfe27092-09c5-4b0c-b690-04fbc21d770a"
      },
      "execution_count": null,
      "outputs": [
        {
          "output_type": "stream",
          "name": "stderr",
          "text": [
            "/usr/local/lib/python3.7/dist-packages/tensorflow_model_optimization/python/core/sparsity/keras/pruning_wrapper.py:238: UserWarning: `layer.add_variable` is deprecated and will be removed in a future version. Please use `layer.add_weight` method instead.\n",
            "  trainable=False)\n",
            "/usr/local/lib/python3.7/dist-packages/tensorflow_model_optimization/python/core/sparsity/keras/pruning_wrapper.py:218: UserWarning: `layer.add_variable` is deprecated and will be removed in a future version. Please use `layer.add_weight` method instead.\n",
            "  aggregation=tf.VariableAggregation.MEAN)\n",
            "/usr/local/lib/python3.7/dist-packages/tensorflow_model_optimization/python/core/sparsity/keras/pruning_wrapper.py:225: UserWarning: `layer.add_variable` is deprecated and will be removed in a future version. Please use `layer.add_weight` method instead.\n",
            "  aggregation=tf.VariableAggregation.MEAN)\n"
          ]
        },
        {
          "output_type": "stream",
          "name": "stdout",
          "text": [
            "Model: \"Pose_Estimator\"\n",
            "_________________________________________________________________\n",
            " Layer (type)                Output Shape              Param #   \n",
            "=================================================================\n",
            " INPUT (InputLayer)          [(None, 224, 224, 3)]     0         \n",
            "                                                                 \n",
            " resnet50v2 (Functional)     (None, 7, 7, 2048)        47019954  \n",
            "                                                                 \n",
            " prune_low_magnitude_dropout  (None, 7, 7, 2048)       1         \n",
            "  (PruneLowMagnitude)                                            \n",
            "                                                                 \n",
            " prune_low_magnitude_separab  (None, 5, 5, 512)        2116098   \n",
            " le_conv2d (PruneLowMagnitud                                     \n",
            " e)                                                              \n",
            "                                                                 \n",
            " prune_low_magnitude_dropout  (None, 5, 5, 512)        1         \n",
            " _1 (PruneLowMagnitude)                                          \n",
            "                                                                 \n",
            " prune_low_magnitude_separab  (None, 3, 3, 128)        135810    \n",
            " le_conv2d_1 (PruneLowMagnit                                     \n",
            " ude)                                                            \n",
            "                                                                 \n",
            " prune_low_magnitude_separab  (None, 1, 1, 24)         7322      \n",
            " le_conv2d_2 (PruneLowMagnit                                     \n",
            " ude)                                                            \n",
            "                                                                 \n",
            "=================================================================\n",
            "Total params: 49,279,186\n",
            "Trainable params: 24,661,400\n",
            "Non-trainable params: 24,617,786\n",
            "_________________________________________________________________\n",
            "Epoch 1/10\n",
            "281/281 [==============================] - 90s 156ms/step - loss: 944.7343 - mae: 20.0522 - val_loss: 986.7407 - val_mae: 21.0610\n",
            "Epoch 2/10\n",
            "281/281 [==============================] - 41s 145ms/step - loss: 611.4281 - mae: 16.7675 - val_loss: 509.5799 - val_mae: 16.1389\n",
            "Epoch 3/10\n",
            "281/281 [==============================] - 41s 147ms/step - loss: 409.4485 - mae: 14.6435 - val_loss: 518.2170 - val_mae: 15.9293\n",
            "Epoch 4/10\n",
            "281/281 [==============================] - 41s 146ms/step - loss: 325.1887 - mae: 13.1284 - val_loss: 453.5398 - val_mae: 14.8926\n",
            "Epoch 5/10\n",
            "281/281 [==============================] - 41s 145ms/step - loss: 237.3420 - mae: 11.1967 - val_loss: 401.2189 - val_mae: 13.8239\n",
            "Epoch 6/10\n",
            "281/281 [==============================] - 40s 143ms/step - loss: 192.2237 - mae: 10.0496 - val_loss: 380.1020 - val_mae: 13.0451\n",
            "Epoch 7/10\n",
            "281/281 [==============================] - 40s 143ms/step - loss: 173.2933 - mae: 9.5487 - val_loss: 372.6358 - val_mae: 12.9330\n",
            "Epoch 8/10\n",
            "281/281 [==============================] - 40s 142ms/step - loss: 162.2197 - mae: 9.2414 - val_loss: 367.0800 - val_mae: 12.7907\n",
            "Epoch 9/10\n",
            "281/281 [==============================] - 40s 143ms/step - loss: 153.8166 - mae: 8.9495 - val_loss: 365.8412 - val_mae: 12.7560\n",
            "Epoch 10/10\n",
            "281/281 [==============================] - 40s 144ms/step - loss: 149.3440 - mae: 8.8235 - val_loss: 372.0815 - val_mae: 12.8339\n"
          ]
        },
        {
          "output_type": "stream",
          "name": "stderr",
          "text": [
            "WARNING:absl:Function `_wrapped_model` contains input name(s) INPUT with unsupported characters which will be renamed to input in the SavedModel.\n",
            "WARNING:absl:Found untraced functions such as dropout_layer_call_fn, dropout_layer_call_and_return_conditional_losses, dropout_1_layer_call_fn, dropout_1_layer_call_and_return_conditional_losses, conv1_conv_layer_call_fn while saving (showing 5 of 240). These functions will not be directly callable after loading.\n"
          ]
        },
        {
          "output_type": "stream",
          "name": "stdout",
          "text": [
            "INFO:tensorflow:Assets written to: pruned_multiclass/assets\n"
          ]
        },
        {
          "output_type": "stream",
          "name": "stderr",
          "text": [
            "INFO:tensorflow:Assets written to: pruned_multiclass/assets\n"
          ]
        }
      ]
    },
    {
      "cell_type": "code",
      "source": [
        "prun_pred = model_for_pruning.predict(X_test)\n",
        "prun_pred = prun_pred.astype('int')\n",
        "prun_pred = np.where(prun_pred < 1, -1, prun_pred)\n",
        "prun_pred = prun_pred.reshape((prun_pred.shape[0], prun_pred.shape[-1]))\n",
        "prun_pred.shape"
      ],
      "metadata": {
        "colab": {
          "base_uri": "https://localhost:8080/"
        },
        "id": "vHxN-DXlkC0k",
        "outputId": "5f025f5d-d30d-4b7e-9f02-670f46ce0b36"
      },
      "execution_count": null,
      "outputs": [
        {
          "output_type": "execute_result",
          "data": {
            "text/plain": [
              "(2247, 24)"
            ]
          },
          "metadata": {},
          "execution_count": 44
        }
      ]
    },
    {
      "cell_type": "code",
      "source": [
        "print('Baseline test mae:', mean_absolute_error(Y_test.reshape(Y_test.shape[0], Y_test.shape[-1]), new_pred))\n",
        "print('Pruned test mae:', mean_absolute_error(Y_test.reshape(Y_test.shape[0], Y_test.shape[-1]), prun_pred))"
      ],
      "metadata": {
        "colab": {
          "base_uri": "https://localhost:8080/"
        },
        "id": "xx83KHbBkCyZ",
        "outputId": "7eb9f563-e522-44c9-8c38-e21208469433"
      },
      "execution_count": null,
      "outputs": [
        {
          "output_type": "stream",
          "name": "stdout",
          "text": [
            "Baseline test mae: 15.307076101468624\n",
            "Pruned test mae: 12.867675419077289\n"
          ]
        }
      ]
    },
    {
      "cell_type": "code",
      "source": [
        "X_train_dataset = tf.data.Dataset.from_tensor_slices((X_train/255).astype('float32'))\n",
        "\n",
        "# get the pruned model ready\n",
        "model_for_export = tfmot.sparsity.keras.strip_pruning(model_for_pruning)\n",
        "\n",
        "# quantize\n",
        "converter = tf.lite.TFLiteConverter.from_keras_model(model_for_export)\n",
        "converter.optimizations = [tf.lite.Optimize.DEFAULT]\n",
        "\n",
        "num_calibration_steps = 1\n",
        "def representative_data_gen():\n",
        "    for input_value in X_train_dataset.batch(1).take(100):\n",
        "        yield [input_value]\n",
        "\n",
        "converter.representative_dataset = representative_data_gen\n",
        "converter.target_spec.supported_ops = [tf.lite.OpsSet.TFLITE_BUILTINS_INT8]\n",
        "converter.inference_input_type = tf.int8  # or tf.uint8\n",
        "converter.inference_output_type = tf.int8  # or tf.uint8"
      ],
      "metadata": {
        "id": "se79-YM6kCwD"
      },
      "execution_count": null,
      "outputs": []
    },
    {
      "cell_type": "code",
      "source": [
        "tflite_model = converter.convert()"
      ],
      "metadata": {
        "colab": {
          "base_uri": "https://localhost:8080/"
        },
        "id": "wRKc9y9mkhVn",
        "outputId": "fea7c91d-0425-4ddd-e5c3-3d452fa8f06c"
      },
      "execution_count": null,
      "outputs": [
        {
          "output_type": "stream",
          "name": "stderr",
          "text": [
            "WARNING:absl:Function `_wrapped_model` contains input name(s) INPUT with unsupported characters which will be renamed to input in the SavedModel.\n"
          ]
        },
        {
          "output_type": "stream",
          "name": "stdout",
          "text": [
            "INFO:tensorflow:Assets written to: /tmp/tmpg7kfyz11/assets\n"
          ]
        },
        {
          "output_type": "stream",
          "name": "stderr",
          "text": [
            "INFO:tensorflow:Assets written to: /tmp/tmpg7kfyz11/assets\n",
            "/usr/local/lib/python3.7/dist-packages/tensorflow/lite/python/convert.py:746: UserWarning: Statistics for quantized inputs were expected, but not specified; continuing anyway.\n",
            "  warnings.warn(\"Statistics for quantized inputs were expected, but not \"\n",
            "WARNING:absl:Buffer deduplication procedure will be skipped when flatbuffer library is not properly loaded\n"
          ]
        }
      ]
    },
    {
      "cell_type": "code",
      "source": [
        "with open(\"quant_pruned.tflite\",'wb') as f:\n",
        "    f.write(tflite_model)"
      ],
      "metadata": {
        "id": "ommkpKF9khSz"
      },
      "execution_count": null,
      "outputs": []
    },
    {
      "cell_type": "code",
      "source": [
        "interpreter = tf.lite.Interpreter(\"quant_pruned.tflite\")\n",
        "interpreter.allocate_tensors()\n",
        "\n",
        "# Get input and output tensors.\n",
        "input_details = interpreter.get_input_details()\n",
        "output_details = interpreter.get_output_details()\n",
        "\n",
        "# Test the model on random input data.\n",
        "input_shape = input_details[0]['shape']\n",
        "quant_pred = []\n",
        "\n",
        "pbar = tqdm(total=5, desc=\"Making predictions on tflite model:\")\n",
        "for i in range(5):\n",
        "    input_data = np.expand_dims((X_test[0]*255).astype('int8'), axis=0)\n",
        "    interpreter.set_tensor(input_details[0]['index'], input_data)\n",
        "    interpreter.invoke()\n",
        "    pbar.update(1)\n",
        "    \n",
        "    # The function `get_tensor()` returns a copy of the tensor data.\n",
        "    # Use `tensor()` in order to get a pointer to the tensor.\n",
        "    output_data = interpreter.get_tensor(output_details[0]['index'])\n",
        "    quant_pred.append(output_data.flatten())\n",
        "quant_pred = np.array(quant_pred)\n",
        "pbar.close()"
      ],
      "metadata": {
        "colab": {
          "base_uri": "https://localhost:8080/",
          "height": 49,
          "referenced_widgets": [
            "9757ba052b5044ec9a1c8465568c8c4f",
            "568e4e9391db403da990f5a20cbecb04",
            "b3e3066f2dbe44408bea9e72213dfebf",
            "3014f2b7e848405fa635e6e066dc561a",
            "39dfe3cffc59448ba9b441ce6084ee48",
            "f46f87b0505b446da5a2bed3e862fa59",
            "356a20dadcd5406e92714cf55c2a2d79",
            "f556d121e06042a6afc1c7f3c608b50e",
            "828ed00d6cb54ed7947453a88fc0e4b6",
            "2c07071adc854b2685c8e06d2865bd1d",
            "0b452db026e342e7a2b72f8c1007d420"
          ]
        },
        "id": "C3AsLpackhQR",
        "outputId": "57128723-9286-42fa-b6f1-abe4826ece8e"
      },
      "execution_count": null,
      "outputs": [
        {
          "output_type": "display_data",
          "data": {
            "text/plain": [
              "Making predictions on tflite model::   0%|          | 0/5 [00:00<?, ?it/s]"
            ],
            "application/vnd.jupyter.widget-view+json": {
              "version_major": 2,
              "version_minor": 0,
              "model_id": "9757ba052b5044ec9a1c8465568c8c4f"
            }
          },
          "metadata": {}
        }
      ]
    },
    {
      "cell_type": "code",
      "source": [
        "input()"
      ],
      "metadata": {
        "id": "yD9nnX7-khN8"
      },
      "execution_count": null,
      "outputs": []
    },
    {
      "cell_type": "code",
      "source": [
        "columns = pd.read_csv(ANNOTATION).columns[1:-7]\n",
        "\n",
        "port_img = cv2.resize(cv2.imread(\"00004.jpg\"), (224, 224), interpolation=cv2.INTER_AREA)\n",
        "port_pred = (model.predict(np.expand_dims(port_img, axis=0))*255).astype('int').flatten()\n",
        "port_pred = port_pred\n",
        "port_pred = np.where(port_pred < 1, -1, port_pred)\n",
        "\n",
        "data = []\n",
        "for i in [port_pred]:\n",
        "    temp = i.tolist()\n",
        "    data.append([(temp[j], temp[j+1]) for j in range(0, 24, 2)])\n",
        "pd_test = pd.DataFrame(data)\n",
        "pd_test.columns = columns\n",
        "pd_test = pd_test.apply(lambda x: datapoint_correction(x), axis=1)\n",
        "pd_test.columns = columns\n",
        "display_image(port_img)\n",
        "display_image_with_pose(port_img, pd_test.iloc[0], ratio=5)"
      ],
      "metadata": {
        "colab": {
          "base_uri": "https://localhost:8080/",
          "height": 730
        },
        "id": "HGVKXsCPQRv6",
        "outputId": "19b49b56-b69c-4c41-8d9e-d3a35ddb8f1f"
      },
      "execution_count": null,
      "outputs": [
        {
          "output_type": "execute_result",
          "data": {
            "text/plain": [
              "<matplotlib.axes._subplots.AxesSubplot at 0x7f999885cd90>"
            ]
          },
          "metadata": {},
          "execution_count": 29
        },
        {
          "output_type": "display_data",
          "data": {
            "text/plain": [
              "<Figure size 360x360 with 1 Axes>"
            ],
            "image/png": "[encoded data removed]"
          },
          "metadata": {
            "needs_background": "light"
          }
        },
        {
          "output_type": "display_data",
          "data": {
            "text/plain": [
              "<Figure size 360x360 with 1 Axes>"
            ],
            "image/png": "[encoded data removed]"
          },
          "metadata": {
            "needs_background": "light"
          }
        }
      ]
    },
    {
      "cell_type": "code",
      "source": [
        "predicted = model.predict(X_test)"
      ],
      "metadata": {
        "id": "KhudSFFVp7t5"
      },
      "execution_count": null,
      "outputs": []
    },
    {
      "cell_type": "code",
      "source": [
        "# new_pred = (predicted * X_test.shape[1]).astype('int')\n",
        "new_pred = predicted.astype('int')\n",
        "new_pred = np.where(new_pred < 1, -1, new_pred)\n",
        "new_pred = new_pred.reshape((new_pred.shape[0], new_pred.shape[-1]))\n",
        "new_pred.shape"
      ],
      "metadata": {
        "colab": {
          "base_uri": "https://localhost:8080/"
        },
        "id": "bLnxrDvBslgB",
        "outputId": "ccedb20c-b4c9-4ae6-84f8-8e79ef12520d"
      },
      "execution_count": null,
      "outputs": [
        {
          "output_type": "execute_result",
          "data": {
            "text/plain": [
              "(2247, 24)"
            ]
          },
          "metadata": {},
          "execution_count": 24
        }
      ]
    },
    {
      "cell_type": "code",
      "source": [
        "data = []\n",
        "for i in new_pred:\n",
        "    temp = i.tolist()\n",
        "    data.append([(temp[j], temp[j+1]) for j in range(0, 24, 2)])\n",
        "\n",
        "pd_test = pd.DataFrame(data)\n",
        "columns = pd.read_csv(ANNOTATION).columns[1:-7]\n",
        "pd_test.columns = columns\n",
        "\n",
        "pd_test = pd_test.apply(lambda x: datapoint_correction(x), axis=1)\n",
        "pd_test.columns = columns\n",
        "pd_test.head()"
      ],
      "metadata": {
        "colab": {
          "base_uri": "https://localhost:8080/",
          "height": 206
        },
        "id": "zIHWjzVDsmju",
        "outputId": "0c39d7d4-81c0-4ade-da81-0b8187b66513"
      },
      "execution_count": null,
      "outputs": [
        {
          "output_type": "execute_result",
          "data": {
            "text/plain": [
              "  left_shoulder right_shoulder  left_elbow right_elbow  left_wrist  \\\n",
              "0      (77, 83)       (86, 81)   (75, 108)  (100, 102)   (85, 127)   \n",
              "1    (121, 142)     (113, 136)  (120, 173)  (109, 163)  (109, 202)   \n",
              "2     (34, 118)      (41, 119)   (47, 148)   (59, 142)   (63, 166)   \n",
              "3     (138, 42)      (115, 39)   (135, 74)   (115, 64)   (128, 92)   \n",
              "4     (155, 53)      (137, 42)   (131, 94)   (105, 77)    (75, 89)   \n",
              "\n",
              "  right_wrist    left_hip   right_hip   left_knee  right_knee  left_ankle  \\\n",
              "0  (114, 123)    (86, 98)   (90, 100)  (113, 123)  (106, 126)  (121, 146)   \n",
              "1   (98, 190)  (128, 148)  (124, 144)  (113, 179)  (114, 173)  (115, 200)   \n",
              "2   (77, 151)   (93, 131)   (94, 135)  (143, 145)  (142, 147)  (186, 162)   \n",
              "3   (119, 85)   (121, 91)   (108, 92)  (122, 145)   (87, 146)  (111, 193)   \n",
              "4    (69, 82)  (158, 138)  (141, 126)   (86, 142)   (68, 127)   (70, 176)   \n",
              "\n",
              "  right_ankle  \n",
              "0  (112, 146)  \n",
              "1  (115, 192)  \n",
              "2  (185, 160)  \n",
              "3   (74, 190)  \n",
              "4   (70, 165)  "
            ],
            "text/html": [
              "\n",
              "  <div id=\"df-1e11aa86-8301-45fc-93bb-a12384a3ba26\">\n",
              "    <div class=\"colab-df-container\">\n",
              "      <div>\n",
              "<style scoped>\n",
              "    .dataframe tbody tr th:only-of-type {\n",
              "        vertical-align: middle;\n",
              "    }\n",
              "\n",
              "    .dataframe tbody tr th {\n",
              "        vertical-align: top;\n",
              "    }\n",
              "\n",
              "    .dataframe thead th {\n",
              "        text-align: right;\n",
              "    }\n",
              "</style>\n",
              "<table border=\"1\" class=\"dataframe\">\n",
              "  <thead>\n",
              "    <tr style=\"text-align: right;\">\n",
              "      <th></th>\n",
              "      <th>left_shoulder</th>\n",
              "      <th>right_shoulder</th>\n",
              "      <th>left_elbow</th>\n",
              "      <th>right_elbow</th>\n",
              "      <th>left_wrist</th>\n",
              "      <th>right_wrist</th>\n",
              "      <th>left_hip</th>\n",
              "      <th>right_hip</th>\n",
              "      <th>left_knee</th>\n",
              "      <th>right_knee</th>\n",
              "      <th>left_ankle</th>\n",
              "      <th>right_ankle</th>\n",
              "    </tr>\n",
              "  </thead>\n",
              "  <tbody>\n",
              "    <tr>\n",
              "      <th>0</th>\n",
              "      <td>(77, 83)</td>\n",
              "      <td>(86, 81)</td>\n",
              "      <td>(75, 108)</td>\n",
              "      <td>(100, 102)</td>\n",
              "      <td>(85, 127)</td>\n",
              "      <td>(114, 123)</td>\n",
              "      <td>(86, 98)</td>\n",
              "      <td>(90, 100)</td>\n",
              "      <td>(113, 123)</td>\n",
              "      <td>(106, 126)</td>\n",
              "      <td>(121, 146)</td>\n",
              "      <td>(112, 146)</td>\n",
              "    </tr>\n",
              "    <tr>\n",
              "      <th>1</th>\n",
              "      <td>(121, 142)</td>\n",
              "      <td>(113, 136)</td>\n",
              "      <td>(120, 173)</td>\n",
              "      <td>(109, 163)</td>\n",
              "      <td>(109, 202)</td>\n",
              "      <td>(98, 190)</td>\n",
              "      <td>(128, 148)</td>\n",
              "      <td>(124, 144)</td>\n",
              "      <td>(113, 179)</td>\n",
              "      <td>(114, 173)</td>\n",
              "      <td>(115, 200)</td>\n",
              "      <td>(115, 192)</td>\n",
              "    </tr>\n",
              "    <tr>\n",
              "      <th>2</th>\n",
              "      <td>(34, 118)</td>\n",
              "      <td>(41, 119)</td>\n",
              "      <td>(47, 148)</td>\n",
              "      <td>(59, 142)</td>\n",
              "      <td>(63, 166)</td>\n",
              "      <td>(77, 151)</td>\n",
              "      <td>(93, 131)</td>\n",
              "      <td>(94, 135)</td>\n",
              "      <td>(143, 145)</td>\n",
              "      <td>(142, 147)</td>\n",
              "      <td>(186, 162)</td>\n",
              "      <td>(185, 160)</td>\n",
              "    </tr>\n",
              "    <tr>\n",
              "      <th>3</th>\n",
              "      <td>(138, 42)</td>\n",
              "      <td>(115, 39)</td>\n",
              "      <td>(135, 74)</td>\n",
              "      <td>(115, 64)</td>\n",
              "      <td>(128, 92)</td>\n",
              "      <td>(119, 85)</td>\n",
              "      <td>(121, 91)</td>\n",
              "      <td>(108, 92)</td>\n",
              "      <td>(122, 145)</td>\n",
              "      <td>(87, 146)</td>\n",
              "      <td>(111, 193)</td>\n",
              "      <td>(74, 190)</td>\n",
              "    </tr>\n",
              "    <tr>\n",
              "      <th>4</th>\n",
              "      <td>(155, 53)</td>\n",
              "      <td>(137, 42)</td>\n",
              "      <td>(131, 94)</td>\n",
              "      <td>(105, 77)</td>\n",
              "      <td>(75, 89)</td>\n",
              "      <td>(69, 82)</td>\n",
              "      <td>(158, 138)</td>\n",
              "      <td>(141, 126)</td>\n",
              "      <td>(86, 142)</td>\n",
              "      <td>(68, 127)</td>\n",
              "      <td>(70, 176)</td>\n",
              "      <td>(70, 165)</td>\n",
              "    </tr>\n",
              "  </tbody>\n",
              "</table>\n",
              "</div>\n",
              "      <button class=\"colab-df-convert\" onclick=\"convertToInteractive('df-1e11aa86-8301-45fc-93bb-a12384a3ba26')\"\n",
              "              title=\"Convert this dataframe to an interactive table.\"\n",
              "              style=\"display:none;\">\n",
              "        \n",
              "  <svg xmlns=\"http://www.w3.org/2000/svg\" height=\"24px\"viewBox=\"0 0 24 24\"\n",
              "       width=\"24px\">\n",
              "    <path d=\"M0 0h24v24H0V0z\" fill=\"none\"/>\n",
              "    <path d=\"M18.56 5.44l.94 2.06.94-2.06 2.06-.94-2.06-.94-.94-2.06-.94 2.06-2.06.94zm-11 1L8.5 8.5l.94-2.06 2.06-.94-2.06-.94L8.5 2.5l-.94 2.06-2.06.94zm10 10l.94 2.06.94-2.06 2.06-.94-2.06-.94-.94-2.06-.94 2.06-2.06.94z\"/><path d=\"M17.41 7.96l-1.37-1.37c-.4-.4-.92-.59-1.43-.59-.52 0-1.04.2-1.43.59L10.3 9.45l-7.72 7.72c-.78.78-.78 2.05 0 2.83L4 21.41c.39.39.9.59 1.41.59.51 0 1.02-.2 1.41-.59l7.78-7.78 2.81-2.81c.8-.78.8-2.07 0-2.86zM5.41 20L4 18.59l7.72-7.72 1.47 1.35L5.41 20z\"/>\n",
              "  </svg>\n",
              "      </button>\n",
              "      \n",
              "  <style>\n",
              "    .colab-df-container {\n",
              "      display:flex;\n",
              "      flex-wrap:wrap;\n",
              "      gap: 12px;\n",
              "    }\n",
              "\n",
              "    .colab-df-convert {\n",
              "      background-color: #E8F0FE;\n",
              "      border: none;\n",
              "      border-radius: 50%;\n",
              "      cursor: pointer;\n",
              "      display: none;\n",
              "      fill: #1967D2;\n",
              "      height: 32px;\n",
              "      padding: 0 0 0 0;\n",
              "      width: 32px;\n",
              "    }\n",
              "\n",
              "    .colab-df-convert:hover {\n",
              "      background-color: #E2EBFA;\n",
              "      box-shadow: 0px 1px 2px rgba(60, 64, 67, 0.3), 0px 1px 3px 1px rgba(60, 64, 67, 0.15);\n",
              "      fill: #174EA6;\n",
              "    }\n",
              "\n",
              "    [theme=dark] .colab-df-convert {\n",
              "      background-color: #3B4455;\n",
              "      fill: #D2E3FC;\n",
              "    }\n",
              "\n",
              "    [theme=dark] .colab-df-convert:hover {\n",
              "      background-color: #434B5C;\n",
              "      box-shadow: 0px 1px 3px 1px rgba(0, 0, 0, 0.15);\n",
              "      filter: drop-shadow(0px 1px 2px rgba(0, 0, 0, 0.3));\n",
              "      fill: #FFFFFF;\n",
              "    }\n",
              "  </style>\n",
              "\n",
              "      <script>\n",
              "        const buttonEl =\n",
              "          document.querySelector('#df-1e11aa86-8301-45fc-93bb-a12384a3ba26 button.colab-df-convert');\n",
              "        buttonEl.style.display =\n",
              "          google.colab.kernel.accessAllowed ? 'block' : 'none';\n",
              "\n",
              "        async function convertToInteractive(key) {\n",
              "          const element = document.querySelector('#df-1e11aa86-8301-45fc-93bb-a12384a3ba26');\n",
              "          const dataTable =\n",
              "            await google.colab.kernel.invokeFunction('convertToInteractive',\n",
              "                                                     [key], {});\n",
              "          if (!dataTable) return;\n",
              "\n",
              "          const docLinkHtml = 'Like what you see? Visit the ' +\n",
              "            '<a target=\"_blank\" href=https://colab.research.google.com/notebooks/data_table.ipynb>data table notebook</a>'\n",
              "            + ' to learn more about interactive tables.';\n",
              "          element.innerHTML = '';\n",
              "          dataTable['output_type'] = 'display_data';\n",
              "          await google.colab.output.renderOutput(dataTable, element);\n",
              "          const docLink = document.createElement('div');\n",
              "          docLink.innerHTML = docLinkHtml;\n",
              "          element.appendChild(docLink);\n",
              "        }\n",
              "      </script>\n",
              "    </div>\n",
              "  </div>\n",
              "  "
            ]
          },
          "metadata": {},
          "execution_count": 75
        }
      ]
    },
    {
      "cell_type": "code",
      "source": [
        "i = 2\n",
        "# display_image_with_pose(np.repeat(X_train[i], 3, axis=-1), temp_data.iloc[i])\n",
        "temp_img = (np.ones(224*224*3).reshape(224,224,3).astype('int'))*255\n",
        "display_image_with_pose(temp_img, pd_test.iloc[i], ratio=6)"
      ],
      "metadata": {
        "colab": {
          "base_uri": "https://localhost:8080/",
          "height": 449
        },
        "id": "jchj_r3Hs34P",
        "outputId": "7157e48c-0f9c-46b8-9970-d6cf3e2c1571"
      },
      "execution_count": null,
      "outputs": [
        {
          "output_type": "execute_result",
          "data": {
            "text/plain": [
              "<matplotlib.axes._subplots.AxesSubplot at 0x7fa138a502d0>"
            ]
          },
          "metadata": {},
          "execution_count": 82
        },
        {
          "output_type": "display_data",
          "data": {
            "text/plain": [
              "<Figure size 432x432 with 1 Axes>"
            ],
            "image/png": "[encoded data removed]"
          },
          "metadata": {
            "needs_background": "light"
          }
        }
      ]
    },
    {
      "cell_type": "code",
      "source": [
        "display_image(X_test[i])"
      ],
      "metadata": {
        "colab": {
          "base_uri": "https://localhost:8080/",
          "height": 377
        },
        "id": "qsbhGWpv-bVg",
        "outputId": "be9f62b7-6f84-4125-e5e6-932e875db57d"
      },
      "execution_count": null,
      "outputs": [
        {
          "output_type": "execute_result",
          "data": {
            "text/plain": [
              "<matplotlib.axes._subplots.AxesSubplot at 0x7fa13882ccd0>"
            ]
          },
          "metadata": {},
          "execution_count": 83
        },
        {
          "output_type": "display_data",
          "data": {
            "text/plain": [
              "<Figure size 360x360 with 1 Axes>"
            ],
            "image/png": "[encoded data removed]"
          },
          "metadata": {
            "needs_background": "light"
          }
        }
      ]
    },
    {
      "cell_type": "code",
      "source": [
        "from sklearn.metrics import mean_absolute_error"
      ],
      "metadata": {
        "id": "Sh4C-0se29bv"
      },
      "execution_count": null,
      "outputs": []
    },
    {
      "cell_type": "code",
      "source": [
        "print('Baseline test mae:', mean_absolute_error(Y_test, new_pred))"
      ],
      "metadata": {
        "colab": {
          "base_uri": "https://localhost:8080/"
        },
        "id": "FajDijMTtqVf",
        "outputId": "c5926130-3e95-47c9-eff1-0cd8078d5736"
      },
      "execution_count": null,
      "outputs": [
        {
          "output_type": "stream",
          "name": "stdout",
          "text": [
            "Baseline test mae: 109.34411192436455\n"
          ]
        }
      ]
    },
    {
      "cell_type": "code",
      "source": [
        "port_img = cv2.resize(cv2.imread(\"00057.jpg\"), (224, 224), interpolation=cv2.INTER_AREA)\n",
        "port_pred = model.predict(np.expand_dims(port_img, axis=0)).astype('int').flatten()\n",
        "port_pred = port_pred*2\n",
        "port_pred = np.where(port_pred < 1, -1, port_pred)\n",
        "\n",
        "data = []\n",
        "for i in [port_pred]:\n",
        "    temp = i.tolist()\n",
        "    data.append([(temp[j], temp[j+1]) for j in range(0, 24, 2)])\n",
        "\n",
        "pd_test = pd.DataFrame(data)\n",
        "columns = pd.read_csv(ANNOTATION).columns[1:-7]\n",
        "pd_test.columns = columns\n",
        "\n",
        "pd_test = pd_test.apply(lambda x: datapoint_correction(x), axis=1)\n",
        "pd_test.columns = columns\n",
        "display_image_with_pose(port_img, pd_test.iloc[0], ratio=5)"
      ],
      "metadata": {
        "colab": {
          "base_uri": "https://localhost:8080/",
          "height": 387
        },
        "id": "VW9giF8gneXI",
        "outputId": "0855ad45-0583-4b6e-cf34-1d84ac8ab595"
      },
      "execution_count": null,
      "outputs": [
        {
          "output_type": "execute_result",
          "data": {
            "text/plain": [
              "<matplotlib.axes._subplots.AxesSubplot at 0x7f692bc8cd10>"
            ]
          },
          "metadata": {},
          "execution_count": 168
        },
        {
          "output_type": "display_data",
          "data": {
            "text/plain": [
              "<Figure size 360x360 with 1 Axes>"
            ],
            "image/png": "[encoded data removed]"
          },
          "metadata": {
            "needs_background": "light"
          }
        }
      ]
    },
    {
      "cell_type": "code",
      "source": [
        "model.predict(np.expand_dims(port_img, axis=0)).astype('int')"
      ],
      "metadata": {
        "colab": {
          "base_uri": "https://localhost:8080/"
        },
        "id": "7G8fOwpSnSMX",
        "outputId": "0503087d-81ea-4b29-816a-3d085a8c221c"
      },
      "execution_count": null,
      "outputs": [
        {
          "output_type": "execute_result",
          "data": {
            "text/plain": [
              "array([[[[127, 118,  93, 115, 130, 148,  87, 140, 122, 162,  82, 155,\n",
              "          126, 164, 110, 162, 123, 184,  94, 181, 119, 200, 108, 195]]]])"
            ]
          },
          "metadata": {},
          "execution_count": 51
        }
      ]
    },
    {
      "cell_type": "code",
      "source": [
        ""
      ],
      "metadata": {
        "colab": {
          "base_uri": "https://localhost:8080/"
        },
        "id": "Br1xJUqsoQFR",
        "outputId": "ec962005-29a9-420f-d14a-bedfd32517dd"
      },
      "execution_count": null,
      "outputs": [
        {
          "output_type": "execute_result",
          "data": {
            "text/plain": [
              "array([127, 118,  93, 115, 130, 148,  87, 140, 122, 162,  82, 155, 126,\n",
              "       164, 110, 162, 123, 184,  94, 181, 119, 200, 108, 195])"
            ]
          },
          "metadata": {},
          "execution_count": 53
        }
      ]
    },
    {
      "cell_type": "code",
      "source": [
        "prune_low_magnitude = tfmot.sparsity.keras.prune_low_magnitude\n",
        "\n",
        "prune_epochs = 10\n",
        "\n",
        "end_step = np.ceil(1.0 * X_train.shape[0] / BATCH_SIZE).astype(np.int32) * prune_epochs\n",
        "# Define model for pruning.\n",
        "pruning_params = {\n",
        "    'pruning_schedule': tfmot.sparsity.keras.PolynomialDecay(\n",
        "        initial_sparsity=0.50,\n",
        "        final_sparsity=0.99,\n",
        "        begin_step=0,\n",
        "        end_step=end_step\n",
        "        ),\n",
        "    }\n",
        "model_for_pruning = prune_low_magnitude(model, **pruning_params)\n",
        "# `prune_low_magnitude` requires a recompile.\n",
        "model_for_pruning.compile(\n",
        "    loss = 'mse',\n",
        "    optimizer = Adam(),\n",
        "    metrics = ['mae'],\n",
        ")\n",
        "\n",
        "model_for_pruning.summary()\n",
        "\n",
        "pruning_history = model_for_pruning.fit(X_train, Y_train,\n",
        "                    epochs=prune_epochs,\n",
        "                    validation_data=(X_test, Y_test), \n",
        "                    # batch_size=BATCH_SIZE,\n",
        "                    callbacks=[tfmot.sparsity.keras.UpdatePruningStep()],\n",
        "                    )\n",
        "model_for_pruning.save(\"pruned_multiclass\")"
      ],
      "metadata": {
        "colab": {
          "base_uri": "https://localhost:8080/"
        },
        "id": "kFdwfyHC3dj0",
        "outputId": "535be618-3ff4-4f22-c1ad-5bf11f5e9a64"
      },
      "execution_count": null,
      "outputs": [
        {
          "output_type": "stream",
          "name": "stderr",
          "text": [
            "/usr/local/lib/python3.7/dist-packages/tensorflow_model_optimization/python/core/sparsity/keras/pruning_wrapper.py:238: UserWarning: `layer.add_variable` is deprecated and will be removed in a future version. Please use `layer.add_weight` method instead.\n",
            "  trainable=False)\n",
            "/usr/local/lib/python3.7/dist-packages/tensorflow_model_optimization/python/core/sparsity/keras/pruning_wrapper.py:218: UserWarning: `layer.add_variable` is deprecated and will be removed in a future version. Please use `layer.add_weight` method instead.\n",
            "  aggregation=tf.VariableAggregation.MEAN)\n",
            "/usr/local/lib/python3.7/dist-packages/tensorflow_model_optimization/python/core/sparsity/keras/pruning_wrapper.py:225: UserWarning: `layer.add_variable` is deprecated and will be removed in a future version. Please use `layer.add_weight` method instead.\n",
            "  aggregation=tf.VariableAggregation.MEAN)\n"
          ]
        },
        {
          "output_type": "stream",
          "name": "stdout",
          "text": [
            "Model: \"Pose_Estimator\"\n",
            "_________________________________________________________________\n",
            " Layer (type)                Output Shape              Param #   \n",
            "=================================================================\n",
            " INPUT (InputLayer)          [(None, 224, 224, 3)]     0         \n",
            "                                                                 \n",
            " resnet50 (Functional)       (None, 7, 7, 2048)        47042851  \n",
            "                                                                 \n",
            " prune_low_magnitude_dropout  (None, 7, 7, 2048)       1         \n",
            "  (PruneLowMagnitude)                                            \n",
            "                                                                 \n",
            " prune_low_magnitude_separab  (None, 5, 5, 512)        2116098   \n",
            " le_conv2d (PruneLowMagnitud                                     \n",
            " e)                                                              \n",
            "                                                                 \n",
            " prune_low_magnitude_separab  (None, 3, 3, 128)        135810    \n",
            " le_conv2d_1 (PruneLowMagnit                                     \n",
            " ude)                                                            \n",
            "                                                                 \n",
            " prune_low_magnitude_separab  (None, 1, 1, 24)         7322      \n",
            " le_conv2d_2 (PruneLowMagnit                                     \n",
            " ude)                                                            \n",
            "                                                                 \n",
            "=================================================================\n",
            "Total params: 49,302,082\n",
            "Trainable params: 1,142,040\n",
            "Non-trainable params: 48,160,042\n",
            "_________________________________________________________________\n",
            "Epoch 1/10\n",
            "281/281 [==============================] - 65s 95ms/step - loss: 756.5092 - mae: 20.5488 - val_loss: 727.4174 - val_mae: 20.1180\n",
            "Epoch 2/10\n",
            "281/281 [==============================] - 24s 87ms/step - loss: 732.3624 - mae: 20.1360 - val_loss: 714.7305 - val_mae: 19.6529\n",
            "Epoch 3/10\n",
            "281/281 [==============================] - 24s 86ms/step - loss: 3069.3865 - mae: 34.3089 - val_loss: 7517.4268 - val_mae: 73.8247\n",
            "Epoch 4/10\n",
            "281/281 [==============================] - 24s 86ms/step - loss: 6377.2422 - mae: 64.5657 - val_loss: 6225.0923 - val_mae: 62.2840\n",
            "Epoch 5/10\n",
            "281/281 [==============================] - 24s 86ms/step - loss: 6003.2437 - mae: 62.3310 - val_loss: 5668.6357 - val_mae: 59.9757\n",
            "Epoch 6/10\n",
            "281/281 [==============================] - 24s 84ms/step - loss: 5178.4609 - mae: 56.4256 - val_loss: 4658.9126 - val_mae: 52.1029\n",
            "Epoch 7/10\n",
            "281/281 [==============================] - 24s 84ms/step - loss: 4607.6855 - mae: 51.9271 - val_loss: 4511.9019 - val_mae: 50.9622\n",
            "Epoch 8/10\n",
            "281/281 [==============================] - 24s 86ms/step - loss: 4425.1938 - mae: 50.8205 - val_loss: 4274.6929 - val_mae: 49.7921\n",
            "Epoch 9/10\n",
            "281/281 [==============================] - 24s 84ms/step - loss: 4108.2803 - mae: 48.8209 - val_loss: 3886.0288 - val_mae: 47.0010\n",
            "Epoch 10/10\n",
            "281/281 [==============================] - 24s 84ms/step - loss: 3741.2991 - mae: 45.7637 - val_loss: 3580.7537 - val_mae: 43.8332\n"
          ]
        },
        {
          "output_type": "stream",
          "name": "stderr",
          "text": [
            "WARNING:absl:Function `_wrapped_model` contains input name(s) INPUT with unsupported characters which will be renamed to input in the SavedModel.\n",
            "WARNING:absl:Found untraced functions such as dropout_layer_call_fn, dropout_layer_call_and_return_conditional_losses, conv1_conv_layer_call_fn, conv1_conv_layer_call_and_return_conditional_losses, conv1_relu_layer_call_fn while saving (showing 5 of 238). These functions will not be directly callable after loading.\n"
          ]
        },
        {
          "output_type": "stream",
          "name": "stdout",
          "text": [
            "INFO:tensorflow:Assets written to: pruned_multiclass/assets\n"
          ]
        },
        {
          "output_type": "stream",
          "name": "stderr",
          "text": [
            "INFO:tensorflow:Assets written to: pruned_multiclass/assets\n"
          ]
        }
      ]
    },
    {
      "cell_type": "code",
      "source": [
        "prun_pred = model_for_pruning.predict(X_test)\n",
        "# prun_pred = (prun_pred * X_test.shape[1]).astype('int')\n",
        "prun_pred = np.where(prun_pred < 1, -1, prun_pred)\n",
        "prun_pred = prun_pred.reshape((prun_pred.shape[0], prun_pred.shape[-1]))\n",
        "prun_pred.shape"
      ],
      "metadata": {
        "colab": {
          "base_uri": "https://localhost:8080/"
        },
        "id": "9ckNT7LH31KU",
        "outputId": "ddfdd79f-cbc1-4114-ac92-57fd82b28d8d"
      },
      "execution_count": null,
      "outputs": [
        {
          "output_type": "execute_result",
          "data": {
            "text/plain": [
              "(2247, 24)"
            ]
          },
          "metadata": {},
          "execution_count": 77
        }
      ]
    },
    {
      "cell_type": "code",
      "source": [
        "print('Baseline test mae:', mean_absolute_error(Y_test.reshape(Y_test.shape[0], Y_test.shape[-1]), new_pred))\n",
        "print('Pruned test mae:', mean_absolute_error(Y_test.reshape(Y_test.shape[0], Y_test.shape[-1]), prun_pred))"
      ],
      "metadata": {
        "colab": {
          "base_uri": "https://localhost:8080/"
        },
        "id": "8D3uF0La5OJJ",
        "outputId": "d191d970-8bdc-4e64-e706-357aee6f7fa4"
      },
      "execution_count": null,
      "outputs": [
        {
          "output_type": "stream",
          "name": "stdout",
          "text": [
            "Baseline test mae: 18.838877762943184\n",
            "Pruned test mae: 43.958215717214664\n"
          ]
        }
      ]
    },
    {
      "cell_type": "code",
      "source": [
        "X_train.dtype"
      ],
      "metadata": {
        "colab": {
          "base_uri": "https://localhost:8080/"
        },
        "id": "wf_SY3Ab6NBi",
        "outputId": "4983174f-5a61-43f9-f2a1-87e1ecefd74f"
      },
      "execution_count": null,
      "outputs": [
        {
          "output_type": "execute_result",
          "data": {
            "text/plain": [
              "dtype('int16')"
            ]
          },
          "metadata": {},
          "execution_count": 70
        }
      ]
    },
    {
      "cell_type": "code",
      "source": [
        "X_train = X_train/255"
      ],
      "metadata": {
        "id": "VZyLVhMz6c7p"
      },
      "execution_count": null,
      "outputs": []
    },
    {
      "cell_type": "code",
      "source": [
        "X_train = X_train.astype('float16')"
      ],
      "metadata": {
        "id": "yTZrkAJD6iGp"
      },
      "execution_count": null,
      "outputs": []
    },
    {
      "cell_type": "code",
      "source": [
        "# X_train_dataset = tf.data.Dataset.from_tensor_slices((X_train/255).astype('float16'))\n",
        "X_train_dataset = tf.data.Dataset.from_tensor_slices(X_train.astype('float32'))\n",
        "\n",
        "# get the pruned model ready\n",
        "model_for_export = tfmot.sparsity.keras.strip_pruning(model)\n",
        "\n",
        "# quantize\n",
        "converter = tf.lite.TFLiteConverter.from_keras_model(model_for_export)\n",
        "converter.optimizations = [tf.lite.Optimize.DEFAULT]\n",
        "\n",
        "num_calibration_steps = 1\n",
        "def representative_data_gen():\n",
        "    for input_value in X_train_dataset.batch(1).take(100):\n",
        "        yield [input_value]\n",
        "\n",
        "converter.representative_dataset = representative_data_gen\n",
        "converter.target_spec.supported_ops = [tf.lite.OpsSet.TFLITE_BUILTINS_INT8]\n",
        "converter.inference_input_type = tf.int8  # or tf.uint8\n",
        "converter.inference_output_type = tf.int8  # or tf.uint8"
      ],
      "metadata": {
        "id": "V0RqKDuC5TqX"
      },
      "execution_count": null,
      "outputs": []
    },
    {
      "cell_type": "code",
      "source": [
        "tflite_model = converter.convert()"
      ],
      "metadata": {
        "colab": {
          "base_uri": "https://localhost:8080/"
        },
        "id": "zoZRiAlI5w0m",
        "outputId": "202e1a2b-f407-49e5-8b4e-2caa1a22e6b9"
      },
      "execution_count": null,
      "outputs": [
        {
          "output_type": "stream",
          "name": "stderr",
          "text": [
            "WARNING:absl:Function `_wrapped_model` contains input name(s) INPUT with unsupported characters which will be renamed to input in the SavedModel.\n"
          ]
        },
        {
          "output_type": "stream",
          "name": "stdout",
          "text": [
            "INFO:tensorflow:Assets written to: /tmp/tmpvp_m6ud0/assets\n"
          ]
        },
        {
          "output_type": "stream",
          "name": "stderr",
          "text": [
            "INFO:tensorflow:Assets written to: /tmp/tmpvp_m6ud0/assets\n",
            "/usr/local/lib/python3.7/dist-packages/tensorflow/lite/python/convert.py:746: UserWarning: Statistics for quantized inputs were expected, but not specified; continuing anyway.\n",
            "  warnings.warn(\"Statistics for quantized inputs were expected, but not \"\n",
            "WARNING:absl:Buffer deduplication procedure will be skipped when flatbuffer library is not properly loaded\n"
          ]
        }
      ]
    },
    {
      "cell_type": "code",
      "source": [
        "with open(\"quant_pruned_resnet_50.tflite\",'wb') as f:\n",
        "    f.write(tflite_model)"
      ],
      "metadata": {
        "id": "0G4NfEOZ51ch"
      },
      "execution_count": null,
      "outputs": []
    },
    {
      "cell_type": "code",
      "source": [
        ""
      ],
      "metadata": {
        "id": "ZcTmzU6QXdoP"
      },
      "execution_count": null,
      "outputs": []
    }
  ]
}