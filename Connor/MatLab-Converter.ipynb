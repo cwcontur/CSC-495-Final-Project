{
 "cells": [
  {
   "cell_type": "code",
   "execution_count": 2,
   "metadata": {},
   "outputs": [],
   "source": [
    "# ░░░░░░░░░░░░░░░░░░░░░░░░░░░░░░░░\n",
    "# ░░░░░░░▄▄▄▄▄▄░░░░░░░░░░░░░░░░░░░\n",
    "# ░░░░░▄█████████▄▄░░░░░░░░▄▄░░░░░\n",
    "# ░░░░███████████████▄▄░░░░▄██▄░░░\n",
    "# ░░░▄█████████████████████████░░░\n",
    "# ░▄██████████████████████████▀░░░\n",
    "# ░███░░░░░░░░░░░░░░░░░░░█░░░░░░░░\n",
    "# ░███░███████████████████░░░░░░░░\n",
    "# ░███░░▀████───████────█▀░░░░░░░░\n",
    "# ░███░░░▀▄▄▄▄▄▀░▀▄▄▄▄▄▀▀▀▄░░░░░░░\n",
    "# ░░██░░░░░░░░░░░░░░░░░░░░░▀▄░░░░░\n",
    "# ░░▄█░░░░░▄▀█▀▀▀▄▄▄░░░░░▄▀░░▀▄░░░\n",
    "# ░█░░░░░▄▀──█───█──▀█▄▄░▀▀░░░░▀▄░\n",
    "# ░▀▄▄░░█────█───█───█──▀▀▄░░▄▀▀▀░\n",
    "# ░░░█░██▄▄▄▄█▄▄▄█▄▄▄█▄▄▄▄▄█▄▄▀░░░\n",
    "# ░░░█░█████████████▄▄░░░░░░░░░░░░\n",
    "# ░░░█░█████████████████████████▄░\n",
    "# ░░░█░███████████████▀▀░░░░░░░░█░\n",
    "# ░░░█░██████████▀▀░░░░░░░░░░░░░█░\n",
    "# ░░░█░██████▀░░░░░░░░░░░░░░░░░░█░\n",
    "# ░░░█░███▀░░░░░░░░░░░░░░░░░░░░░█░\n",
    "# ░░░█░█▀░░░░░░░░░░░░░░░░░░░░░░░█░\n",
    "# ░░░█░░░░░░░░░░░░░░▀▄░▀▄░░░░░░░█░\n",
    "# ░░░█░░░░░░░░░░░░▄▄▄▀▄▄▀░░░░░░░█░\n",
    "# ░░░█░░░░░░░░░░░░░░░░░░░░░░░░░░█░\n",
    "# ░░░█░░░░░░░░░░░░░░░░░░░░░░░░░░█░\n",
    "# ░░░█░░░░░░░░░░░░░░░░░░░░░░░░░░█░\n",
    "# ░░░█░░░░░░░░░░░░░░░░░░░░░░░░░░█░\n",
    "# ░░░█░░░░░░░░░░░░░░░░░░░░░░░░░░█░\n",
    "# ░░░█░░░░░░░░░░░░░░░░░░░░░░░░░░█░\n",
    "# ░░░░░░░░░░░░░░░░░░░░░░░░░░░░░░░░\n",
    "# ░░░░░░░░░░░░░░░░░░░░░░░░░░░░░░░░░░░░░░░\n",
    "# ░█▀▄░█░█▄░█░█░█░█░░█▀░█▀▄░█▀░█▀▄░▄▀▀░█░\n",
    "# ░█░█░█░█▀██░█▀▄░█░░█▀░█▀▄░█▀░█▀▄░█░█░▀░\n",
    "# ░▀▀░░▀░▀░░▀░▀░▀░▀▀░▀▀░▀▀░░▀▀░▀░▀░░▀▀░▀░\n",
    "# ░░░░░░░░░░░░░░░░░░░░░░░░░░░░░░░░░░░░░░░"
   ]
  },
  {
   "cell_type": "markdown",
   "metadata": {},
   "source": [
    "#### Imports"
   ]
  },
  {
   "cell_type": "code",
   "execution_count": 1,
   "metadata": {},
   "outputs": [],
   "source": [
    "#   ____        _           ____                          _\n",
    "#  |  _ \\  __ _| |_ __ _   / ___|___  _ ____   _____ _ __| |_ ___ _ __\n",
    "#  | | | |/ _` | __/ _` | | |   / _ \\| '_ \\ \\ / / _ \\ '__| __/ _ \\ '__|\n",
    "#  | |_| | (_| | || (_| | | |__| (_) | | | \\ V /  __/ |  | ||  __/ |\n",
    "#  |____/ \\__,_|\\__\\__,_|  \\____\\___/|_| |_|\\_/ \\___|_|   \\__\\___|_|\n",
    "\n",
    "import math\n",
    "import time\n",
    "import numpy as np\n",
    "import scipy.io as sio\n",
    "import pandas as pd\n",
    "from tqdm.notebook import tnrange, tqdm\n",
    "import ipywidgets as widgets\n",
    "from IPython.display import display\n",
    "# ---------------------------------------------- #\n",
    "# Image_Manipulation\n",
    "# ---------------------------------------------- #\n",
    "import os\n",
    "from PIL import Image\n",
    "import cv2\n",
    "from ast import literal_eval\n",
    "\n",
    "import matplotlib.pyplot as plt\n",
    "from matplotlib.collections import LineCollection\n",
    "import matplotlib.patches as patches\n",
    "\n",
    "# ---------------------------------------------- #"
   ]
  },
  {
   "cell_type": "markdown",
   "metadata": {},
   "source": [
    "### Imports Data & Creates new Table"
   ]
  },
  {
   "cell_type": "code",
   "execution_count": 2,
   "metadata": {},
   "outputs": [
    {
     "data": {
      "application/vnd.jupyter.widget-view+json": {
       "model_id": "eab239156a7e4b89ab8a6f58e3285560",
       "version_major": 2,
       "version_minor": 0
      },
      "text/plain": [
       "Valid(value=True, description='Success!')"
      ]
     },
     "metadata": {},
     "output_type": "display_data"
    }
   ],
   "source": [
    "#   ,-.       _,---._ __  / \\\n",
    "#  /  )    .-'       `./ /   \\\n",
    "# (  (   ,'            `/    /|\n",
    "#  \\  `-\"             \\'\\   / |\n",
    "#   `.              ,  \\ \\ /  |\n",
    "#    /`.          ,'-`----Y   |\n",
    "#   (            ;        |   '\n",
    "#   |  ,-.    ,-'  Connor |  /\n",
    "#   |  | (   |   Contursi | /\n",
    "#   )  |  \\  `.___________|/\n",
    "#   `--'   `--'\n",
    "try:\n",
    "    # Imports MatLab file and sets release info\n",
    "    matlab = sio.loadmat(\"./mpii_human_pose_v1_u12_1.mat\", struct_as_record=False)\n",
    "    release = matlab[\"RELEASE\"]\n",
    "    objects = release[0, 0]\n",
    "\n",
    "    # Data types pulled from MatLab file\n",
    "    annotations = objects.__dict__[\"annolist\"]\n",
    "    image_train = objects.__dict__[\"img_train\"]\n",
    "    single_person = objects.__dict__[\"single_person\"]\n",
    "\n",
    "    # Labels for data columns\n",
    "    data_labels = [\n",
    "        \"NAME\",\n",
    "        \"r ankle_X\",\n",
    "        \"r ankle_Y\",\n",
    "        \"r knee_X\",\n",
    "        \"r knee_Y\",\n",
    "        \"r hip_X\",\n",
    "        \"r hip_Y\",\n",
    "        \"l hip_X\",\n",
    "        \"l hip_Y\",\n",
    "        \"l knee_X\",\n",
    "        \"l knee_Y\",\n",
    "        \"l ankle_X\",\n",
    "        \"l ankle_Y\",\n",
    "        \"pelvis_X\",\n",
    "        \"pelvis_Y\",\n",
    "        \"thorax_X\",\n",
    "        \"thorax_Y\",\n",
    "        \"upper neck_X\",\n",
    "        \"upper neck_Y\",\n",
    "        \"head top_X\",\n",
    "        \"head top_Y\",\n",
    "        \"r wrist_X\",\n",
    "        \"r wrist_Y\",\n",
    "        \"r elbow_X\",\n",
    "        \"r elbow_Y\",\n",
    "        \"r shoulder_X\",\n",
    "        \"r shoulder_Y\",\n",
    "        \"l shoulder_X\",\n",
    "        \"l shoulder_Y\",\n",
    "        \"l elbow_X\",\n",
    "        \"l elbow_Y\",\n",
    "        \"l wrist_X\",\n",
    "        \"l wrist_Y\",\n",
    "        \"Single_Person\",\n",
    "        \"Scale\",\n",
    "    ]\n",
    "\n",
    "    # Labels added to data\n",
    "    data = pd.DataFrame(columns=data_labels)\n",
    "\n",
    "# ============================================================= #\n",
    "    success = widgets.Valid(value=True, description=\"Success!\",)\n",
    "    display(success)\n",
    "except Exception as e:\n",
    "    failure = widgets.Valid(value=False, description=\"Failure!\",)\n",
    "    display(failure)\n",
    "    print(e)\n",
    "# ============================================================= #"
   ]
  },
  {
   "cell_type": "markdown",
   "metadata": {},
   "source": [
    "## Converts Data into .csv Format"
   ]
  },
  {
   "cell_type": "code",
   "execution_count": 3,
   "metadata": {
    "scrolled": true
   },
   "outputs": [
    {
     "data": {
      "application/vnd.jupyter.widget-view+json": {
       "model_id": "61fe5426021647d88f5b926daf373e48",
       "version_major": 2,
       "version_minor": 0
      },
      "text/plain": [
       "  0%|          | 0/24987 [00:00<?, ?it/s]"
      ]
     },
     "metadata": {},
     "output_type": "display_data"
    },
    {
     "data": {
      "application/vnd.jupyter.widget-view+json": {
       "model_id": "dfc9529cdd954dac926389029e7b4eb0",
       "version_major": 2,
       "version_minor": 0
      },
      "text/plain": [
       "Valid(value=True, description='Success!')"
      ]
     },
     "metadata": {},
     "output_type": "display_data"
    }
   ],
   "source": [
    "#   ,-.       _,---._ __  / \\\n",
    "#  /  )    .-'       `./ /   \\\n",
    "# (  (   ,'            `/    /|\n",
    "#  \\  `-\"             \\'\\   / |\n",
    "#   `.              ,  \\ \\ /  |\n",
    "#    /`.          ,'-`----Y   |\n",
    "#   (            ;        |   '\n",
    "#   |  ,-.    ,-'  Connor |  /\n",
    "#   |  | (   |   Contursi | /\n",
    "#   )  |  \\  `.___________|/\n",
    "#   `--'   `--'\n",
    "\n",
    "try:\n",
    "    # Processes data into proper CSV format\n",
    "    for a in tqdm(range(annotations.shape[1])):\n",
    "        \n",
    "#         if image_train[0,a] == 0:\n",
    "#             continue\n",
    "        # --------------------#\n",
    "        temporary_array = []  # Creates a temporary array for the data\n",
    "        object_list = annotations[0, a]  # Goes to first row in Annorect branch\n",
    "\n",
    "        annorect = object_list.__dict__[\"annorect\"]  # Accesses Annorect branch\n",
    "        image_name = object_list.__dict__[\"image\"]  # Accesses image branch\n",
    "        # --------------------#\n",
    "        if annorect.shape[0] == 0:\n",
    "            continue\n",
    "        # --------------------#\n",
    "        object_annorect = annorect[0, 0]  # Accesses inside Annorect branch\n",
    "        object_image = image_name[0, 0]  # Accesses inside name branch\n",
    "        # --------------------#\n",
    "        # Checks to make sure image has annotations\n",
    "        if \"annopoints\" not in object_annorect._fieldnames:\n",
    "            continue\n",
    "        # --------------------#\n",
    "        name_temp = object_image.__dict__[\"name\"]\n",
    "        image_name = name_temp[0]\n",
    "        temporary_array.append(image_name)\n",
    "        annotation_points = object_annorect.__dict__[\"annopoints\"]\n",
    "        # --------------------#\n",
    "        if annotation_points.shape[0] == 0:\n",
    "            continue\n",
    "        # --------------------#\n",
    "        object_points = annotation_points[0, 0]\n",
    "        points = object_points.__dict__[\"point\"]\n",
    "        # --------------------#\n",
    "        for b in range(0, 32):\n",
    "            temporary_array.append(-1)\n",
    "        # --------------------#\n",
    "        # Takes care of joint position annotations\n",
    "        for c in range(0, points.shape[1]):\n",
    "            pointer = points[0, c]\n",
    "            points_id = pointer.__dict__[\"id\"]\n",
    "            # x & y annotations\n",
    "            x_point = pointer.__dict__[\"x\"]\n",
    "            y_point = pointer.__dict__[\"y\"]\n",
    "            index = 2 * points_id[0][0] + 1\n",
    "\n",
    "            temporary_array[index] = x_point[0][0]\n",
    "            temporary_array[index + 1] = y_point[0][0]\n",
    "        # --------------------#\n",
    "        position = object_annorect.__dict__[\"objpos\"]\n",
    "        temporary_array.append(position[0][0])\n",
    "\n",
    "        scale = object_annorect.__dict__[\"scale\"]\n",
    "        temporary_array.append(scale[0][0])\n",
    "\n",
    "        hold_data = pd.DataFrame([temporary_array], columns=data_labels)\n",
    "        data = pd.concat([data, hold_data])\n",
    "\n",
    "# ============================================================= #\n",
    "    success = widgets.Valid(value=True, description=\"Success!\",)\n",
    "    display(success)\n",
    "except Exception as e:\n",
    "    failure = widgets.Valid(value=False, description=\"Failure!\",)\n",
    "    display(failure)\n",
    "    print(e)\n",
    "# ============================================================= #"
   ]
  },
  {
   "cell_type": "markdown",
   "metadata": {},
   "source": [
    "#### Creates save state before dropping columns"
   ]
  },
  {
   "cell_type": "code",
   "execution_count": 4,
   "metadata": {},
   "outputs": [
    {
     "name": "stdout",
     "output_type": "stream",
     "text": [
      "File size: 4265.6 kb\n"
     ]
    },
    {
     "data": {
      "application/vnd.jupyter.widget-view+json": {
       "model_id": "027d6733eb04401d83f9e1f57d6c9e35",
       "version_major": 2,
       "version_minor": 0
      },
      "text/plain": [
       "Valid(value=True, description='Success!')"
      ]
     },
     "metadata": {},
     "output_type": "display_data"
    }
   ],
   "source": [
    "# Lets you know if code was successful or not\n",
    "try:\n",
    "    # Creates new csv and deletes previous version if it's still in existence\n",
    "    if os.path.exists(\"./mpii_dataset - unmodified.csv\"):  # File path in current directory\n",
    "        os.remove(\"mpii_dataset - unmodified.csv\")  # Deletes files [if exists]\n",
    "\n",
    "    data.to_csv(\"mpii_dataset - unmodified.csv\")  # Saves data to .csv\n",
    "\n",
    "    # Checks file size just to make sure that it's not empty\n",
    "    file_size = os.path.getsize(\"mpii_dataset - unmodified.csv\")\n",
    "    kb = round(file_size / 1024, 1)  # Kilobytes\n",
    "    print(\"File size:\", kb, \"kb\")\n",
    "\n",
    "# ============================================================= #\n",
    "    success = widgets.Valid(value=True, description=\"Success!\",)\n",
    "    display(success)\n",
    "except Exception as e:\n",
    "    failure = widgets.Valid(value=False, description=\"Failure!\",)\n",
    "    display(failure)\n",
    "    print(e)\n",
    "# ============================================================= #"
   ]
  },
  {
   "cell_type": "markdown",
   "metadata": {},
   "source": [
    "#### Removes unnecessary columns"
   ]
  },
  {
   "cell_type": "code",
   "execution_count": 5,
   "metadata": {},
   "outputs": [
    {
     "data": {
      "application/vnd.jupyter.widget-view+json": {
       "model_id": "c23acd19aaa54b4ba288ea922a721cdf",
       "version_major": 2,
       "version_minor": 0
      },
      "text/plain": [
       "Valid(value=True, description='Success!')"
      ]
     },
     "metadata": {},
     "output_type": "display_data"
    }
   ],
   "source": [
    "try:\n",
    "    # Data points that will be removed:\n",
    "    # \"r knee_X\", \"r knee_Y\", \"l knee_X\", \"l knee_Y\", \"thorax_X\",\n",
    "    # \"thorax_Y\", \"upper neck_X\", \"upper neck_Y\", \"head top_X\",\n",
    "    # \"head top_Y\", \"r elbow_X\", \"r elbow_Y\", \"l elbow_X\",\n",
    "    # \"l elbow_Y\", \"Activity\", \"Category\"\n",
    "\n",
    "    # \"Single_Person\", is broken, so it's being dropped\n",
    "    \n",
    "    # Removes unnecessary data points that won't be utilized\n",
    "    data.drop(\n",
    "        [\n",
    "            # \"r knee_X\",\n",
    "            # \"r knee_Y\",\n",
    "            # \"l knee_X\",\n",
    "            # \"l knee_Y\",\n",
    "            \"thorax_X\",\n",
    "            \"thorax_Y\",\n",
    "            \"upper neck_X\",\n",
    "            \"upper neck_Y\",\n",
    "            \"head top_X\",\n",
    "            \"head top_Y\",\n",
    "            \"Single_Person\",\n",
    "            # \"r elbow_X\",\n",
    "            # \"r elbow_Y\",\n",
    "            # \"l elbow_X\",\n",
    "            # \"l elbow_Y\",\n",
    "            # \"Activity\",\n",
    "            # \"Category\",\n",
    "        ],\n",
    "        inplace=True,\n",
    "        axis=1,\n",
    "    )\n",
    "    \n",
    "# ============================================================= #\n",
    "    success = widgets.Valid(value=True, description=\"Success!\",)\n",
    "    display(success)\n",
    "except Exception as e:\n",
    "    failure = widgets.Valid(value=False, description=\"Failure!\",)\n",
    "    display(failure)\n",
    "    print(e)\n",
    "# ============================================================= #"
   ]
  },
  {
   "cell_type": "markdown",
   "metadata": {},
   "source": [
    "### Creates file for data and saves data"
   ]
  },
  {
   "cell_type": "code",
   "execution_count": 6,
   "metadata": {},
   "outputs": [
    {
     "name": "stdout",
     "output_type": "stream",
     "text": [
      "File size: 2352.0 kb\n"
     ]
    },
    {
     "data": {
      "application/vnd.jupyter.widget-view+json": {
       "model_id": "d2bf22c9a7ec4d8486cc3854e8b5ea56",
       "version_major": 2,
       "version_minor": 0
      },
      "text/plain": [
       "Valid(value=True, description='Success!')"
      ]
     },
     "metadata": {},
     "output_type": "display_data"
    }
   ],
   "source": [
    "# Lets you know if code was successful or not\n",
    "try:\n",
    "    # Creates new csv and deletes previous version if it's still in existence\n",
    "    if os.path.exists(\"./mpii_dataset.csv\"):  # File path in current directory\n",
    "        os.remove(\"mpii_dataset.csv\")  # Deletes files [if exists]\n",
    "\n",
    "    data.to_csv(\"mpii_dataset.csv\")  # Saves data to .csv\n",
    "\n",
    "    # Checks file size just to make sure that it's not empty\n",
    "    file_size = os.path.getsize(\"mpii_dataset.csv\")\n",
    "    kb = round(file_size / 1024, 1)  # Kilobytes\n",
    "    print(\"File size:\", kb, \"kb\")\n",
    "\n",
    "# ============================================================= #\n",
    "    success = widgets.Valid(value=True, description=\"Success!\",)\n",
    "    display(success)\n",
    "except Exception as e:\n",
    "    failure = widgets.Valid(value=False, description=\"Failure!\",)\n",
    "    display(failure)\n",
    "    print(e)\n",
    "# ============================================================= #"
   ]
  },
  {
   "cell_type": "markdown",
   "metadata": {},
   "source": [
    "### Converts CSV file to json for easier keypoint application"
   ]
  },
  {
   "cell_type": "code",
   "execution_count": 10,
   "metadata": {},
   "outputs": [
    {
     "data": {
      "application/vnd.jupyter.widget-view+json": {
       "model_id": "32ffd86cb1aa48d2b755ceeb289ffb51",
       "version_major": 2,
       "version_minor": 0
      },
      "text/plain": [
       "Valid(value=True, description='Success!')"
      ]
     },
     "metadata": {},
     "output_type": "display_data"
    }
   ],
   "source": [
    "# Lets you know if code was successful or not\n",
    "try:\n",
    "    import json\n",
    "    import csv\n",
    "\n",
    "    csvFilePath = r\"mpii_dataset.csv\"\n",
    "    jsonFilePath = r\"mpii_dataset.json\"\n",
    "\n",
    "\n",
    "    def make_json(csvFilePath, jsonFilePath):\n",
    "        data = {}\n",
    "        with open(csvFilePath, encoding='utf-8') as csvf:\n",
    "            csvReader = csv.DictReader(csvf)\n",
    "            \n",
    "            for rows in csvReader:\n",
    "                keys = rows['NAME']\n",
    "#                 print(keys)\n",
    "\n",
    "                data[keys] = rows\n",
    "\n",
    "\n",
    "        with open(jsonFilePath, 'w',  encoding='utf-8') as jsonf:\n",
    "            jsonf.write(json.dumps({'images': data},indent=4))\n",
    "\n",
    "\n",
    "\n",
    "    make_json(csvFilePath, jsonFilePath)\n",
    "\n",
    "# ============================================================= #\n",
    "    success = widgets.Valid(value=True, description=\"Success!\",)\n",
    "    display(success)\n",
    "except Exception as e:\n",
    "    failure = widgets.Valid(value=False, description=\"Failure!\",)\n",
    "    display(failure)\n",
    "    print(e)\n",
    "# ============================================================= #"
   ]
  }
 ],
 "metadata": {
  "kernelspec": {
   "display_name": "Python 3 (ipykernel)",
   "language": "python",
   "name": "python3"
  },
  "language_info": {
   "codemirror_mode": {
    "name": "ipython",
    "version": 3
   },
   "file_extension": ".py",
   "mimetype": "text/x-python",
   "name": "python",
   "nbconvert_exporter": "python",
   "pygments_lexer": "ipython3",
   "version": "3.9.7"
  }
 },
 "nbformat": 4,
 "nbformat_minor": 2
}
