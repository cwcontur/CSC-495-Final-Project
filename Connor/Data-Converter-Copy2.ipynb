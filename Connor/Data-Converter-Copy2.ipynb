{
 "cells": [
  {
   "cell_type": "code",
   "execution_count": 50,
   "metadata": {},
   "outputs": [],
   "source": [
    "# ░░░░░░░░░░░░░░░░░░░░░░░░░░░░░░░░\n",
    "# ░░░░░░░▄▄▄▄▄▄░░░░░░░░░░░░░░░░░░░\n",
    "# ░░░░░▄█████████▄▄░░░░░░░░▄▄░░░░░\n",
    "# ░░░░███████████████▄▄░░░░▄██▄░░░\n",
    "# ░░░▄█████████████████████████░░░\n",
    "# ░▄██████████████████████████▀░░░\n",
    "# ░███░░░░░░░░░░░░░░░░░░░█░░░░░░░░\n",
    "# ░███░███████████████████░░░░░░░░\n",
    "# ░███░░▀████───████────█▀░░░░░░░░\n",
    "# ░███░░░▀▄▄▄▄▄▀░▀▄▄▄▄▄▀▀▀▄░░░░░░░\n",
    "# ░░██░░░░░░░░░░░░░░░░░░░░░▀▄░░░░░\n",
    "# ░░▄█░░░░░▄▀█▀▀▀▄▄▄░░░░░▄▀░░▀▄░░░\n",
    "# ░█░░░░░▄▀──█───█──▀█▄▄░▀▀░░░░▀▄░\n",
    "# ░▀▄▄░░█────█───█───█──▀▀▄░░▄▀▀▀░\n",
    "# ░░░█░██▄▄▄▄█▄▄▄█▄▄▄█▄▄▄▄▄█▄▄▀░░░\n",
    "# ░░░█░█████████████▄▄░░░░░░░░░░░░\n",
    "# ░░░█░█████████████████████████▄░\n",
    "# ░░░█░███████████████▀▀░░░░░░░░█░\n",
    "# ░░░█░██████████▀▀░░░░░░░░░░░░░█░\n",
    "# ░░░█░██████▀░░░░░░░░░░░░░░░░░░█░\n",
    "# ░░░█░███▀░░░░░░░░░░░░░░░░░░░░░█░\n",
    "# ░░░█░█▀░░░░░░░░░░░░░░░░░░░░░░░█░\n",
    "# ░░░█░░░░░░░░░░░░░░▀▄░▀▄░░░░░░░█░\n",
    "# ░░░█░░░░░░░░░░░░▄▄▄▀▄▄▀░░░░░░░█░\n",
    "# ░░░█░░░░░░░░░░░░░░░░░░░░░░░░░░█░\n",
    "# ░░░█░░░░░░░░░░░░░░░░░░░░░░░░░░█░\n",
    "# ░░░█░░░░░░░░░░░░░░░░░░░░░░░░░░█░\n",
    "# ░░░█░░░░░░░░░░░░░░░░░░░░░░░░░░█░\n",
    "# ░░░█░░░░░░░░░░░░░░░░░░░░░░░░░░█░\n",
    "# ░░░█░░░░░░░░░░░░░░░░░░░░░░░░░░█░\n",
    "# ░░░░░░░░░░░░░░░░░░░░░░░░░░░░░░░░\n",
    "# ░░░░░░░░░░░░░░░░░░░░░░░░░░░░░░░░░░░░░░░\n",
    "# ░█▀▄░█░█▄░█░█░█░█░░█▀░█▀▄░█▀░█▀▄░▄▀▀░█░\n",
    "# ░█░█░█░█▀██░█▀▄░█░░█▀░█▀▄░█▀░█▀▄░█░█░▀░\n",
    "# ░▀▀░░▀░▀░░▀░▀░▀░▀▀░▀▀░▀▀░░▀▀░▀░▀░░▀▀░▀░\n",
    "# ░░░░░░░░░░░░░░░░░░░░░░░░░░░░░░░░░░░░░░░\n",
    "# https://github.com/ecd1012/rpi_pose_estimation\n",
    "#### https://medium.com/analytics-vidhya/pose-estimation-on-the-raspberry-pi-4-83a02164eb8e\n",
    "# https://medium.com/tensorflow/real-time-human-pose-estimation-in-the-browser-with-tensorflow-js-7dd0bc881cd5\n",
    "# https://www.tensorflow.org/lite/examples/pose_estimation/overview\n",
    "# https://github.com/rwightman/posenet-python\n",
    "# https://github.com/tensorflow/tfjs-models/tree/master/pose-detection\n",
    "# https://github.com/tensorflow/tfjs-models/tree/master/pose-detection/src/movenet\n",
    "# https://deeplabcut.github.io/DeepLabCut/docs/intro.html\n",
    "# https://opensource.com/article/20/8/edit-images-python\n",
    "# https://www.geeksforgeeks.org/changing-the-contrast-and-brightness-of-an-image-using-python-opencv/"
   ]
  },
  {
   "cell_type": "markdown",
   "metadata": {},
   "source": [
    "#### Imports"
   ]
  },
  {
   "cell_type": "code",
   "execution_count": 1,
   "metadata": {},
   "outputs": [],
   "source": [
    "#   ____        _           ____                          _\n",
    "#  |  _ \\  __ _| |_ __ _   / ___|___  _ ____   _____ _ __| |_ ___ _ __\n",
    "#  | | | |/ _` | __/ _` | | |   / _ \\| '_ \\ \\ / / _ \\ '__| __/ _ \\ '__|\n",
    "#  | |_| | (_| | || (_| | | |__| (_) | | | \\ V /  __/ |  | ||  __/ |\n",
    "#  |____/ \\__,_|\\__\\__,_|  \\____\\___/|_| |_|\\_/ \\___|_|   \\__\\___|_|\n",
    "\n",
    "import math\n",
    "import time\n",
    "import numpy as np\n",
    "import scipy.io as sio\n",
    "import pandas as pd\n",
    "from tqdm.notebook import tnrange, tqdm\n",
    "import ipywidgets as widgets\n",
    "from IPython.display import display\n",
    "# ---------------------------------------------- #\n",
    "# Image_Manipulation\n",
    "# ---------------------------------------------- #\n",
    "import os\n",
    "from PIL import Image\n",
    "import cv2\n",
    "from ast import literal_eval\n",
    "\n",
    "import matplotlib.pyplot as plt\n",
    "from matplotlib.collections import LineCollection\n",
    "import matplotlib.patches as patches\n",
    "\n",
    "# ---------------------------------------------- #"
   ]
  },
  {
   "cell_type": "markdown",
   "metadata": {},
   "source": [
    "### Imports Data & Creates new Table"
   ]
  },
  {
   "cell_type": "code",
   "execution_count": 6,
   "metadata": {},
   "outputs": [
    {
     "name": "stdout",
     "output_type": "stream",
     "text": [
      "(array([[(array([[(array(['037454012.jpg'], dtype='<U13'),)]], dtype=[('name', 'O')]), array([[(array([[3.88073395]]), array([[(array([[601]], dtype=uint16), array([[380]], dtype=uint16))]],\n",
      "                      dtype=[('x', 'O'), ('y', 'O')]))                                                         ]],\n",
      "              dtype=[('scale', 'O'), ('objpos', 'O')]), array([], shape=(1, 0), dtype=float64), array([], shape=(1, 0), dtype=float64))                                                      ,\n",
      "        (array([[(array(['095071431.jpg'], dtype='<U13'),)]], dtype=[('name', 'O')]), array([[(array([[8.07816613]]), array([[(array([[881]], dtype=uint16), array([[394]], dtype=uint16))]],\n",
      "                      dtype=[('x', 'O'), ('y', 'O')]))                                                         ,\n",
      "                (array([[8.90412938]]), array([[(array([[338]], dtype=uint16), array([[210]], dtype=uint8))]],\n",
      "                      dtype=[('x', 'O'), ('y', 'O')]))                                                        ]],\n",
      "              dtype=[('scale', 'O'), ('objpos', 'O')]), array([], shape=(1, 0), dtype=float64), array([], shape=(1, 0), dtype=float64))                                                      ,\n",
      "        (array([[(array(['073199394.jpg'], dtype='<U13'),)]], dtype=[('name', 'O')]), array([[(array([[4.32666153]]), array([[(array([[619]], dtype=uint16), array([[350]], dtype=uint16))]],\n",
      "                      dtype=[('x', 'O'), ('y', 'O')]))                                                         ]],\n",
      "              dtype=[('scale', 'O'), ('objpos', 'O')]), array([], shape=(1, 0), dtype=float64), array([], shape=(1, 0), dtype=float64))                                                      ,\n",
      "        ...,\n",
      "        (array([[(array(['084761779.jpg'], dtype='<U13'),)]], dtype=[('name', 'O')]), array([[(array([[287]], dtype=uint16), array([[130]], dtype=uint8), array([[324]], dtype=uint16), array([[163]], dtype=uint8), array([[(array([[(array([[334]], dtype=uint16), array([[225]], dtype=uint8), array([[6]], dtype=uint8), array([[1]], dtype=uint8)),\n",
      "                                (array([[312]], dtype=uint16), array([[173]], dtype=uint8), array([[7]], dtype=uint8), array([[1]], dtype=uint8)),\n",
      "                                (array([[310.2242]]), array([[165.7604]]), array([[8]], dtype=uint8), array([], shape=(0, 0), dtype=uint8)),\n",
      "                                (array([[300.7758]]), array([[127.2396]]), array([[9]], dtype=uint8), array([], shape=(0, 0), dtype=uint8)),\n",
      "                                (array([[362]], dtype=uint16), array([[350]], dtype=uint16), array([[0]], dtype=uint8), array([[1]], dtype=uint8)),\n",
      "                                (array([[347]], dtype=uint16), array([[297]], dtype=uint16), array([[1]], dtype=uint8), array([[1]], dtype=uint8)),\n",
      "                                (array([[350]], dtype=uint16), array([[224]], dtype=uint8), array([[2]], dtype=uint8), array([[1]], dtype=uint8)),\n",
      "                                (array([[317]], dtype=uint16), array([[226]], dtype=uint8), array([[3]], dtype=uint8), array([[1]], dtype=uint8)),\n",
      "                                (array([[297]], dtype=uint16), array([[290]], dtype=uint16), array([[4]], dtype=uint8), array([[0]], dtype=uint8)),\n",
      "                                (array([[336]], dtype=uint16), array([[312]], dtype=uint16), array([[5]], dtype=uint8), array([[1]], dtype=uint8)),\n",
      "                                (array([[310]], dtype=uint16), array([[192]], dtype=uint8), array([[10]], dtype=uint8), array([[0]], dtype=uint8)),\n",
      "                                (array([[326]], dtype=uint16), array([[186]], dtype=uint8), array([[11]], dtype=uint8), array([[0]], dtype=uint8)),\n",
      "                                (array([[335]], dtype=uint16), array([[168]], dtype=uint8), array([[12]], dtype=uint8), array([[1]], dtype=uint8)),\n",
      "                                (array([[288]], dtype=uint16), array([[177]], dtype=uint8), array([[13]], dtype=uint8), array([[1]], dtype=uint8)),\n",
      "                                (array([[279]], dtype=uint16), array([[199]], dtype=uint8), array([[14]], dtype=uint8), array([[0]], dtype=uint8)),\n",
      "                                (array([[268]], dtype=uint16), array([[194]], dtype=uint8), array([[15]], dtype=uint8), array([[0]], dtype=uint8))]],\n",
      "                              dtype=[('x', 'O'), ('y', 'O'), ('id', 'O'), ('is_visible', 'O')]),)                                                    ]],\n",
      "                      dtype=[('point', 'O')]), array([[1.1898773]]), array([[(array([[330]], dtype=uint16), array([[208]], dtype=uint8))]],\n",
      "                      dtype=[('x', 'O'), ('y', 'O')]))                                                                                                                                                                                                                    ,\n",
      "                (array([[333]], dtype=uint16), array([[137]], dtype=uint8), array([[361]], dtype=uint16), array([[162]], dtype=uint8), array([[(array([[(array([[391]], dtype=uint16), array([[221]], dtype=uint8), array([[6]], dtype=uint8), array([[1]], dtype=uint8)),\n",
      "                                (array([[365]], dtype=uint16), array([[172]], dtype=uint8), array([[7]], dtype=uint8), array([[0]], dtype=uint8)),\n",
      "                                (array([[356.3796]]), array([[161.2245]]), array([[8]], dtype=uint8), array([], shape=(0, 0), dtype=uint8)),\n",
      "                                (array([[337.6204]]), array([[137.7755]]), array([[9]], dtype=uint8), array([], shape=(0, 0), dtype=uint8)),\n",
      "                                (array([[457]], dtype=uint16), array([[324]], dtype=uint16), array([[0]], dtype=uint8), array([[1]], dtype=uint8)),\n",
      "                                (array([[420]], dtype=uint16), array([[282]], dtype=uint16), array([[1]], dtype=uint8), array([[1]], dtype=uint8)),\n",
      "                                (array([[403]], dtype=uint16), array([[219]], dtype=uint8), array([[2]], dtype=uint8), array([[1]], dtype=uint8)),\n",
      "                                (array([[379]], dtype=uint16), array([[222]], dtype=uint8), array([[3]], dtype=uint8), array([[1]], dtype=uint8)),\n",
      "                                (array([[355]], dtype=uint16), array([[267]], dtype=uint16), array([[4]], dtype=uint8), array([[0]], dtype=uint8)),\n",
      "                                (array([[379]], dtype=uint16), array([[314]], dtype=uint16), array([[5]], dtype=uint8), array([[1]], dtype=uint8)),\n",
      "                                (array([[356]], dtype=uint16), array([[182]], dtype=uint8), array([[10]], dtype=uint8), array([[0]], dtype=uint8)),\n",
      "                                (array([[373]], dtype=uint16), array([[186]], dtype=uint8), array([[11]], dtype=uint8), array([[0]], dtype=uint8)),\n",
      "                                (array([[380]], dtype=uint16), array([[172]], dtype=uint8), array([[12]], dtype=uint8), array([[0]], dtype=uint8)),\n",
      "                                (array([[349]], dtype=uint16), array([[171]], dtype=uint8), array([[13]], dtype=uint8), array([[1]], dtype=uint8)),\n",
      "                                (array([[334]], dtype=uint16), array([[193]], dtype=uint8), array([[14]], dtype=uint8), array([[0]], dtype=uint8)),\n",
      "                                (array([[319]], dtype=uint16), array([[194]], dtype=uint8), array([[15]], dtype=uint8), array([[0]], dtype=uint8))]],\n",
      "                              dtype=[('x', 'O'), ('y', 'O'), ('id', 'O'), ('is_visible', 'O')]),)                                                    ]],\n",
      "                      dtype=[('point', 'O')]), array([[0.90087957]]), array([[(array([[372]], dtype=uint16), array([[216]], dtype=uint8))]],\n",
      "                      dtype=[('x', 'O'), ('y', 'O')]))                                                                                                                                                                                                                    ,\n",
      "                (array([[400]], dtype=uint16), array([[140]], dtype=uint8), array([[428]], dtype=uint16), array([[168]], dtype=uint8), array([[(array([[(array([[459]], dtype=uint16), array([[224]], dtype=uint8), array([[6]], dtype=uint8), array([[1]], dtype=uint8)),\n",
      "                                (array([[418]], dtype=uint16), array([[177]], dtype=uint8), array([[7]], dtype=uint8), array([[0]], dtype=uint8)),\n",
      "                                (array([[416.7139]]), array([[169.605]]), array([[8]], dtype=uint8), array([], shape=(0, 0), dtype=uint8)),\n",
      "                                (array([[411.2861]]), array([[138.395]]), array([[9]], dtype=uint8), array([], shape=(0, 0), dtype=uint8)),\n",
      "                                (array([[483]], dtype=uint16), array([[292]], dtype=uint16), array([[0]], dtype=uint8), array([[0]], dtype=uint8)),\n",
      "                                (array([[442]], dtype=uint16), array([[259]], dtype=uint16), array([[1]], dtype=uint8), array([[0]], dtype=uint8)),\n",
      "                                (array([[468]], dtype=uint16), array([[221]], dtype=uint8), array([[2]], dtype=uint8), array([[1]], dtype=uint8)),\n",
      "                                (array([[449]], dtype=uint16), array([[226]], dtype=uint8), array([[3]], dtype=uint8), array([[1]], dtype=uint8)),\n",
      "                                (array([[461]], dtype=uint16), array([[271]], dtype=uint16), array([[4]], dtype=uint8), array([[1]], dtype=uint8)),\n",
      "                                (array([[500]], dtype=uint16), array([[315]], dtype=uint16), array([[5]], dtype=uint8), array([[1]], dtype=uint8)),\n",
      "                                (array([[411]], dtype=uint16), array([[187]], dtype=uint8), array([[10]], dtype=uint8), array([[0]], dtype=uint8)),\n",
      "                                (array([[427]], dtype=uint16), array([[193]], dtype=uint8), array([[11]], dtype=uint8), array([[0]], dtype=uint8)),\n",
      "                                (array([[432]], dtype=uint16), array([[175]], dtype=uint8), array([[12]], dtype=uint8), array([[0]], dtype=uint8)),\n",
      "                                (array([[403]], dtype=uint16), array([[179]], dtype=uint8), array([[13]], dtype=uint8), array([[1]], dtype=uint8)),\n",
      "                                (array([[403]], dtype=uint16), array([[205]], dtype=uint8), array([[14]], dtype=uint8), array([[0]], dtype=uint8)),\n",
      "                                (array([[386]], dtype=uint16), array([[198]], dtype=uint8), array([[15]], dtype=uint8), array([[0]], dtype=uint8))]],\n",
      "                              dtype=[('x', 'O'), ('y', 'O'), ('id', 'O'), ('is_visible', 'O')]),)                                                    ]],\n",
      "                      dtype=[('point', 'O')]), array([[0.95035151]]), array([[(array([[437]], dtype=uint16), array([[207]], dtype=uint8))]],\n",
      "                      dtype=[('x', 'O'), ('y', 'O')]))                                                                                                                                                                                                                    ,\n",
      "                (array([[212]], dtype=uint8), array([[153]], dtype=uint8), array([[244]], dtype=uint8), array([[173]], dtype=uint8), array([[(array([[(array([[263]], dtype=uint16), array([[225]], dtype=uint8), array([[6]], dtype=uint8), array([[1]], dtype=uint8)),\n",
      "                                (array([[233]], dtype=uint8), array([[179]], dtype=uint8), array([[7]], dtype=uint8), array([[0]], dtype=uint8)),\n",
      "                                (array([[232.5023]]), array([[177.4073]]), array([[8]], dtype=uint8), array([], shape=(0, 0), dtype=uint8)),\n",
      "                                (array([[223.4977]]), array([[148.5927]]), array([[9]], dtype=uint8), array([], shape=(0, 0), dtype=uint8)),\n",
      "                                (array([[280]], dtype=uint16), array([[287]], dtype=uint16), array([[1]], dtype=uint8), array([[1]], dtype=uint8)),\n",
      "                                (array([[277]], dtype=uint16), array([[224]], dtype=uint8), array([[2]], dtype=uint8), array([[1]], dtype=uint8)),\n",
      "                                (array([[248]], dtype=uint8), array([[225]], dtype=uint8), array([[3]], dtype=uint8), array([[1]], dtype=uint8)),\n",
      "                                (array([[222]], dtype=uint8), array([[280]], dtype=uint16), array([[4]], dtype=uint8), array([[1]], dtype=uint8)),\n",
      "                                (array([[237]], dtype=uint8), array([[192]], dtype=uint8), array([[10]], dtype=uint8), array([[0]], dtype=uint8)),\n",
      "                                (array([[249]], dtype=uint8), array([[193]], dtype=uint8), array([[11]], dtype=uint8), array([[0]], dtype=uint8)),\n",
      "                                (array([[251]], dtype=uint8), array([[178]], dtype=uint8), array([[12]], dtype=uint8), array([[0]], dtype=uint8)),\n",
      "                                (array([[214]], dtype=uint8), array([[179]], dtype=uint8), array([[13]], dtype=uint8), array([[1]], dtype=uint8)),\n",
      "                                (array([[190]], dtype=uint8), array([[202]], dtype=uint8), array([[14]], dtype=uint8), array([[1]], dtype=uint8)),\n",
      "                                (array([[190]], dtype=uint8), array([[201]], dtype=uint8), array([[15]], dtype=uint8), array([[0]], dtype=uint8))]],\n",
      "                              dtype=[('x', 'O'), ('y', 'O'), ('id', 'O'), ('is_visible', 'O')]),)                                                   ]],\n",
      "                      dtype=[('point', 'O')]), array([[0.90566219]]), array([[(array([[230]], dtype=uint8), array([[216]], dtype=uint8))]],\n",
      "                      dtype=[('x', 'O'), ('y', 'O')]))                                                                                                                                                                                                                  ,\n",
      "                (array([[0]], dtype=uint8), array([[135]], dtype=uint8), array([[76]], dtype=uint8), array([[216]], dtype=uint8), array([[(array([[(array([[68]], dtype=uint8), array([[416]], dtype=uint16), array([[6]], dtype=uint8), array([[1]], dtype=uint8)),\n",
      "                                (array([[107]], dtype=uint8), array([[413]], dtype=uint16), array([[2]], dtype=uint8), array([[1]], dtype=uint8)),\n",
      "                                (array([[29]], dtype=uint8), array([[419]], dtype=uint16), array([[3]], dtype=uint8), array([[1]], dtype=uint8)),\n",
      "                                (array([[167]], dtype=uint8), array([[342]], dtype=uint16), array([[10]], dtype=uint8), array([[1]], dtype=uint8)),\n",
      "                                (array([[132]], dtype=uint8), array([[316]], dtype=uint16), array([[11]], dtype=uint8), array([[1]], dtype=uint8)),\n",
      "                                (array([[91]], dtype=uint8), array([[237]], dtype=uint8), array([[12]], dtype=uint8), array([[1]], dtype=uint8))]],\n",
      "                              dtype=[('x', 'O'), ('y', 'O'), ('id', 'O'), ('is_visible', 'O')]),)                                                  ]],\n",
      "                      dtype=[('point', 'O')]), array([[2.66572917]]), array([[(array([[62]], dtype=uint8), array([[338]], dtype=uint16))]],\n",
      "                      dtype=[('x', 'O'), ('y', 'O')]))                                                                                                                                                                                                              ]],\n",
      "              dtype=[('x1', 'O'), ('y1', 'O'), ('x2', 'O'), ('y2', 'O'), ('annopoints', 'O'), ('scale', 'O'), ('objpos', 'O')]), array([[158]], dtype=uint8), array([[793]], dtype=uint16))                                                                                                                                                             ,\n",
      "        (array([[(array(['092025825.jpg'], dtype='<U13'),)]], dtype=[('name', 'O')]), array([[(array([[9.88033684]]), array([[(array([[1224]], dtype=uint16), array([[553]], dtype=uint16))]],\n",
      "                      dtype=[('x', 'O'), ('y', 'O')]))                                                          ,\n",
      "                (array([[8.61950903]]), array([[(array([[473]], dtype=uint16), array([[587]], dtype=uint16))]],\n",
      "                      dtype=[('x', 'O'), ('y', 'O')]))                                                         ]],\n",
      "              dtype=[('scale', 'O'), ('objpos', 'O')]), array([], shape=(1, 0), dtype=float64), array([], shape=(1, 0), dtype=float64))                                                       ,\n",
      "        (array([[(array(['053686627.jpg'], dtype='<U13'),)]], dtype=[('name', 'O')]), array([[(array([[8.84412212]]), array([[(array([[1277]], dtype=uint16), array([[681]], dtype=uint16))]],\n",
      "                      dtype=[('x', 'O'), ('y', 'O')]))                                                          ,\n",
      "                (array([[8.73336224]]), array([[(array([[526]], dtype=uint16), array([[503]], dtype=uint16))]],\n",
      "                      dtype=[('x', 'O'), ('y', 'O')]))                                                         ]],\n",
      "              dtype=[('scale', 'O'), ('objpos', 'O')]), array([], shape=(1, 0), dtype=float64), array([], shape=(1, 0), dtype=float64))                                                       ]],\n",
      "      dtype=[('image', 'O'), ('annorect', 'O'), ('frame_sec', 'O'), ('vididx', 'O')]), array([[0, 0, 0, ..., 1, 0, 0]], dtype=uint8), array(['12'], dtype='<U2'), array([[array([[1]], dtype=uint8)],\n",
      "       [array([], shape=(0, 1), dtype=uint8)],\n",
      "       [array([[1]], dtype=uint8)],\n",
      "       ...,\n",
      "       [array([[5]], dtype=uint8)],\n",
      "       [array([], shape=(0, 1), dtype=uint8)],\n",
      "       [array([], shape=(0, 1), dtype=uint8)]], dtype=object), array([[(array([], dtype='<U1'), array([], dtype='<U1'), array([[-1]], dtype=int16))],\n",
      "       [(array([], dtype='<U1'), array([], dtype='<U1'), array([[-1]], dtype=int16))],\n",
      "       [(array([], dtype='<U1'), array([], dtype='<U1'), array([[-1]], dtype=int16))],\n",
      "       ...,\n",
      "       [(array(['transportation'], dtype='<U14'), array(['pushing car'], dtype='<U11'), array([[972]], dtype=uint16))],\n",
      "       [(array([], dtype='<U1'), array([], dtype='<U1'), array([[-1]], dtype=int16))],\n",
      "       [(array([], dtype='<U1'), array([], dtype='<U1'), array([[-1]], dtype=int16))]],\n",
      "      dtype=[('cat_name', 'O'), ('act_name', 'O'), ('act_id', 'O')]), array([[array(['-08Vnk8XONY'], dtype='<U11'),\n",
      "        array(['-0YdHqlKV8w'], dtype='<U11'),\n",
      "        array(['-1nf9pRuuZw'], dtype='<U11'), ...,\n",
      "        array(['zvMWkSAcSVc'], dtype='<U11'),\n",
      "        array(['zwqQrtD2L84'], dtype='<U11'),\n",
      "        array(['zz5DvBqit8A'], dtype='<U11')]], dtype=object))\n"
     ]
    }
   ],
   "source": [
    "d = sio.loadmat(\"./mpii_human_pose_v1_u12_1.mat\")\n",
    "m = d[\"RELEASE\"]\n",
    "print(m[0,0])"
   ]
  },
  {
   "cell_type": "code",
   "execution_count": 59,
   "metadata": {},
   "outputs": [
    {
     "data": {
      "application/vnd.jupyter.widget-view+json": {
       "model_id": "616e45d8047b479b8e43111312ae1fd5",
       "version_major": 2,
       "version_minor": 0
      },
      "text/plain": [
       "Valid(value=True, description='Success!')"
      ]
     },
     "metadata": {},
     "output_type": "display_data"
    }
   ],
   "source": [
    "#   ,-.       _,---._ __  / \\\n",
    "#  /  )    .-'       `./ /   \\\n",
    "# (  (   ,'            `/    /|\n",
    "#  \\  `-\"             \\'\\   / |\n",
    "#   `.              ,  \\ \\ /  |\n",
    "#    /`.          ,'-`----Y   |\n",
    "#   (            ;        |   '\n",
    "#   |  ,-.    ,-'  Connor |  /\n",
    "#   |  | (   |   Contursi | /\n",
    "#   )  |  \\  `.___________|/\n",
    "#   `--'   `--'\n",
    "try:\n",
    "    # Imports MatLab file and sets release info\n",
    "    matlab = sio.loadmat(\"./mpii_human_pose_v1_u12_1.mat\", struct_as_record=False)\n",
    "    release = matlab[\"RELEASE\"]\n",
    "    objects = release[0, 0]\n",
    "\n",
    "    # Data types pulled from MatLab file\n",
    "    annotations = objects.__dict__[\"annolist\"]\n",
    "    image_train = objects.__dict__[\"img_train\"]\n",
    "    single_person = objects.__dict__[\"single_person\"]\n",
    "\n",
    "    # Labels for data columns\n",
    "    data_labels = [\n",
    "        \"NAME\",\n",
    "        \"r ankle_X\",\n",
    "        \"r ankle_Y\",\n",
    "        \"r knee_X\",\n",
    "        \"r knee_Y\",\n",
    "        \"r hip_X\",\n",
    "        \"r hip_Y\",\n",
    "        \"l hip_X\",\n",
    "        \"l hip_Y\",\n",
    "        \"l knee_X\",\n",
    "        \"l knee_Y\",\n",
    "        \"l ankle_X\",\n",
    "        \"l ankle_Y\",\n",
    "        \"pelvis_X\",\n",
    "        \"pelvis_Y\",\n",
    "        \"thorax_X\",\n",
    "        \"thorax_Y\",\n",
    "        \"upper neck_X\",\n",
    "        \"upper neck_Y\",\n",
    "        \"head top_X\",\n",
    "        \"head top_Y\",\n",
    "        \"r wrist_X\",\n",
    "        \"r wrist_Y\",\n",
    "        \"r elbow_X\",\n",
    "        \"r elbow_Y\",\n",
    "        \"r shoulder_X\",\n",
    "        \"r shoulder_Y\",\n",
    "        \"l shoulder_X\",\n",
    "        \"l shoulder_Y\",\n",
    "        \"l elbow_X\",\n",
    "        \"l elbow_Y\",\n",
    "        \"l wrist_X\",\n",
    "        \"l wrist_Y\",\n",
    "        \"Single_Person\",\n",
    "        \"Scale\",\n",
    "    ]\n",
    "\n",
    "    # Labels added to data\n",
    "    data = pd.DataFrame(columns=data_labels)\n",
    "\n",
    "# ============================================================= #\n",
    "    success = widgets.Valid(value=True, description=\"Success!\",)\n",
    "    display(success)\n",
    "except Exception as e:\n",
    "    failure = widgets.Valid(value=False, description=\"Failure!\",)\n",
    "    display(failure)\n",
    "    print(e)\n",
    "# ============================================================= #"
   ]
  },
  {
   "cell_type": "markdown",
   "metadata": {},
   "source": [
    "## Converts Data into .csv Format"
   ]
  },
  {
   "cell_type": "code",
   "execution_count": 53,
   "metadata": {
    "scrolled": true
   },
   "outputs": [
    {
     "data": {
      "application/vnd.jupyter.widget-view+json": {
       "model_id": "f5780f9b478a49d998c02b7230b74fd7",
       "version_major": 2,
       "version_minor": 0
      },
      "text/plain": [
       "  0%|          | 0/24987 [00:00<?, ?it/s]"
      ]
     },
     "metadata": {},
     "output_type": "display_data"
    },
    {
     "data": {
      "application/vnd.jupyter.widget-view+json": {
       "model_id": "b546ae6e15a5496aa08b993e75f6ef6e",
       "version_major": 2,
       "version_minor": 0
      },
      "text/plain": [
       "Valid(value=True, description='Success!')"
      ]
     },
     "metadata": {},
     "output_type": "display_data"
    }
   ],
   "source": [
    "#   ,-.       _,---._ __  / \\\n",
    "#  /  )    .-'       `./ /   \\\n",
    "# (  (   ,'            `/    /|\n",
    "#  \\  `-\"             \\'\\   / |\n",
    "#   `.              ,  \\ \\ /  |\n",
    "#    /`.          ,'-`----Y   |\n",
    "#   (            ;        |   '\n",
    "#   |  ,-.    ,-'  Connor |  /\n",
    "#   |  | (   |   Contursi | /\n",
    "#   )  |  \\  `.___________|/\n",
    "#   `--'   `--'\n",
    "\n",
    "try:\n",
    "    # Processes data into proper CSV format\n",
    "    for a in tqdm(range(annotations.shape[1])):\n",
    "        \n",
    "        if image_train[0,a] == 0:\n",
    "            continue\n",
    "        # --------------------#\n",
    "        temporary_array = []  # Creates a temporary array for the data\n",
    "        object_list = annotations[0, a]  # Goes to first row in Annorect branch\n",
    "\n",
    "        annorect = object_list.__dict__[\"annorect\"]  # Accesses Annorect branch\n",
    "        image_name = object_list.__dict__[\"image\"]  # Accesses image branch\n",
    "        # --------------------#\n",
    "        if annorect.shape[0] == 0:\n",
    "            continue\n",
    "        # --------------------#\n",
    "        object_annorect = annorect[0, 0]  # Accesses inside Annorect branch\n",
    "        object_image = image_name[0, 0]  # Accesses inside name branch\n",
    "        # --------------------#\n",
    "        # Checks to make sure image has annotations\n",
    "        if \"annopoints\" not in object_annorect._fieldnames:\n",
    "            continue\n",
    "        # --------------------#\n",
    "        name_temp = object_image.__dict__[\"name\"]\n",
    "        image_name = name_temp[0]\n",
    "        temporary_array.append(image_name)\n",
    "        annotation_points = object_annorect.__dict__[\"annopoints\"]\n",
    "        # --------------------#\n",
    "        if annotation_points.shape[0] == 0:\n",
    "            continue\n",
    "        # --------------------#\n",
    "        object_points = annotation_points[0, 0]\n",
    "        points = object_points.__dict__[\"point\"]\n",
    "        # --------------------#\n",
    "        for b in range(0, 32):\n",
    "            temporary_array.append(-1)\n",
    "        # --------------------#\n",
    "        # Takes care of joint position annotations\n",
    "        for c in range(0, points.shape[1]):\n",
    "            pointer = points[0, c]\n",
    "            points_id = pointer.__dict__[\"id\"]\n",
    "            # x & y annotations\n",
    "            x_point = pointer.__dict__[\"x\"]\n",
    "            y_point = pointer.__dict__[\"y\"]\n",
    "            index = 2 * points_id[0][0] + 1\n",
    "\n",
    "            temporary_array[index] = x_point[0][0]\n",
    "            temporary_array[index + 1] = y_point[0][0]\n",
    "        # --------------------#\n",
    "        position = object_annorect.__dict__[\"objpos\"]\n",
    "        temporary_array.append(position[0][0])\n",
    "\n",
    "        scale = object_annorect.__dict__[\"scale\"]\n",
    "        temporary_array.append(scale[0][0])\n",
    "\n",
    "        hold_data = pd.DataFrame([temporary_array], columns=data_labels)\n",
    "        data = pd.concat([data, hold_data])\n",
    "\n",
    "# ============================================================= #\n",
    "    success = widgets.Valid(value=True, description=\"Success!\",)\n",
    "    display(success)\n",
    "except Exception as e:\n",
    "    failure = widgets.Valid(value=False, description=\"Failure!\",)\n",
    "    display(failure)\n",
    "    print(e)\n",
    "# ============================================================= #"
   ]
  },
  {
   "cell_type": "markdown",
   "metadata": {},
   "source": [
    "#### Creates save state before dropping columns"
   ]
  },
  {
   "cell_type": "code",
   "execution_count": 54,
   "metadata": {},
   "outputs": [
    {
     "name": "stdout",
     "output_type": "stream",
     "text": [
      "File size: 4265.6 kb\n"
     ]
    },
    {
     "data": {
      "application/vnd.jupyter.widget-view+json": {
       "model_id": "4382e30208ab4a73867fa2d84938a2de",
       "version_major": 2,
       "version_minor": 0
      },
      "text/plain": [
       "Valid(value=True, description='Success!')"
      ]
     },
     "metadata": {},
     "output_type": "display_data"
    }
   ],
   "source": [
    "# Lets you know if code was successful or not\n",
    "try:\n",
    "    # Creates new csv and deletes previous version if it's still in existence\n",
    "    if os.path.exists(\"./mpii_dataset - unmodified.csv\"):  # File path in current directory\n",
    "        os.remove(\"mpii_dataset - unmodified.csv\")  # Deletes files [if exists]\n",
    "\n",
    "    data.to_csv(\"mpii_dataset - unmodified.csv\")  # Saves data to .csv\n",
    "\n",
    "    # Checks file size just to make sure that it's not empty\n",
    "    file_size = os.path.getsize(\"mpii_dataset - unmodified.csv\")\n",
    "    kb = round(file_size / 1024, 1)  # Kilobytes\n",
    "    print(\"File size:\", kb, \"kb\")\n",
    "\n",
    "# ============================================================= #\n",
    "    success = widgets.Valid(value=True, description=\"Success!\",)\n",
    "    display(success)\n",
    "except Exception as e:\n",
    "    failure = widgets.Valid(value=False, description=\"Failure!\",)\n",
    "    display(failure)\n",
    "    print(e)\n",
    "# ============================================================= #"
   ]
  },
  {
   "cell_type": "markdown",
   "metadata": {},
   "source": [
    "#### Removes unnecessary columns"
   ]
  },
  {
   "cell_type": "code",
   "execution_count": 55,
   "metadata": {},
   "outputs": [
    {
     "data": {
      "application/vnd.jupyter.widget-view+json": {
       "model_id": "1b8f4e84875f48eebedd2063ca275827",
       "version_major": 2,
       "version_minor": 0
      },
      "text/plain": [
       "Valid(value=True, description='Success!')"
      ]
     },
     "metadata": {},
     "output_type": "display_data"
    }
   ],
   "source": [
    "try:\n",
    "    # Data points that will be removed:\n",
    "    # \"r knee_X\", \"r knee_Y\", \"l knee_X\", \"l knee_Y\", \"thorax_X\",\n",
    "    # \"thorax_Y\", \"upper neck_X\", \"upper neck_Y\", \"head top_X\",\n",
    "    # \"head top_Y\", \"r elbow_X\", \"r elbow_Y\", \"l elbow_X\",\n",
    "    # \"l elbow_Y\", \"Activity\", \"Category\"\n",
    "\n",
    "    # \"Single_Person\", is broken, so it's being dropped\n",
    "    \n",
    "    # Removes unnecessary data points that won't be utilized\n",
    "    data.drop(\n",
    "        [\n",
    "            # \"r knee_X\",\n",
    "            # \"r knee_Y\",\n",
    "            # \"l knee_X\",\n",
    "            # \"l knee_Y\",\n",
    "            \"thorax_X\",\n",
    "            \"thorax_Y\",\n",
    "            \"upper neck_X\",\n",
    "            \"upper neck_Y\",\n",
    "            \"head top_X\",\n",
    "            \"head top_Y\",\n",
    "            \"Single_Person\",\n",
    "            # \"r elbow_X\",\n",
    "            # \"r elbow_Y\",\n",
    "            # \"l elbow_X\",\n",
    "            # \"l elbow_Y\",\n",
    "            # \"Activity\",\n",
    "            # \"Category\",\n",
    "        ],\n",
    "        inplace=True,\n",
    "        axis=1,\n",
    "    )\n",
    "    \n",
    "# ============================================================= #\n",
    "    success = widgets.Valid(value=True, description=\"Success!\",)\n",
    "    display(success)\n",
    "except Exception as e:\n",
    "    failure = widgets.Valid(value=False, description=\"Failure!\",)\n",
    "    display(failure)\n",
    "    print(e)\n",
    "# ============================================================= #"
   ]
  },
  {
   "cell_type": "markdown",
   "metadata": {},
   "source": [
    "### Creates file for data and saves data"
   ]
  },
  {
   "cell_type": "code",
   "execution_count": 56,
   "metadata": {},
   "outputs": [
    {
     "name": "stdout",
     "output_type": "stream",
     "text": [
      "File size: 2352.0 kb\n"
     ]
    },
    {
     "data": {
      "application/vnd.jupyter.widget-view+json": {
       "model_id": "94ae345d5ccc4529a73562160fd6c09f",
       "version_major": 2,
       "version_minor": 0
      },
      "text/plain": [
       "Valid(value=True, description='Success!')"
      ]
     },
     "metadata": {},
     "output_type": "display_data"
    }
   ],
   "source": [
    "# Lets you know if code was successful or not\n",
    "try:\n",
    "    # Creates new csv and deletes previous version if it's still in existence\n",
    "    if os.path.exists(\"./mpii_dataset.csv\"):  # File path in current directory\n",
    "        os.remove(\"mpii_dataset.csv\")  # Deletes files [if exists]\n",
    "\n",
    "    data.to_csv(\"mpii_dataset.csv\")  # Saves data to .csv\n",
    "\n",
    "    # Checks file size just to make sure that it's not empty\n",
    "    file_size = os.path.getsize(\"mpii_dataset.csv\")\n",
    "    kb = round(file_size / 1024, 1)  # Kilobytes\n",
    "    print(\"File size:\", kb, \"kb\")\n",
    "\n",
    "# ============================================================= #\n",
    "    success = widgets.Valid(value=True, description=\"Success!\",)\n",
    "    display(success)\n",
    "except Exception as e:\n",
    "    failure = widgets.Valid(value=False, description=\"Failure!\",)\n",
    "    display(failure)\n",
    "    print(e)\n",
    "# ============================================================= #"
   ]
  },
  {
   "cell_type": "markdown",
   "metadata": {},
   "source": [
    "### Converts CSV file to json for easier keypoint application"
   ]
  },
  {
   "cell_type": "code",
   "execution_count": 57,
   "metadata": {},
   "outputs": [
    {
     "data": {
      "application/vnd.jupyter.widget-view+json": {
       "model_id": "f8aaf512a9e8423e98cc1a40c7e13ff4",
       "version_major": 2,
       "version_minor": 0
      },
      "text/plain": [
       "Valid(value=True, description='Success!')"
      ]
     },
     "metadata": {},
     "output_type": "display_data"
    }
   ],
   "source": [
    "# Lets you know if code was successful or not\n",
    "try:\n",
    "    import json\n",
    "    import csv\n",
    "\n",
    "    csvFilePath = r\"mpii_dataset.csv\"\n",
    "    jsonFilePath = r\"mpii_dataset.json\"\n",
    "\n",
    "\n",
    "    def make_json(csvFilePath, jsonFilePath):\n",
    "        data = {}\n",
    "        with open(csvFilePath, encoding='utf-8') as csvf:\n",
    "            csvReader = csv.DictReader(csvf)\n",
    "\n",
    "            for rows in csvReader:\n",
    "                keys = rows['NAME']\n",
    "                data[keys] = rows\n",
    "\n",
    "\n",
    "        with open(jsonFilePath, 'w',  encoding='utf-8') as jsonf:\n",
    "            jsonf.write(json.dumps(data,indent=4))\n",
    "\n",
    "\n",
    "\n",
    "    make_json(csvFilePath, jsonFilePath)\n",
    "\n",
    "# ============================================================= #\n",
    "    success = widgets.Valid(value=True, description=\"Success!\",)\n",
    "    display(success)\n",
    "except Exception as e:\n",
    "    failure = widgets.Valid(value=False, description=\"Failure!\",)\n",
    "    display(failure)\n",
    "    print(e)\n",
    "# ============================================================= #"
   ]
  }
 ],
 "metadata": {
  "kernelspec": {
   "display_name": "Python 3 (ipykernel)",
   "language": "python",
   "name": "python3"
  },
  "language_info": {
   "codemirror_mode": {
    "name": "ipython",
    "version": 3
   },
   "file_extension": ".py",
   "mimetype": "text/x-python",
   "name": "python",
   "nbconvert_exporter": "python",
   "pygments_lexer": "ipython3",
   "version": "3.9.7"
  }
 },
 "nbformat": 4,
 "nbformat_minor": 2
}
